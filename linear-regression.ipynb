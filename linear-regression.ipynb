{
 "cells": [
  {
   "cell_type": "code",
   "execution_count": 857,
   "metadata": {},
   "outputs": [],
   "source": [
    "import pandas as pd\n",
    "from matplotlib import pyplot as plt\n",
    "import datetime\n",
    "from datetime import timedelta\n",
    "from datetime import datetime\n",
    "\n",
    "from sklearn.metrics import mean_absolute_error\n",
    "from sklearn.metrics import mean_squared_error\n",
    "from sklearn.metrics import mean_absolute_error\n",
    "import numpy as np"
   ]
  },
  {
   "cell_type": "code",
   "execution_count": 858,
   "metadata": {},
   "outputs": [],
   "source": [
    "CURRENT_LOCATION = \"bolz\""
   ]
  },
  {
   "cell_type": "code",
   "execution_count": 856,
   "metadata": {},
   "outputs": [],
   "source": [
    "path_to_file = 'APPA_data_merged.csv'\n",
    "df = pd.read_csv(path_to_file, parse_dates=[\"Data\"])\n",
    "df = df[df.Stazione == \"Via Bolzano\"]\n",
    "df = df[df.Inquinante == \"PM10\"]"
   ]
  },
  {
   "cell_type": "markdown",
   "metadata": {},
   "source": [
    "Makes the daily mean from the hour values"
   ]
  },
  {
   "cell_type": "code",
   "execution_count": 859,
   "metadata": {},
   "outputs": [],
   "source": [
    "\n",
    "df_daily = df.resample(\"D\", on='Data').mean()\n",
    "df_daily = df_daily.reset_index()"
   ]
  },
  {
   "cell_type": "code",
   "execution_count": 860,
   "metadata": {},
   "outputs": [
    {
     "data": {
      "text/html": [
       "<div>\n",
       "<style scoped>\n",
       "    .dataframe tbody tr th:only-of-type {\n",
       "        vertical-align: middle;\n",
       "    }\n",
       "\n",
       "    .dataframe tbody tr th {\n",
       "        vertical-align: top;\n",
       "    }\n",
       "\n",
       "    .dataframe thead th {\n",
       "        text-align: right;\n",
       "    }\n",
       "</style>\n",
       "<table border=\"1\" class=\"dataframe\">\n",
       "  <thead>\n",
       "    <tr style=\"text-align: right;\">\n",
       "      <th></th>\n",
       "      <th>Data</th>\n",
       "      <th>Valore</th>\n",
       "    </tr>\n",
       "  </thead>\n",
       "  <tbody>\n",
       "    <tr>\n",
       "      <th>0</th>\n",
       "      <td>2012-01-01</td>\n",
       "      <td>55.727273</td>\n",
       "    </tr>\n",
       "    <tr>\n",
       "      <th>1</th>\n",
       "      <td>2012-01-02</td>\n",
       "      <td>62.291667</td>\n",
       "    </tr>\n",
       "    <tr>\n",
       "      <th>2</th>\n",
       "      <td>2012-01-03</td>\n",
       "      <td>36.708333</td>\n",
       "    </tr>\n",
       "    <tr>\n",
       "      <th>3</th>\n",
       "      <td>2012-01-04</td>\n",
       "      <td>33.041667</td>\n",
       "    </tr>\n",
       "    <tr>\n",
       "      <th>4</th>\n",
       "      <td>2012-01-05</td>\n",
       "      <td>26.375000</td>\n",
       "    </tr>\n",
       "  </tbody>\n",
       "</table>\n",
       "</div>"
      ],
      "text/plain": [
       "        Data     Valore\n",
       "0 2012-01-01  55.727273\n",
       "1 2012-01-02  62.291667\n",
       "2 2012-01-03  36.708333\n",
       "3 2012-01-04  33.041667\n",
       "4 2012-01-05  26.375000"
      ]
     },
     "execution_count": 860,
     "metadata": {},
     "output_type": "execute_result"
    }
   ],
   "source": [
    "df_daily.head()"
   ]
  },
  {
   "cell_type": "code",
   "execution_count": 861,
   "metadata": {},
   "outputs": [],
   "source": [
    "weather_file_path = \"weather_data.csv\"\n",
    "weather_df = pd.read_csv(weather_file_path, parse_dates=[\"Data\"])"
   ]
  },
  {
   "cell_type": "code",
   "execution_count": 862,
   "metadata": {},
   "outputs": [
    {
     "data": {
      "text/plain": [
       "['rg', 'bolz', 'parco', 'borgo', 'piana', 'avio', 'rov', 'mgazza']"
      ]
     },
     "execution_count": 862,
     "metadata": {},
     "output_type": "execute_result"
    }
   ],
   "source": [
    "locations = list(set(weather_df.columns[1:].map(lambda x: x.split()[0])))\n",
    "locations"
   ]
  },
  {
   "cell_type": "code",
   "execution_count": 863,
   "metadata": {},
   "outputs": [
    {
     "name": "stderr",
     "output_type": "stream",
     "text": [
      "C:\\Users\\thoma\\AppData\\Local\\Temp\\ipykernel_3592\\2564517573.py:10: SettingWithCopyWarning: \n",
      "A value is trying to be set on a copy of a slice from a DataFrame.\n",
      "Try using .loc[row_indexer,col_indexer] = value instead\n",
      "\n",
      "See the caveats in the documentation: https://pandas.pydata.org/pandas-docs/stable/user_guide/indexing.html#returning-a-view-versus-a-copy\n",
      "  location_df[\"Location\"] = location\n",
      "C:\\Users\\thoma\\AppData\\Local\\Temp\\ipykernel_3592\\2564517573.py:10: SettingWithCopyWarning: \n",
      "A value is trying to be set on a copy of a slice from a DataFrame.\n",
      "Try using .loc[row_indexer,col_indexer] = value instead\n",
      "\n",
      "See the caveats in the documentation: https://pandas.pydata.org/pandas-docs/stable/user_guide/indexing.html#returning-a-view-versus-a-copy\n",
      "  location_df[\"Location\"] = location\n",
      "C:\\Users\\thoma\\AppData\\Local\\Temp\\ipykernel_3592\\2564517573.py:10: SettingWithCopyWarning: \n",
      "A value is trying to be set on a copy of a slice from a DataFrame.\n",
      "Try using .loc[row_indexer,col_indexer] = value instead\n",
      "\n",
      "See the caveats in the documentation: https://pandas.pydata.org/pandas-docs/stable/user_guide/indexing.html#returning-a-view-versus-a-copy\n",
      "  location_df[\"Location\"] = location\n",
      "C:\\Users\\thoma\\AppData\\Local\\Temp\\ipykernel_3592\\2564517573.py:10: SettingWithCopyWarning: \n",
      "A value is trying to be set on a copy of a slice from a DataFrame.\n",
      "Try using .loc[row_indexer,col_indexer] = value instead\n",
      "\n",
      "See the caveats in the documentation: https://pandas.pydata.org/pandas-docs/stable/user_guide/indexing.html#returning-a-view-versus-a-copy\n",
      "  location_df[\"Location\"] = location\n",
      "C:\\Users\\thoma\\AppData\\Local\\Temp\\ipykernel_3592\\2564517573.py:10: SettingWithCopyWarning: \n",
      "A value is trying to be set on a copy of a slice from a DataFrame.\n",
      "Try using .loc[row_indexer,col_indexer] = value instead\n",
      "\n",
      "See the caveats in the documentation: https://pandas.pydata.org/pandas-docs/stable/user_guide/indexing.html#returning-a-view-versus-a-copy\n",
      "  location_df[\"Location\"] = location\n",
      "C:\\Users\\thoma\\AppData\\Local\\Temp\\ipykernel_3592\\2564517573.py:10: SettingWithCopyWarning: \n",
      "A value is trying to be set on a copy of a slice from a DataFrame.\n",
      "Try using .loc[row_indexer,col_indexer] = value instead\n",
      "\n",
      "See the caveats in the documentation: https://pandas.pydata.org/pandas-docs/stable/user_guide/indexing.html#returning-a-view-versus-a-copy\n",
      "  location_df[\"Location\"] = location\n",
      "C:\\Users\\thoma\\AppData\\Local\\Temp\\ipykernel_3592\\2564517573.py:10: SettingWithCopyWarning: \n",
      "A value is trying to be set on a copy of a slice from a DataFrame.\n",
      "Try using .loc[row_indexer,col_indexer] = value instead\n",
      "\n",
      "See the caveats in the documentation: https://pandas.pydata.org/pandas-docs/stable/user_guide/indexing.html#returning-a-view-versus-a-copy\n",
      "  location_df[\"Location\"] = location\n",
      "C:\\Users\\thoma\\AppData\\Local\\Temp\\ipykernel_3592\\2564517573.py:10: SettingWithCopyWarning: \n",
      "A value is trying to be set on a copy of a slice from a DataFrame.\n",
      "Try using .loc[row_indexer,col_indexer] = value instead\n",
      "\n",
      "See the caveats in the documentation: https://pandas.pydata.org/pandas-docs/stable/user_guide/indexing.html#returning-a-view-versus-a-copy\n",
      "  location_df[\"Location\"] = location\n"
     ]
    }
   ],
   "source": [
    "weather_loc = {}\n",
    "\n",
    "for location in locations:\n",
    "    location_columns = weather_df.columns[\n",
    "        weather_df.columns.map(lambda x: x.split()[0] == location)\n",
    "    ]\n",
    "\n",
    "    location_df = weather_df[[\"Data\"] + location_columns.tolist()]\n",
    "    location_df.columns = location_df.columns.str.replace(location, \"\").str.strip()\n",
    "    location_df[\"Location\"] = location\n",
    "    \n",
    "    weather_loc[location] = location_df\n"
   ]
  },
  {
   "cell_type": "code",
   "execution_count": 864,
   "metadata": {},
   "outputs": [],
   "source": [
    "df_weather_long = pd.concat(weather_loc.values())\n",
    "# df_weather_long.to_csv(\"./weather_long_format.csv\", index=None)"
   ]
  },
  {
   "cell_type": "code",
   "execution_count": 865,
   "metadata": {},
   "outputs": [
    {
     "data": {
      "text/html": [
       "<div>\n",
       "<style scoped>\n",
       "    .dataframe tbody tr th:only-of-type {\n",
       "        vertical-align: middle;\n",
       "    }\n",
       "\n",
       "    .dataframe tbody tr th {\n",
       "        vertical-align: top;\n",
       "    }\n",
       "\n",
       "    .dataframe thead th {\n",
       "        text-align: right;\n",
       "    }\n",
       "</style>\n",
       "<table border=\"1\" class=\"dataframe\">\n",
       "  <thead>\n",
       "    <tr style=\"text-align: right;\">\n",
       "      <th></th>\n",
       "      <th>Data</th>\n",
       "      <th>Valore</th>\n",
       "      <th>rain</th>\n",
       "      <th>temp</th>\n",
       "      <th>Location</th>\n",
       "      <th>hum</th>\n",
       "      <th>w_dir</th>\n",
       "      <th>w_sp</th>\n",
       "      <th>press</th>\n",
       "      <th>sol</th>\n",
       "    </tr>\n",
       "  </thead>\n",
       "  <tbody>\n",
       "    <tr>\n",
       "      <th>0</th>\n",
       "      <td>2012-01-01</td>\n",
       "      <td>55.727273</td>\n",
       "      <td>0.0</td>\n",
       "      <td>0.0</td>\n",
       "      <td>bolz</td>\n",
       "      <td>78.6</td>\n",
       "      <td>342.0</td>\n",
       "      <td>0.7</td>\n",
       "      <td>995.5</td>\n",
       "      <td>6433.5</td>\n",
       "    </tr>\n",
       "    <tr>\n",
       "      <th>1</th>\n",
       "      <td>2012-01-02</td>\n",
       "      <td>62.291667</td>\n",
       "      <td>15.0</td>\n",
       "      <td>-0.4</td>\n",
       "      <td>bolz</td>\n",
       "      <td>95.0</td>\n",
       "      <td>348.0</td>\n",
       "      <td>1.0</td>\n",
       "      <td>994.7</td>\n",
       "      <td>1154.3</td>\n",
       "    </tr>\n",
       "    <tr>\n",
       "      <th>2</th>\n",
       "      <td>2012-01-03</td>\n",
       "      <td>36.708333</td>\n",
       "      <td>0.6</td>\n",
       "      <td>3.6</td>\n",
       "      <td>bolz</td>\n",
       "      <td>86.8</td>\n",
       "      <td>329.0</td>\n",
       "      <td>1.8</td>\n",
       "      <td>997.5</td>\n",
       "      <td>7082.0</td>\n",
       "    </tr>\n",
       "    <tr>\n",
       "      <th>3</th>\n",
       "      <td>2012-01-04</td>\n",
       "      <td>33.041667</td>\n",
       "      <td>0.0</td>\n",
       "      <td>0.1</td>\n",
       "      <td>bolz</td>\n",
       "      <td>90.0</td>\n",
       "      <td>337.0</td>\n",
       "      <td>1.0</td>\n",
       "      <td>993.7</td>\n",
       "      <td>3149.2</td>\n",
       "    </tr>\n",
       "    <tr>\n",
       "      <th>4</th>\n",
       "      <td>2012-01-05</td>\n",
       "      <td>26.375000</td>\n",
       "      <td>0.0</td>\n",
       "      <td>1.0</td>\n",
       "      <td>bolz</td>\n",
       "      <td>79.8</td>\n",
       "      <td>343.0</td>\n",
       "      <td>1.5</td>\n",
       "      <td>980.3</td>\n",
       "      <td>5839.9</td>\n",
       "    </tr>\n",
       "    <tr>\n",
       "      <th>...</th>\n",
       "      <td>...</td>\n",
       "      <td>...</td>\n",
       "      <td>...</td>\n",
       "      <td>...</td>\n",
       "      <td>...</td>\n",
       "      <td>...</td>\n",
       "      <td>...</td>\n",
       "      <td>...</td>\n",
       "      <td>...</td>\n",
       "      <td>...</td>\n",
       "    </tr>\n",
       "    <tr>\n",
       "      <th>3837</th>\n",
       "      <td>2022-07-04</td>\n",
       "      <td>16.250000</td>\n",
       "      <td>7.0</td>\n",
       "      <td>23.2</td>\n",
       "      <td>bolz</td>\n",
       "      <td>70.6</td>\n",
       "      <td>315.0</td>\n",
       "      <td>3.7</td>\n",
       "      <td>991.4</td>\n",
       "      <td>16440.8</td>\n",
       "    </tr>\n",
       "    <tr>\n",
       "      <th>3838</th>\n",
       "      <td>2022-07-05</td>\n",
       "      <td>9.291667</td>\n",
       "      <td>0.0</td>\n",
       "      <td>24.9</td>\n",
       "      <td>bolz</td>\n",
       "      <td>59.5</td>\n",
       "      <td>330.0</td>\n",
       "      <td>2.9</td>\n",
       "      <td>989.0</td>\n",
       "      <td>25228.8</td>\n",
       "    </tr>\n",
       "    <tr>\n",
       "      <th>3839</th>\n",
       "      <td>2022-07-06</td>\n",
       "      <td>9.875000</td>\n",
       "      <td>0.0</td>\n",
       "      <td>25.2</td>\n",
       "      <td>bolz</td>\n",
       "      <td>54.2</td>\n",
       "      <td>336.0</td>\n",
       "      <td>2.0</td>\n",
       "      <td>990.8</td>\n",
       "      <td>28751.0</td>\n",
       "    </tr>\n",
       "    <tr>\n",
       "      <th>3840</th>\n",
       "      <td>2022-07-07</td>\n",
       "      <td>14.875000</td>\n",
       "      <td>4.0</td>\n",
       "      <td>23.5</td>\n",
       "      <td>bolz</td>\n",
       "      <td>62.2</td>\n",
       "      <td>296.0</td>\n",
       "      <td>1.3</td>\n",
       "      <td>989.6</td>\n",
       "      <td>19994.8</td>\n",
       "    </tr>\n",
       "    <tr>\n",
       "      <th>3841</th>\n",
       "      <td>2022-07-08</td>\n",
       "      <td>14.000000</td>\n",
       "      <td>0.0</td>\n",
       "      <td>23.9</td>\n",
       "      <td>bolz</td>\n",
       "      <td>41.2</td>\n",
       "      <td>341.0</td>\n",
       "      <td>2.5</td>\n",
       "      <td>993.2</td>\n",
       "      <td>29513.0</td>\n",
       "    </tr>\n",
       "  </tbody>\n",
       "</table>\n",
       "<p>3842 rows × 10 columns</p>\n",
       "</div>"
      ],
      "text/plain": [
       "           Data     Valore  rain  temp Location   hum  w_dir  w_sp  press  \\\n",
       "0    2012-01-01  55.727273   0.0   0.0     bolz  78.6  342.0   0.7  995.5   \n",
       "1    2012-01-02  62.291667  15.0  -0.4     bolz  95.0  348.0   1.0  994.7   \n",
       "2    2012-01-03  36.708333   0.6   3.6     bolz  86.8  329.0   1.8  997.5   \n",
       "3    2012-01-04  33.041667   0.0   0.1     bolz  90.0  337.0   1.0  993.7   \n",
       "4    2012-01-05  26.375000   0.0   1.0     bolz  79.8  343.0   1.5  980.3   \n",
       "...         ...        ...   ...   ...      ...   ...    ...   ...    ...   \n",
       "3837 2022-07-04  16.250000   7.0  23.2     bolz  70.6  315.0   3.7  991.4   \n",
       "3838 2022-07-05   9.291667   0.0  24.9     bolz  59.5  330.0   2.9  989.0   \n",
       "3839 2022-07-06   9.875000   0.0  25.2     bolz  54.2  336.0   2.0  990.8   \n",
       "3840 2022-07-07  14.875000   4.0  23.5     bolz  62.2  296.0   1.3  989.6   \n",
       "3841 2022-07-08  14.000000   0.0  23.9     bolz  41.2  341.0   2.5  993.2   \n",
       "\n",
       "          sol  \n",
       "0      6433.5  \n",
       "1      1154.3  \n",
       "2      7082.0  \n",
       "3      3149.2  \n",
       "4      5839.9  \n",
       "...       ...  \n",
       "3837  16440.8  \n",
       "3838  25228.8  \n",
       "3839  28751.0  \n",
       "3840  19994.8  \n",
       "3841  29513.0  \n",
       "\n",
       "[3842 rows x 10 columns]"
      ]
     },
     "execution_count": 865,
     "metadata": {},
     "output_type": "execute_result"
    }
   ],
   "source": [
    "merged_df = df_daily.join(\n",
    "    df_weather_long[df_weather_long.Location == CURRENT_LOCATION].set_index(\"Data\"), \n",
    "    on=\"Data\"\n",
    ")\n",
    "merged_df"
   ]
  },
  {
   "cell_type": "code",
   "execution_count": 866,
   "metadata": {},
   "outputs": [
    {
     "data": {
      "text/html": [
       "<div>\n",
       "<style scoped>\n",
       "    .dataframe tbody tr th:only-of-type {\n",
       "        vertical-align: middle;\n",
       "    }\n",
       "\n",
       "    .dataframe tbody tr th {\n",
       "        vertical-align: top;\n",
       "    }\n",
       "\n",
       "    .dataframe thead th {\n",
       "        text-align: right;\n",
       "    }\n",
       "</style>\n",
       "<table border=\"1\" class=\"dataframe\">\n",
       "  <thead>\n",
       "    <tr style=\"text-align: right;\">\n",
       "      <th></th>\n",
       "      <th>Data</th>\n",
       "      <th>Valore</th>\n",
       "      <th>rain</th>\n",
       "      <th>temp</th>\n",
       "      <th>Location</th>\n",
       "      <th>hum</th>\n",
       "      <th>w_dir</th>\n",
       "      <th>w_sp</th>\n",
       "      <th>press</th>\n",
       "      <th>sol</th>\n",
       "      <th>Prev day</th>\n",
       "    </tr>\n",
       "  </thead>\n",
       "  <tbody>\n",
       "    <tr>\n",
       "      <th>0</th>\n",
       "      <td>2012-01-01</td>\n",
       "      <td>55.727273</td>\n",
       "      <td>0.0</td>\n",
       "      <td>0.0</td>\n",
       "      <td>bolz</td>\n",
       "      <td>78.6</td>\n",
       "      <td>342.0</td>\n",
       "      <td>0.7</td>\n",
       "      <td>995.5</td>\n",
       "      <td>6433.5</td>\n",
       "      <td>55.727273</td>\n",
       "    </tr>\n",
       "    <tr>\n",
       "      <th>1</th>\n",
       "      <td>2012-01-02</td>\n",
       "      <td>62.291667</td>\n",
       "      <td>15.0</td>\n",
       "      <td>-0.4</td>\n",
       "      <td>bolz</td>\n",
       "      <td>95.0</td>\n",
       "      <td>348.0</td>\n",
       "      <td>1.0</td>\n",
       "      <td>994.7</td>\n",
       "      <td>1154.3</td>\n",
       "      <td>55.727273</td>\n",
       "    </tr>\n",
       "    <tr>\n",
       "      <th>2</th>\n",
       "      <td>2012-01-03</td>\n",
       "      <td>36.708333</td>\n",
       "      <td>0.6</td>\n",
       "      <td>3.6</td>\n",
       "      <td>bolz</td>\n",
       "      <td>86.8</td>\n",
       "      <td>329.0</td>\n",
       "      <td>1.8</td>\n",
       "      <td>997.5</td>\n",
       "      <td>7082.0</td>\n",
       "      <td>62.291667</td>\n",
       "    </tr>\n",
       "    <tr>\n",
       "      <th>3</th>\n",
       "      <td>2012-01-04</td>\n",
       "      <td>33.041667</td>\n",
       "      <td>0.0</td>\n",
       "      <td>0.1</td>\n",
       "      <td>bolz</td>\n",
       "      <td>90.0</td>\n",
       "      <td>337.0</td>\n",
       "      <td>1.0</td>\n",
       "      <td>993.7</td>\n",
       "      <td>3149.2</td>\n",
       "      <td>36.708333</td>\n",
       "    </tr>\n",
       "    <tr>\n",
       "      <th>4</th>\n",
       "      <td>2012-01-05</td>\n",
       "      <td>26.375000</td>\n",
       "      <td>0.0</td>\n",
       "      <td>1.0</td>\n",
       "      <td>bolz</td>\n",
       "      <td>79.8</td>\n",
       "      <td>343.0</td>\n",
       "      <td>1.5</td>\n",
       "      <td>980.3</td>\n",
       "      <td>5839.9</td>\n",
       "      <td>33.041667</td>\n",
       "    </tr>\n",
       "    <tr>\n",
       "      <th>...</th>\n",
       "      <td>...</td>\n",
       "      <td>...</td>\n",
       "      <td>...</td>\n",
       "      <td>...</td>\n",
       "      <td>...</td>\n",
       "      <td>...</td>\n",
       "      <td>...</td>\n",
       "      <td>...</td>\n",
       "      <td>...</td>\n",
       "      <td>...</td>\n",
       "      <td>...</td>\n",
       "    </tr>\n",
       "    <tr>\n",
       "      <th>3837</th>\n",
       "      <td>2022-07-04</td>\n",
       "      <td>16.250000</td>\n",
       "      <td>7.0</td>\n",
       "      <td>23.2</td>\n",
       "      <td>bolz</td>\n",
       "      <td>70.6</td>\n",
       "      <td>315.0</td>\n",
       "      <td>3.7</td>\n",
       "      <td>991.4</td>\n",
       "      <td>16440.8</td>\n",
       "      <td>23.000000</td>\n",
       "    </tr>\n",
       "    <tr>\n",
       "      <th>3838</th>\n",
       "      <td>2022-07-05</td>\n",
       "      <td>9.291667</td>\n",
       "      <td>0.0</td>\n",
       "      <td>24.9</td>\n",
       "      <td>bolz</td>\n",
       "      <td>59.5</td>\n",
       "      <td>330.0</td>\n",
       "      <td>2.9</td>\n",
       "      <td>989.0</td>\n",
       "      <td>25228.8</td>\n",
       "      <td>16.250000</td>\n",
       "    </tr>\n",
       "    <tr>\n",
       "      <th>3839</th>\n",
       "      <td>2022-07-06</td>\n",
       "      <td>9.875000</td>\n",
       "      <td>0.0</td>\n",
       "      <td>25.2</td>\n",
       "      <td>bolz</td>\n",
       "      <td>54.2</td>\n",
       "      <td>336.0</td>\n",
       "      <td>2.0</td>\n",
       "      <td>990.8</td>\n",
       "      <td>28751.0</td>\n",
       "      <td>9.291667</td>\n",
       "    </tr>\n",
       "    <tr>\n",
       "      <th>3840</th>\n",
       "      <td>2022-07-07</td>\n",
       "      <td>14.875000</td>\n",
       "      <td>4.0</td>\n",
       "      <td>23.5</td>\n",
       "      <td>bolz</td>\n",
       "      <td>62.2</td>\n",
       "      <td>296.0</td>\n",
       "      <td>1.3</td>\n",
       "      <td>989.6</td>\n",
       "      <td>19994.8</td>\n",
       "      <td>9.875000</td>\n",
       "    </tr>\n",
       "    <tr>\n",
       "      <th>3841</th>\n",
       "      <td>2022-07-08</td>\n",
       "      <td>14.000000</td>\n",
       "      <td>0.0</td>\n",
       "      <td>23.9</td>\n",
       "      <td>bolz</td>\n",
       "      <td>41.2</td>\n",
       "      <td>341.0</td>\n",
       "      <td>2.5</td>\n",
       "      <td>993.2</td>\n",
       "      <td>29513.0</td>\n",
       "      <td>14.875000</td>\n",
       "    </tr>\n",
       "  </tbody>\n",
       "</table>\n",
       "<p>3842 rows × 11 columns</p>\n",
       "</div>"
      ],
      "text/plain": [
       "           Data     Valore  rain  temp Location   hum  w_dir  w_sp  press  \\\n",
       "0    2012-01-01  55.727273   0.0   0.0     bolz  78.6  342.0   0.7  995.5   \n",
       "1    2012-01-02  62.291667  15.0  -0.4     bolz  95.0  348.0   1.0  994.7   \n",
       "2    2012-01-03  36.708333   0.6   3.6     bolz  86.8  329.0   1.8  997.5   \n",
       "3    2012-01-04  33.041667   0.0   0.1     bolz  90.0  337.0   1.0  993.7   \n",
       "4    2012-01-05  26.375000   0.0   1.0     bolz  79.8  343.0   1.5  980.3   \n",
       "...         ...        ...   ...   ...      ...   ...    ...   ...    ...   \n",
       "3837 2022-07-04  16.250000   7.0  23.2     bolz  70.6  315.0   3.7  991.4   \n",
       "3838 2022-07-05   9.291667   0.0  24.9     bolz  59.5  330.0   2.9  989.0   \n",
       "3839 2022-07-06   9.875000   0.0  25.2     bolz  54.2  336.0   2.0  990.8   \n",
       "3840 2022-07-07  14.875000   4.0  23.5     bolz  62.2  296.0   1.3  989.6   \n",
       "3841 2022-07-08  14.000000   0.0  23.9     bolz  41.2  341.0   2.5  993.2   \n",
       "\n",
       "          sol   Prev day  \n",
       "0      6433.5  55.727273  \n",
       "1      1154.3  55.727273  \n",
       "2      7082.0  62.291667  \n",
       "3      3149.2  36.708333  \n",
       "4      5839.9  33.041667  \n",
       "...       ...        ...  \n",
       "3837  16440.8  23.000000  \n",
       "3838  25228.8  16.250000  \n",
       "3839  28751.0   9.291667  \n",
       "3840  19994.8   9.875000  \n",
       "3841  29513.0  14.875000  \n",
       "\n",
       "[3842 rows x 11 columns]"
      ]
     },
     "execution_count": 866,
     "metadata": {},
     "output_type": "execute_result"
    }
   ],
   "source": [
    "# add column for the value of the previous day\n",
    "\n",
    "prev_day_values = []\n",
    "for date in merged_df[\"Data\"]:\n",
    "    prev_day_value = date - timedelta(hours=int(24))\n",
    "    series = merged_df[merged_df.Data == prev_day_value].Valore.values.tolist()\n",
    "    if len(series) > 0:\n",
    "        value = series[0]\n",
    "    else:\n",
    "        value = merged_df[merged_df.Data == date].Valore.values.tolist()[0]  # takes the current day, not the previous\n",
    "\n",
    "    prev_day_values.append(value)\n",
    "\n",
    "merged_df[\"Prev day\"] = prev_day_values\n",
    "merged_df\n"
   ]
  },
  {
   "cell_type": "code",
   "execution_count": 867,
   "metadata": {},
   "outputs": [
    {
     "data": {
      "text/plain": [
       "Data         0\n",
       "Valore      13\n",
       "rain         5\n",
       "temp         5\n",
       "Location     0\n",
       "hum          3\n",
       "w_dir        3\n",
       "w_sp         4\n",
       "press        3\n",
       "sol          4\n",
       "Prev day    13\n",
       "dtype: int64"
      ]
     },
     "execution_count": 867,
     "metadata": {},
     "output_type": "execute_result"
    }
   ],
   "source": [
    "merged_df.isna().sum()"
   ]
  },
  {
   "cell_type": "code",
   "execution_count": 868,
   "metadata": {},
   "outputs": [
    {
     "data": {
      "text/html": [
       "<div>\n",
       "<style scoped>\n",
       "    .dataframe tbody tr th:only-of-type {\n",
       "        vertical-align: middle;\n",
       "    }\n",
       "\n",
       "    .dataframe tbody tr th {\n",
       "        vertical-align: top;\n",
       "    }\n",
       "\n",
       "    .dataframe thead th {\n",
       "        text-align: right;\n",
       "    }\n",
       "</style>\n",
       "<table border=\"1\" class=\"dataframe\">\n",
       "  <thead>\n",
       "    <tr style=\"text-align: right;\">\n",
       "      <th></th>\n",
       "      <th>Valore</th>\n",
       "      <th>rain</th>\n",
       "      <th>temp</th>\n",
       "      <th>hum</th>\n",
       "      <th>w_dir</th>\n",
       "      <th>w_sp</th>\n",
       "      <th>press</th>\n",
       "      <th>sol</th>\n",
       "      <th>Prev day</th>\n",
       "    </tr>\n",
       "  </thead>\n",
       "  <tbody>\n",
       "    <tr>\n",
       "      <th>Valore</th>\n",
       "      <td>1.000000</td>\n",
       "      <td>-0.122648</td>\n",
       "      <td>-0.444380</td>\n",
       "      <td>0.274519</td>\n",
       "      <td>0.004813</td>\n",
       "      <td>-0.486611</td>\n",
       "      <td>0.297860</td>\n",
       "      <td>-0.391982</td>\n",
       "      <td>0.734838</td>\n",
       "    </tr>\n",
       "    <tr>\n",
       "      <th>rain</th>\n",
       "      <td>-0.122648</td>\n",
       "      <td>1.000000</td>\n",
       "      <td>0.016624</td>\n",
       "      <td>0.373602</td>\n",
       "      <td>0.027997</td>\n",
       "      <td>-0.001040</td>\n",
       "      <td>-0.321844</td>\n",
       "      <td>-0.245043</td>\n",
       "      <td>-0.017086</td>\n",
       "    </tr>\n",
       "    <tr>\n",
       "      <th>temp</th>\n",
       "      <td>-0.444380</td>\n",
       "      <td>0.016624</td>\n",
       "      <td>1.000000</td>\n",
       "      <td>-0.251255</td>\n",
       "      <td>-0.096029</td>\n",
       "      <td>0.401969</td>\n",
       "      <td>-0.147064</td>\n",
       "      <td>0.733091</td>\n",
       "      <td>-0.424701</td>\n",
       "    </tr>\n",
       "    <tr>\n",
       "      <th>hum</th>\n",
       "      <td>0.274519</td>\n",
       "      <td>0.373602</td>\n",
       "      <td>-0.251255</td>\n",
       "      <td>1.000000</td>\n",
       "      <td>0.104384</td>\n",
       "      <td>-0.648380</td>\n",
       "      <td>-0.133332</td>\n",
       "      <td>-0.596991</td>\n",
       "      <td>0.258585</td>\n",
       "    </tr>\n",
       "    <tr>\n",
       "      <th>w_dir</th>\n",
       "      <td>0.004813</td>\n",
       "      <td>0.027997</td>\n",
       "      <td>-0.096029</td>\n",
       "      <td>0.104384</td>\n",
       "      <td>1.000000</td>\n",
       "      <td>-0.129086</td>\n",
       "      <td>0.102721</td>\n",
       "      <td>-0.053515</td>\n",
       "      <td>0.007373</td>\n",
       "    </tr>\n",
       "    <tr>\n",
       "      <th>w_sp</th>\n",
       "      <td>-0.486611</td>\n",
       "      <td>-0.001040</td>\n",
       "      <td>0.401969</td>\n",
       "      <td>-0.648380</td>\n",
       "      <td>-0.129086</td>\n",
       "      <td>1.000000</td>\n",
       "      <td>-0.231920</td>\n",
       "      <td>0.492839</td>\n",
       "      <td>-0.311340</td>\n",
       "    </tr>\n",
       "    <tr>\n",
       "      <th>press</th>\n",
       "      <td>0.297860</td>\n",
       "      <td>-0.321844</td>\n",
       "      <td>-0.147064</td>\n",
       "      <td>-0.133332</td>\n",
       "      <td>0.102721</td>\n",
       "      <td>-0.231920</td>\n",
       "      <td>1.000000</td>\n",
       "      <td>0.052634</td>\n",
       "      <td>0.178568</td>\n",
       "    </tr>\n",
       "    <tr>\n",
       "      <th>sol</th>\n",
       "      <td>-0.391982</td>\n",
       "      <td>-0.245043</td>\n",
       "      <td>0.733091</td>\n",
       "      <td>-0.596991</td>\n",
       "      <td>-0.053515</td>\n",
       "      <td>0.492839</td>\n",
       "      <td>0.052634</td>\n",
       "      <td>1.000000</td>\n",
       "      <td>-0.416035</td>\n",
       "    </tr>\n",
       "    <tr>\n",
       "      <th>Prev day</th>\n",
       "      <td>0.734838</td>\n",
       "      <td>-0.017086</td>\n",
       "      <td>-0.424701</td>\n",
       "      <td>0.258585</td>\n",
       "      <td>0.007373</td>\n",
       "      <td>-0.311340</td>\n",
       "      <td>0.178568</td>\n",
       "      <td>-0.416035</td>\n",
       "      <td>1.000000</td>\n",
       "    </tr>\n",
       "  </tbody>\n",
       "</table>\n",
       "</div>"
      ],
      "text/plain": [
       "            Valore      rain      temp       hum     w_dir      w_sp  \\\n",
       "Valore    1.000000 -0.122648 -0.444380  0.274519  0.004813 -0.486611   \n",
       "rain     -0.122648  1.000000  0.016624  0.373602  0.027997 -0.001040   \n",
       "temp     -0.444380  0.016624  1.000000 -0.251255 -0.096029  0.401969   \n",
       "hum       0.274519  0.373602 -0.251255  1.000000  0.104384 -0.648380   \n",
       "w_dir     0.004813  0.027997 -0.096029  0.104384  1.000000 -0.129086   \n",
       "w_sp     -0.486611 -0.001040  0.401969 -0.648380 -0.129086  1.000000   \n",
       "press     0.297860 -0.321844 -0.147064 -0.133332  0.102721 -0.231920   \n",
       "sol      -0.391982 -0.245043  0.733091 -0.596991 -0.053515  0.492839   \n",
       "Prev day  0.734838 -0.017086 -0.424701  0.258585  0.007373 -0.311340   \n",
       "\n",
       "             press       sol  Prev day  \n",
       "Valore    0.297860 -0.391982  0.734838  \n",
       "rain     -0.321844 -0.245043 -0.017086  \n",
       "temp     -0.147064  0.733091 -0.424701  \n",
       "hum      -0.133332 -0.596991  0.258585  \n",
       "w_dir     0.102721 -0.053515  0.007373  \n",
       "w_sp     -0.231920  0.492839 -0.311340  \n",
       "press     1.000000  0.052634  0.178568  \n",
       "sol       0.052634  1.000000 -0.416035  \n",
       "Prev day  0.178568 -0.416035  1.000000  "
      ]
     },
     "execution_count": 868,
     "metadata": {},
     "output_type": "execute_result"
    }
   ],
   "source": [
    "merged_df.corr()"
   ]
  },
  {
   "cell_type": "code",
   "execution_count": 869,
   "metadata": {},
   "outputs": [
    {
     "data": {
      "text/html": [
       "<div>\n",
       "<style scoped>\n",
       "    .dataframe tbody tr th:only-of-type {\n",
       "        vertical-align: middle;\n",
       "    }\n",
       "\n",
       "    .dataframe tbody tr th {\n",
       "        vertical-align: top;\n",
       "    }\n",
       "\n",
       "    .dataframe thead th {\n",
       "        text-align: right;\n",
       "    }\n",
       "</style>\n",
       "<table border=\"1\" class=\"dataframe\">\n",
       "  <thead>\n",
       "    <tr style=\"text-align: right;\">\n",
       "      <th></th>\n",
       "      <th>Valore</th>\n",
       "      <th>rain</th>\n",
       "      <th>temp</th>\n",
       "      <th>hum</th>\n",
       "      <th>w_dir</th>\n",
       "      <th>w_sp</th>\n",
       "      <th>press</th>\n",
       "      <th>sol</th>\n",
       "      <th>Prev day</th>\n",
       "    </tr>\n",
       "  </thead>\n",
       "  <tbody>\n",
       "    <tr>\n",
       "      <th>count</th>\n",
       "      <td>3829.000000</td>\n",
       "      <td>3837.000000</td>\n",
       "      <td>3837.000000</td>\n",
       "      <td>3839.000000</td>\n",
       "      <td>3839.000000</td>\n",
       "      <td>3838.000000</td>\n",
       "      <td>3839.000000</td>\n",
       "      <td>3838.000000</td>\n",
       "      <td>3829.000000</td>\n",
       "    </tr>\n",
       "    <tr>\n",
       "      <th>mean</th>\n",
       "      <td>24.245645</td>\n",
       "      <td>2.794423</td>\n",
       "      <td>12.800469</td>\n",
       "      <td>70.803204</td>\n",
       "      <td>299.088304</td>\n",
       "      <td>1.738093</td>\n",
       "      <td>989.457333</td>\n",
       "      <td>13425.558494</td>\n",
       "      <td>24.256542</td>\n",
       "    </tr>\n",
       "    <tr>\n",
       "      <th>std</th>\n",
       "      <td>14.101629</td>\n",
       "      <td>7.923554</td>\n",
       "      <td>8.031611</td>\n",
       "      <td>15.276657</td>\n",
       "      <td>68.967493</td>\n",
       "      <td>0.802883</td>\n",
       "      <td>7.334207</td>\n",
       "      <td>8128.025217</td>\n",
       "      <td>14.109830</td>\n",
       "    </tr>\n",
       "    <tr>\n",
       "      <th>min</th>\n",
       "      <td>0.000000</td>\n",
       "      <td>0.000000</td>\n",
       "      <td>-6.300000</td>\n",
       "      <td>18.600000</td>\n",
       "      <td>0.000000</td>\n",
       "      <td>0.000000</td>\n",
       "      <td>952.700000</td>\n",
       "      <td>0.000000</td>\n",
       "      <td>0.000000</td>\n",
       "    </tr>\n",
       "    <tr>\n",
       "      <th>25%</th>\n",
       "      <td>14.291667</td>\n",
       "      <td>0.000000</td>\n",
       "      <td>5.900000</td>\n",
       "      <td>60.300000</td>\n",
       "      <td>294.500000</td>\n",
       "      <td>1.100000</td>\n",
       "      <td>985.200000</td>\n",
       "      <td>6420.425000</td>\n",
       "      <td>14.291667</td>\n",
       "    </tr>\n",
       "    <tr>\n",
       "      <th>50%</th>\n",
       "      <td>21.333333</td>\n",
       "      <td>0.000000</td>\n",
       "      <td>13.100000</td>\n",
       "      <td>71.400000</td>\n",
       "      <td>324.000000</td>\n",
       "      <td>1.700000</td>\n",
       "      <td>989.400000</td>\n",
       "      <td>12330.800000</td>\n",
       "      <td>21.363636</td>\n",
       "    </tr>\n",
       "    <tr>\n",
       "      <th>75%</th>\n",
       "      <td>30.958333</td>\n",
       "      <td>0.800000</td>\n",
       "      <td>19.800000</td>\n",
       "      <td>82.550000</td>\n",
       "      <td>338.000000</td>\n",
       "      <td>2.200000</td>\n",
       "      <td>993.700000</td>\n",
       "      <td>20257.000000</td>\n",
       "      <td>30.958333</td>\n",
       "    </tr>\n",
       "    <tr>\n",
       "      <th>max</th>\n",
       "      <td>156.125000</td>\n",
       "      <td>97.000000</td>\n",
       "      <td>29.600000</td>\n",
       "      <td>100.000000</td>\n",
       "      <td>360.000000</td>\n",
       "      <td>6.700000</td>\n",
       "      <td>1014.900000</td>\n",
       "      <td>31686.900000</td>\n",
       "      <td>156.125000</td>\n",
       "    </tr>\n",
       "  </tbody>\n",
       "</table>\n",
       "</div>"
      ],
      "text/plain": [
       "            Valore         rain         temp          hum        w_dir  \\\n",
       "count  3829.000000  3837.000000  3837.000000  3839.000000  3839.000000   \n",
       "mean     24.245645     2.794423    12.800469    70.803204   299.088304   \n",
       "std      14.101629     7.923554     8.031611    15.276657    68.967493   \n",
       "min       0.000000     0.000000    -6.300000    18.600000     0.000000   \n",
       "25%      14.291667     0.000000     5.900000    60.300000   294.500000   \n",
       "50%      21.333333     0.000000    13.100000    71.400000   324.000000   \n",
       "75%      30.958333     0.800000    19.800000    82.550000   338.000000   \n",
       "max     156.125000    97.000000    29.600000   100.000000   360.000000   \n",
       "\n",
       "              w_sp        press           sol     Prev day  \n",
       "count  3838.000000  3839.000000   3838.000000  3829.000000  \n",
       "mean      1.738093   989.457333  13425.558494    24.256542  \n",
       "std       0.802883     7.334207   8128.025217    14.109830  \n",
       "min       0.000000   952.700000      0.000000     0.000000  \n",
       "25%       1.100000   985.200000   6420.425000    14.291667  \n",
       "50%       1.700000   989.400000  12330.800000    21.363636  \n",
       "75%       2.200000   993.700000  20257.000000    30.958333  \n",
       "max       6.700000  1014.900000  31686.900000   156.125000  "
      ]
     },
     "execution_count": 869,
     "metadata": {},
     "output_type": "execute_result"
    }
   ],
   "source": [
    "merged_df.describe()"
   ]
  },
  {
   "cell_type": "code",
   "execution_count": 870,
   "metadata": {},
   "outputs": [
    {
     "data": {
      "text/html": [
       "<div>\n",
       "<style scoped>\n",
       "    .dataframe tbody tr th:only-of-type {\n",
       "        vertical-align: middle;\n",
       "    }\n",
       "\n",
       "    .dataframe tbody tr th {\n",
       "        vertical-align: top;\n",
       "    }\n",
       "\n",
       "    .dataframe thead th {\n",
       "        text-align: right;\n",
       "    }\n",
       "</style>\n",
       "<table border=\"1\" class=\"dataframe\">\n",
       "  <thead>\n",
       "    <tr style=\"text-align: right;\">\n",
       "      <th></th>\n",
       "      <th>Data</th>\n",
       "      <th>Valore</th>\n",
       "      <th>rain</th>\n",
       "      <th>temp</th>\n",
       "      <th>Location</th>\n",
       "      <th>hum</th>\n",
       "      <th>w_dir</th>\n",
       "      <th>w_sp</th>\n",
       "      <th>press</th>\n",
       "      <th>sol</th>\n",
       "      <th>Prev day</th>\n",
       "    </tr>\n",
       "  </thead>\n",
       "  <tbody>\n",
       "    <tr>\n",
       "      <th>0</th>\n",
       "      <td>2012-01-01</td>\n",
       "      <td>55.727273</td>\n",
       "      <td>0.0</td>\n",
       "      <td>0.0</td>\n",
       "      <td>bolz</td>\n",
       "      <td>78.6</td>\n",
       "      <td>342.0</td>\n",
       "      <td>0.7</td>\n",
       "      <td>995.5</td>\n",
       "      <td>6433.5</td>\n",
       "      <td>55.727273</td>\n",
       "    </tr>\n",
       "    <tr>\n",
       "      <th>1</th>\n",
       "      <td>2012-01-02</td>\n",
       "      <td>62.291667</td>\n",
       "      <td>15.0</td>\n",
       "      <td>-0.4</td>\n",
       "      <td>bolz</td>\n",
       "      <td>95.0</td>\n",
       "      <td>348.0</td>\n",
       "      <td>1.0</td>\n",
       "      <td>994.7</td>\n",
       "      <td>1154.3</td>\n",
       "      <td>55.727273</td>\n",
       "    </tr>\n",
       "    <tr>\n",
       "      <th>2</th>\n",
       "      <td>2012-01-03</td>\n",
       "      <td>36.708333</td>\n",
       "      <td>0.6</td>\n",
       "      <td>3.6</td>\n",
       "      <td>bolz</td>\n",
       "      <td>86.8</td>\n",
       "      <td>329.0</td>\n",
       "      <td>1.8</td>\n",
       "      <td>997.5</td>\n",
       "      <td>7082.0</td>\n",
       "      <td>62.291667</td>\n",
       "    </tr>\n",
       "    <tr>\n",
       "      <th>3</th>\n",
       "      <td>2012-01-04</td>\n",
       "      <td>33.041667</td>\n",
       "      <td>0.0</td>\n",
       "      <td>0.1</td>\n",
       "      <td>bolz</td>\n",
       "      <td>90.0</td>\n",
       "      <td>337.0</td>\n",
       "      <td>1.0</td>\n",
       "      <td>993.7</td>\n",
       "      <td>3149.2</td>\n",
       "      <td>36.708333</td>\n",
       "    </tr>\n",
       "    <tr>\n",
       "      <th>4</th>\n",
       "      <td>2012-01-05</td>\n",
       "      <td>26.375000</td>\n",
       "      <td>0.0</td>\n",
       "      <td>1.0</td>\n",
       "      <td>bolz</td>\n",
       "      <td>79.8</td>\n",
       "      <td>343.0</td>\n",
       "      <td>1.5</td>\n",
       "      <td>980.3</td>\n",
       "      <td>5839.9</td>\n",
       "      <td>33.041667</td>\n",
       "    </tr>\n",
       "    <tr>\n",
       "      <th>...</th>\n",
       "      <td>...</td>\n",
       "      <td>...</td>\n",
       "      <td>...</td>\n",
       "      <td>...</td>\n",
       "      <td>...</td>\n",
       "      <td>...</td>\n",
       "      <td>...</td>\n",
       "      <td>...</td>\n",
       "      <td>...</td>\n",
       "      <td>...</td>\n",
       "      <td>...</td>\n",
       "    </tr>\n",
       "    <tr>\n",
       "      <th>3837</th>\n",
       "      <td>2022-07-04</td>\n",
       "      <td>16.250000</td>\n",
       "      <td>7.0</td>\n",
       "      <td>23.2</td>\n",
       "      <td>bolz</td>\n",
       "      <td>70.6</td>\n",
       "      <td>315.0</td>\n",
       "      <td>3.7</td>\n",
       "      <td>991.4</td>\n",
       "      <td>16440.8</td>\n",
       "      <td>23.000000</td>\n",
       "    </tr>\n",
       "    <tr>\n",
       "      <th>3838</th>\n",
       "      <td>2022-07-05</td>\n",
       "      <td>9.291667</td>\n",
       "      <td>0.0</td>\n",
       "      <td>24.9</td>\n",
       "      <td>bolz</td>\n",
       "      <td>59.5</td>\n",
       "      <td>330.0</td>\n",
       "      <td>2.9</td>\n",
       "      <td>989.0</td>\n",
       "      <td>25228.8</td>\n",
       "      <td>16.250000</td>\n",
       "    </tr>\n",
       "    <tr>\n",
       "      <th>3839</th>\n",
       "      <td>2022-07-06</td>\n",
       "      <td>9.875000</td>\n",
       "      <td>0.0</td>\n",
       "      <td>25.2</td>\n",
       "      <td>bolz</td>\n",
       "      <td>54.2</td>\n",
       "      <td>336.0</td>\n",
       "      <td>2.0</td>\n",
       "      <td>990.8</td>\n",
       "      <td>28751.0</td>\n",
       "      <td>9.291667</td>\n",
       "    </tr>\n",
       "    <tr>\n",
       "      <th>3840</th>\n",
       "      <td>2022-07-07</td>\n",
       "      <td>14.875000</td>\n",
       "      <td>4.0</td>\n",
       "      <td>23.5</td>\n",
       "      <td>bolz</td>\n",
       "      <td>62.2</td>\n",
       "      <td>296.0</td>\n",
       "      <td>1.3</td>\n",
       "      <td>989.6</td>\n",
       "      <td>19994.8</td>\n",
       "      <td>9.875000</td>\n",
       "    </tr>\n",
       "    <tr>\n",
       "      <th>3841</th>\n",
       "      <td>2022-07-08</td>\n",
       "      <td>14.000000</td>\n",
       "      <td>0.0</td>\n",
       "      <td>23.9</td>\n",
       "      <td>bolz</td>\n",
       "      <td>41.2</td>\n",
       "      <td>341.0</td>\n",
       "      <td>2.5</td>\n",
       "      <td>993.2</td>\n",
       "      <td>29513.0</td>\n",
       "      <td>14.875000</td>\n",
       "    </tr>\n",
       "  </tbody>\n",
       "</table>\n",
       "<p>3815 rows × 11 columns</p>\n",
       "</div>"
      ],
      "text/plain": [
       "           Data     Valore  rain  temp Location   hum  w_dir  w_sp  press  \\\n",
       "0    2012-01-01  55.727273   0.0   0.0     bolz  78.6  342.0   0.7  995.5   \n",
       "1    2012-01-02  62.291667  15.0  -0.4     bolz  95.0  348.0   1.0  994.7   \n",
       "2    2012-01-03  36.708333   0.6   3.6     bolz  86.8  329.0   1.8  997.5   \n",
       "3    2012-01-04  33.041667   0.0   0.1     bolz  90.0  337.0   1.0  993.7   \n",
       "4    2012-01-05  26.375000   0.0   1.0     bolz  79.8  343.0   1.5  980.3   \n",
       "...         ...        ...   ...   ...      ...   ...    ...   ...    ...   \n",
       "3837 2022-07-04  16.250000   7.0  23.2     bolz  70.6  315.0   3.7  991.4   \n",
       "3838 2022-07-05   9.291667   0.0  24.9     bolz  59.5  330.0   2.9  989.0   \n",
       "3839 2022-07-06   9.875000   0.0  25.2     bolz  54.2  336.0   2.0  990.8   \n",
       "3840 2022-07-07  14.875000   4.0  23.5     bolz  62.2  296.0   1.3  989.6   \n",
       "3841 2022-07-08  14.000000   0.0  23.9     bolz  41.2  341.0   2.5  993.2   \n",
       "\n",
       "          sol   Prev day  \n",
       "0      6433.5  55.727273  \n",
       "1      1154.3  55.727273  \n",
       "2      7082.0  62.291667  \n",
       "3      3149.2  36.708333  \n",
       "4      5839.9  33.041667  \n",
       "...       ...        ...  \n",
       "3837  16440.8  23.000000  \n",
       "3838  25228.8  16.250000  \n",
       "3839  28751.0   9.291667  \n",
       "3840  19994.8   9.875000  \n",
       "3841  29513.0  14.875000  \n",
       "\n",
       "[3815 rows x 11 columns]"
      ]
     },
     "execution_count": 870,
     "metadata": {},
     "output_type": "execute_result"
    }
   ],
   "source": [
    "merged_df = merged_df.dropna()\n",
    "merged_df"
   ]
  },
  {
   "cell_type": "code",
   "execution_count": 871,
   "metadata": {},
   "outputs": [],
   "source": [
    "from sklearn.model_selection import train_test_split\n",
    "from sklearn.linear_model import LinearRegression\n",
    "SEED = 42"
   ]
  },
  {
   "cell_type": "code",
   "execution_count": 872,
   "metadata": {},
   "outputs": [],
   "source": [
    "input_columns = [\n",
    "    'rain', \n",
    "    'temp', \n",
    "    'hum', \n",
    "    'w_dir', \n",
    "    'w_sp', \n",
    "    'press', \n",
    "    'sol',\n",
    "    #'Prev day'\n",
    "]\n",
    "\n",
    "y = merged_df['Valore']\n",
    "X = merged_df[input_columns]"
   ]
  },
  {
   "cell_type": "code",
   "execution_count": 873,
   "metadata": {},
   "outputs": [],
   "source": [
    "test_years = [2015, 2017]\n",
    "train_years = [2012, 2013, 2014, 2016, 2018, 2019, 2020, 2021, 2022]\n"
   ]
  },
  {
   "cell_type": "code",
   "execution_count": 874,
   "metadata": {},
   "outputs": [],
   "source": [
    "# X_train, X_test, y_train, y_test = train_test_split(X, y, \n",
    "#                                                     test_size=0.2, \n",
    "#                                                     random_state=SEED)"
   ]
  },
  {
   "cell_type": "code",
   "execution_count": 875,
   "metadata": {},
   "outputs": [],
   "source": [
    "X_train, y_train, X_test, y_test = (\n",
    "    X[merged_df.Data.dt.year.isin(train_years)],\n",
    "    y[merged_df.Data.dt.year.isin(train_years)],\n",
    "    X[merged_df.Data.dt.year.isin(test_years)],\n",
    "    y[merged_df.Data.dt.year.isin(test_years)]\n",
    ")"
   ]
  },
  {
   "cell_type": "code",
   "execution_count": 876,
   "metadata": {},
   "outputs": [
    {
     "data": {
      "text/plain": [
       "(3815, 7)"
      ]
     },
     "execution_count": 876,
     "metadata": {},
     "output_type": "execute_result"
    }
   ],
   "source": [
    "X.shape"
   ]
  },
  {
   "cell_type": "markdown",
   "metadata": {},
   "source": [
    "# ---- Start of Linear regression ----"
   ]
  },
  {
   "cell_type": "code",
   "execution_count": 877,
   "metadata": {},
   "outputs": [
    {
     "data": {
      "text/html": [
       "<style>#sk-container-id-22 {color: black;background-color: white;}#sk-container-id-22 pre{padding: 0;}#sk-container-id-22 div.sk-toggleable {background-color: white;}#sk-container-id-22 label.sk-toggleable__label {cursor: pointer;display: block;width: 100%;margin-bottom: 0;padding: 0.3em;box-sizing: border-box;text-align: center;}#sk-container-id-22 label.sk-toggleable__label-arrow:before {content: \"▸\";float: left;margin-right: 0.25em;color: #696969;}#sk-container-id-22 label.sk-toggleable__label-arrow:hover:before {color: black;}#sk-container-id-22 div.sk-estimator:hover label.sk-toggleable__label-arrow:before {color: black;}#sk-container-id-22 div.sk-toggleable__content {max-height: 0;max-width: 0;overflow: hidden;text-align: left;background-color: #f0f8ff;}#sk-container-id-22 div.sk-toggleable__content pre {margin: 0.2em;color: black;border-radius: 0.25em;background-color: #f0f8ff;}#sk-container-id-22 input.sk-toggleable__control:checked~div.sk-toggleable__content {max-height: 200px;max-width: 100%;overflow: auto;}#sk-container-id-22 input.sk-toggleable__control:checked~label.sk-toggleable__label-arrow:before {content: \"▾\";}#sk-container-id-22 div.sk-estimator input.sk-toggleable__control:checked~label.sk-toggleable__label {background-color: #d4ebff;}#sk-container-id-22 div.sk-label input.sk-toggleable__control:checked~label.sk-toggleable__label {background-color: #d4ebff;}#sk-container-id-22 input.sk-hidden--visually {border: 0;clip: rect(1px 1px 1px 1px);clip: rect(1px, 1px, 1px, 1px);height: 1px;margin: -1px;overflow: hidden;padding: 0;position: absolute;width: 1px;}#sk-container-id-22 div.sk-estimator {font-family: monospace;background-color: #f0f8ff;border: 1px dotted black;border-radius: 0.25em;box-sizing: border-box;margin-bottom: 0.5em;}#sk-container-id-22 div.sk-estimator:hover {background-color: #d4ebff;}#sk-container-id-22 div.sk-parallel-item::after {content: \"\";width: 100%;border-bottom: 1px solid gray;flex-grow: 1;}#sk-container-id-22 div.sk-label:hover label.sk-toggleable__label {background-color: #d4ebff;}#sk-container-id-22 div.sk-serial::before {content: \"\";position: absolute;border-left: 1px solid gray;box-sizing: border-box;top: 0;bottom: 0;left: 50%;z-index: 0;}#sk-container-id-22 div.sk-serial {display: flex;flex-direction: column;align-items: center;background-color: white;padding-right: 0.2em;padding-left: 0.2em;position: relative;}#sk-container-id-22 div.sk-item {position: relative;z-index: 1;}#sk-container-id-22 div.sk-parallel {display: flex;align-items: stretch;justify-content: center;background-color: white;position: relative;}#sk-container-id-22 div.sk-item::before, #sk-container-id-22 div.sk-parallel-item::before {content: \"\";position: absolute;border-left: 1px solid gray;box-sizing: border-box;top: 0;bottom: 0;left: 50%;z-index: -1;}#sk-container-id-22 div.sk-parallel-item {display: flex;flex-direction: column;z-index: 1;position: relative;background-color: white;}#sk-container-id-22 div.sk-parallel-item:first-child::after {align-self: flex-end;width: 50%;}#sk-container-id-22 div.sk-parallel-item:last-child::after {align-self: flex-start;width: 50%;}#sk-container-id-22 div.sk-parallel-item:only-child::after {width: 0;}#sk-container-id-22 div.sk-dashed-wrapped {border: 1px dashed gray;margin: 0 0.4em 0.5em 0.4em;box-sizing: border-box;padding-bottom: 0.4em;background-color: white;}#sk-container-id-22 div.sk-label label {font-family: monospace;font-weight: bold;display: inline-block;line-height: 1.2em;}#sk-container-id-22 div.sk-label-container {text-align: center;}#sk-container-id-22 div.sk-container {/* jupyter's `normalize.less` sets `[hidden] { display: none; }` but bootstrap.min.css set `[hidden] { display: none !important; }` so we also need the `!important` here to be able to override the default hidden behavior on the sphinx rendered scikit-learn.org. See: https://github.com/scikit-learn/scikit-learn/issues/21755 */display: inline-block !important;position: relative;}#sk-container-id-22 div.sk-text-repr-fallback {display: none;}</style><div id=\"sk-container-id-22\" class=\"sk-top-container\"><div class=\"sk-text-repr-fallback\"><pre>LinearRegression()</pre><b>In a Jupyter environment, please rerun this cell to show the HTML representation or trust the notebook. <br />On GitHub, the HTML representation is unable to render, please try loading this page with nbviewer.org.</b></div><div class=\"sk-container\" hidden><div class=\"sk-item\"><div class=\"sk-estimator sk-toggleable\"><input class=\"sk-toggleable__control sk-hidden--visually\" id=\"sk-estimator-id-22\" type=\"checkbox\" checked><label for=\"sk-estimator-id-22\" class=\"sk-toggleable__label sk-toggleable__label-arrow\">LinearRegression</label><div class=\"sk-toggleable__content\"><pre>LinearRegression()</pre></div></div></div></div></div>"
      ],
      "text/plain": [
       "LinearRegression()"
      ]
     },
     "execution_count": 877,
     "metadata": {},
     "output_type": "execute_result"
    }
   ],
   "source": [
    "regressor = LinearRegression()\n",
    "regressor.fit(X_train, y_train)"
   ]
  },
  {
   "cell_type": "code",
   "execution_count": 878,
   "metadata": {},
   "outputs": [
    {
     "data": {
      "text/plain": [
       "-298.3245056652635"
      ]
     },
     "execution_count": 878,
     "metadata": {},
     "output_type": "execute_result"
    }
   ],
   "source": [
    "regressor.intercept_"
   ]
  },
  {
   "cell_type": "code",
   "execution_count": 879,
   "metadata": {},
   "outputs": [
    {
     "data": {
      "text/plain": [
       "array([-1.85373368e-01, -4.12057806e-01,  3.00976713e-02, -1.50454340e-02,\n",
       "       -4.98894237e+00,  3.44589901e-01, -1.47538483e-04])"
      ]
     },
     "execution_count": 879,
     "metadata": {},
     "output_type": "execute_result"
    }
   ],
   "source": [
    "regressor.coef_"
   ]
  },
  {
   "cell_type": "code",
   "execution_count": 880,
   "metadata": {},
   "outputs": [
    {
     "name": "stdout",
     "output_type": "stream",
     "text": [
      "       Coefficient value\n",
      "rain           -0.185373\n",
      "temp           -0.412058\n",
      "hum             0.030098\n",
      "w_dir          -0.015045\n",
      "w_sp           -4.988942\n",
      "press           0.344590\n",
      "sol            -0.000148\n"
     ]
    }
   ],
   "source": [
    "feature_names = X.columns\n",
    "model_coefficients = regressor.coef_\n",
    "\n",
    "coefficients_df = pd.DataFrame(data = model_coefficients, \n",
    "                              index = feature_names, \n",
    "                              columns = ['Coefficient value'])\n",
    "print(coefficients_df)"
   ]
  },
  {
   "cell_type": "code",
   "execution_count": 881,
   "metadata": {},
   "outputs": [
    {
     "name": "stdout",
     "output_type": "stream",
     "text": [
      "       Coefficient value\n",
      "rain           -0.185373\n",
      "temp           -0.412058\n",
      "hum             0.030098\n",
      "w_dir          -0.015045\n",
      "w_sp           -4.988942\n",
      "press           0.344590\n",
      "sol            -0.000148\n"
     ]
    }
   ],
   "source": [
    "feature_names = X.columns\n",
    "model_coefficients = regressor.coef_\n",
    "\n",
    "coefficients_df = pd.DataFrame(data = model_coefficients, \n",
    "                              index = feature_names, \n",
    "                              columns = ['Coefficient value'])\n",
    "print(coefficients_df)"
   ]
  },
  {
   "cell_type": "code",
   "execution_count": 882,
   "metadata": {},
   "outputs": [],
   "source": [
    "y_pred = regressor.predict(X_test)"
   ]
  },
  {
   "cell_type": "code",
   "execution_count": 883,
   "metadata": {},
   "outputs": [
    {
     "data": {
      "text/html": [
       "<div>\n",
       "<style scoped>\n",
       "    .dataframe tbody tr th:only-of-type {\n",
       "        vertical-align: middle;\n",
       "    }\n",
       "\n",
       "    .dataframe tbody tr th {\n",
       "        vertical-align: top;\n",
       "    }\n",
       "\n",
       "    .dataframe thead th {\n",
       "        text-align: right;\n",
       "    }\n",
       "</style>\n",
       "<table border=\"1\" class=\"dataframe\">\n",
       "  <thead>\n",
       "    <tr style=\"text-align: right;\">\n",
       "      <th></th>\n",
       "      <th>rain</th>\n",
       "      <th>temp</th>\n",
       "      <th>hum</th>\n",
       "      <th>w_dir</th>\n",
       "      <th>w_sp</th>\n",
       "      <th>press</th>\n",
       "      <th>sol</th>\n",
       "    </tr>\n",
       "  </thead>\n",
       "  <tbody>\n",
       "    <tr>\n",
       "      <th>1096</th>\n",
       "      <td>0.0</td>\n",
       "      <td>-2.1</td>\n",
       "      <td>83.4</td>\n",
       "      <td>329.0</td>\n",
       "      <td>0.7</td>\n",
       "      <td>1007.8</td>\n",
       "      <td>6263.2</td>\n",
       "    </tr>\n",
       "    <tr>\n",
       "      <th>1097</th>\n",
       "      <td>0.0</td>\n",
       "      <td>0.3</td>\n",
       "      <td>80.5</td>\n",
       "      <td>325.0</td>\n",
       "      <td>0.8</td>\n",
       "      <td>1004.8</td>\n",
       "      <td>5706.2</td>\n",
       "    </tr>\n",
       "    <tr>\n",
       "      <th>1098</th>\n",
       "      <td>0.0</td>\n",
       "      <td>2.1</td>\n",
       "      <td>82.6</td>\n",
       "      <td>173.0</td>\n",
       "      <td>1.0</td>\n",
       "      <td>997.1</td>\n",
       "      <td>6063.6</td>\n",
       "    </tr>\n",
       "    <tr>\n",
       "      <th>1099</th>\n",
       "      <td>0.0</td>\n",
       "      <td>6.1</td>\n",
       "      <td>55.0</td>\n",
       "      <td>346.0</td>\n",
       "      <td>2.1</td>\n",
       "      <td>996.1</td>\n",
       "      <td>7265.4</td>\n",
       "    </tr>\n",
       "    <tr>\n",
       "      <th>1100</th>\n",
       "      <td>0.0</td>\n",
       "      <td>2.1</td>\n",
       "      <td>52.4</td>\n",
       "      <td>336.0</td>\n",
       "      <td>1.2</td>\n",
       "      <td>1001.6</td>\n",
       "      <td>7310.8</td>\n",
       "    </tr>\n",
       "    <tr>\n",
       "      <th>...</th>\n",
       "      <td>...</td>\n",
       "      <td>...</td>\n",
       "      <td>...</td>\n",
       "      <td>...</td>\n",
       "      <td>...</td>\n",
       "      <td>...</td>\n",
       "      <td>...</td>\n",
       "    </tr>\n",
       "    <tr>\n",
       "      <th>2187</th>\n",
       "      <td>32.8</td>\n",
       "      <td>1.1</td>\n",
       "      <td>100.0</td>\n",
       "      <td>348.0</td>\n",
       "      <td>1.1</td>\n",
       "      <td>969.6</td>\n",
       "      <td>253.2</td>\n",
       "    </tr>\n",
       "    <tr>\n",
       "      <th>2188</th>\n",
       "      <td>4.6</td>\n",
       "      <td>4.0</td>\n",
       "      <td>73.5</td>\n",
       "      <td>322.0</td>\n",
       "      <td>3.1</td>\n",
       "      <td>966.4</td>\n",
       "      <td>1754.1</td>\n",
       "    </tr>\n",
       "    <tr>\n",
       "      <th>2189</th>\n",
       "      <td>0.0</td>\n",
       "      <td>2.1</td>\n",
       "      <td>55.9</td>\n",
       "      <td>335.0</td>\n",
       "      <td>2.5</td>\n",
       "      <td>984.0</td>\n",
       "      <td>4742.2</td>\n",
       "    </tr>\n",
       "    <tr>\n",
       "      <th>2190</th>\n",
       "      <td>0.0</td>\n",
       "      <td>-0.3</td>\n",
       "      <td>74.5</td>\n",
       "      <td>334.0</td>\n",
       "      <td>2.1</td>\n",
       "      <td>990.2</td>\n",
       "      <td>4078.9</td>\n",
       "    </tr>\n",
       "    <tr>\n",
       "      <th>2191</th>\n",
       "      <td>0.0</td>\n",
       "      <td>-0.8</td>\n",
       "      <td>87.5</td>\n",
       "      <td>329.0</td>\n",
       "      <td>0.6</td>\n",
       "      <td>993.1</td>\n",
       "      <td>5403.5</td>\n",
       "    </tr>\n",
       "  </tbody>\n",
       "</table>\n",
       "<p>725 rows × 7 columns</p>\n",
       "</div>"
      ],
      "text/plain": [
       "      rain  temp    hum  w_dir  w_sp   press     sol\n",
       "1096   0.0  -2.1   83.4  329.0   0.7  1007.8  6263.2\n",
       "1097   0.0   0.3   80.5  325.0   0.8  1004.8  5706.2\n",
       "1098   0.0   2.1   82.6  173.0   1.0   997.1  6063.6\n",
       "1099   0.0   6.1   55.0  346.0   2.1   996.1  7265.4\n",
       "1100   0.0   2.1   52.4  336.0   1.2  1001.6  7310.8\n",
       "...    ...   ...    ...    ...   ...     ...     ...\n",
       "2187  32.8   1.1  100.0  348.0   1.1   969.6   253.2\n",
       "2188   4.6   4.0   73.5  322.0   3.1   966.4  1754.1\n",
       "2189   0.0   2.1   55.9  335.0   2.5   984.0  4742.2\n",
       "2190   0.0  -0.3   74.5  334.0   2.1   990.2  4078.9\n",
       "2191   0.0  -0.8   87.5  329.0   0.6   993.1  5403.5\n",
       "\n",
       "[725 rows x 7 columns]"
      ]
     },
     "execution_count": 883,
     "metadata": {},
     "output_type": "execute_result"
    }
   ],
   "source": [
    "X_test"
   ]
  },
  {
   "cell_type": "code",
   "execution_count": 884,
   "metadata": {},
   "outputs": [
    {
     "name": "stdout",
     "output_type": "stream",
     "text": [
      "         Actual  Predicted\n",
      "1096  67.600000  42.962394\n",
      "1097  45.666667  40.495868\n",
      "1098  43.125000  38.400414\n",
      "1099  20.500000  27.308889\n",
      "1100  38.416667  35.407915\n",
      "...         ...        ...\n",
      "2187  37.083333  21.505115\n",
      "2188   7.291667  13.829257\n",
      "2189  16.666667  23.356862\n",
      "2190  26.291667  29.150560\n",
      "2191  42.875000  38.110380\n",
      "\n",
      "[725 rows x 2 columns]\n"
     ]
    }
   ],
   "source": [
    "results = pd.DataFrame({'Actual': y_test, 'Predicted': y_pred})\n",
    "print(results)"
   ]
  },
  {
   "cell_type": "code",
   "execution_count": 885,
   "metadata": {},
   "outputs": [
    {
     "data": {
      "text/html": [
       "<div>\n",
       "<style scoped>\n",
       "    .dataframe tbody tr th:only-of-type {\n",
       "        vertical-align: middle;\n",
       "    }\n",
       "\n",
       "    .dataframe tbody tr th {\n",
       "        vertical-align: top;\n",
       "    }\n",
       "\n",
       "    .dataframe thead th {\n",
       "        text-align: right;\n",
       "    }\n",
       "</style>\n",
       "<table border=\"1\" class=\"dataframe\">\n",
       "  <thead>\n",
       "    <tr style=\"text-align: right;\">\n",
       "      <th></th>\n",
       "      <th>Actual</th>\n",
       "      <th>Predicted</th>\n",
       "    </tr>\n",
       "  </thead>\n",
       "  <tbody>\n",
       "    <tr>\n",
       "      <th>Actual</th>\n",
       "      <td>1.000000</td>\n",
       "      <td>0.581777</td>\n",
       "    </tr>\n",
       "    <tr>\n",
       "      <th>Predicted</th>\n",
       "      <td>0.581777</td>\n",
       "      <td>1.000000</td>\n",
       "    </tr>\n",
       "  </tbody>\n",
       "</table>\n",
       "</div>"
      ],
      "text/plain": [
       "             Actual  Predicted\n",
       "Actual     1.000000   0.581777\n",
       "Predicted  0.581777   1.000000"
      ]
     },
     "execution_count": 885,
     "metadata": {},
     "output_type": "execute_result"
    }
   ],
   "source": [
    "results.corr()"
   ]
  },
  {
   "cell_type": "code",
   "execution_count": 886,
   "metadata": {},
   "outputs": [],
   "source": [
    "test_chart_data = merged_df[\n",
    "    merged_df.Data.dt.year.isin(test_years)\n",
    "]"
   ]
  },
  {
   "cell_type": "code",
   "execution_count": 887,
   "metadata": {},
   "outputs": [
    {
     "name": "stderr",
     "output_type": "stream",
     "text": [
      "C:\\Users\\thoma\\AppData\\Local\\Temp\\ipykernel_3592\\2148041345.py:1: SettingWithCopyWarning: \n",
      "A value is trying to be set on a copy of a slice from a DataFrame.\n",
      "Try using .loc[row_indexer,col_indexer] = value instead\n",
      "\n",
      "See the caveats in the documentation: https://pandas.pydata.org/pandas-docs/stable/user_guide/indexing.html#returning-a-view-versus-a-copy\n",
      "  test_chart_data[\"pred\"] = regressor.predict(test_chart_data[input_columns])\n"
     ]
    }
   ],
   "source": [
    "test_chart_data[\"pred\"] = regressor.predict(test_chart_data[input_columns])"
   ]
  },
  {
   "cell_type": "code",
   "execution_count": 888,
   "metadata": {},
   "outputs": [
    {
     "data": {
      "text/plain": [
       "['rain', 'temp', 'hum', 'w_dir', 'w_sp', 'press', 'sol']"
      ]
     },
     "execution_count": 888,
     "metadata": {},
     "output_type": "execute_result"
    }
   ],
   "source": [
    "input_columns"
   ]
  },
  {
   "cell_type": "code",
   "execution_count": 889,
   "metadata": {},
   "outputs": [
    {
     "name": "stderr",
     "output_type": "stream",
     "text": [
      "c:\\Python310\\lib\\site-packages\\sklearn\\base.py:450: UserWarning: X does not have valid feature names, but LinearRegression was fitted with feature names\n",
      "  warnings.warn(\n",
      "c:\\Python310\\lib\\site-packages\\sklearn\\base.py:450: UserWarning: X does not have valid feature names, but LinearRegression was fitted with feature names\n",
      "  warnings.warn(\n",
      "c:\\Python310\\lib\\site-packages\\sklearn\\base.py:450: UserWarning: X does not have valid feature names, but LinearRegression was fitted with feature names\n",
      "  warnings.warn(\n",
      "c:\\Python310\\lib\\site-packages\\sklearn\\base.py:450: UserWarning: X does not have valid feature names, but LinearRegression was fitted with feature names\n",
      "  warnings.warn(\n",
      "c:\\Python310\\lib\\site-packages\\sklearn\\base.py:450: UserWarning: X does not have valid feature names, but LinearRegression was fitted with feature names\n",
      "  warnings.warn(\n",
      "c:\\Python310\\lib\\site-packages\\sklearn\\base.py:450: UserWarning: X does not have valid feature names, but LinearRegression was fitted with feature names\n",
      "  warnings.warn(\n",
      "c:\\Python310\\lib\\site-packages\\sklearn\\base.py:450: UserWarning: X does not have valid feature names, but LinearRegression was fitted with feature names\n",
      "  warnings.warn(\n",
      "c:\\Python310\\lib\\site-packages\\sklearn\\base.py:450: UserWarning: X does not have valid feature names, but LinearRegression was fitted with feature names\n",
      "  warnings.warn(\n",
      "c:\\Python310\\lib\\site-packages\\sklearn\\base.py:450: UserWarning: X does not have valid feature names, but LinearRegression was fitted with feature names\n",
      "  warnings.warn(\n",
      "c:\\Python310\\lib\\site-packages\\sklearn\\base.py:450: UserWarning: X does not have valid feature names, but LinearRegression was fitted with feature names\n",
      "  warnings.warn(\n",
      "c:\\Python310\\lib\\site-packages\\sklearn\\base.py:450: UserWarning: X does not have valid feature names, but LinearRegression was fitted with feature names\n",
      "  warnings.warn(\n",
      "c:\\Python310\\lib\\site-packages\\sklearn\\base.py:450: UserWarning: X does not have valid feature names, but LinearRegression was fitted with feature names\n",
      "  warnings.warn(\n",
      "c:\\Python310\\lib\\site-packages\\sklearn\\base.py:450: UserWarning: X does not have valid feature names, but LinearRegression was fitted with feature names\n",
      "  warnings.warn(\n",
      "c:\\Python310\\lib\\site-packages\\sklearn\\base.py:450: UserWarning: X does not have valid feature names, but LinearRegression was fitted with feature names\n",
      "  warnings.warn(\n",
      "c:\\Python310\\lib\\site-packages\\sklearn\\base.py:450: UserWarning: X does not have valid feature names, but LinearRegression was fitted with feature names\n",
      "  warnings.warn(\n",
      "c:\\Python310\\lib\\site-packages\\sklearn\\base.py:450: UserWarning: X does not have valid feature names, but LinearRegression was fitted with feature names\n",
      "  warnings.warn(\n",
      "c:\\Python310\\lib\\site-packages\\sklearn\\base.py:450: UserWarning: X does not have valid feature names, but LinearRegression was fitted with feature names\n",
      "  warnings.warn(\n",
      "c:\\Python310\\lib\\site-packages\\sklearn\\base.py:450: UserWarning: X does not have valid feature names, but LinearRegression was fitted with feature names\n",
      "  warnings.warn(\n",
      "c:\\Python310\\lib\\site-packages\\sklearn\\base.py:450: UserWarning: X does not have valid feature names, but LinearRegression was fitted with feature names\n",
      "  warnings.warn(\n",
      "c:\\Python310\\lib\\site-packages\\sklearn\\base.py:450: UserWarning: X does not have valid feature names, but LinearRegression was fitted with feature names\n",
      "  warnings.warn(\n",
      "c:\\Python310\\lib\\site-packages\\sklearn\\base.py:450: UserWarning: X does not have valid feature names, but LinearRegression was fitted with feature names\n",
      "  warnings.warn(\n",
      "c:\\Python310\\lib\\site-packages\\sklearn\\base.py:450: UserWarning: X does not have valid feature names, but LinearRegression was fitted with feature names\n",
      "  warnings.warn(\n",
      "c:\\Python310\\lib\\site-packages\\sklearn\\base.py:450: UserWarning: X does not have valid feature names, but LinearRegression was fitted with feature names\n",
      "  warnings.warn(\n",
      "c:\\Python310\\lib\\site-packages\\sklearn\\base.py:450: UserWarning: X does not have valid feature names, but LinearRegression was fitted with feature names\n",
      "  warnings.warn(\n",
      "c:\\Python310\\lib\\site-packages\\sklearn\\base.py:450: UserWarning: X does not have valid feature names, but LinearRegression was fitted with feature names\n",
      "  warnings.warn(\n",
      "c:\\Python310\\lib\\site-packages\\sklearn\\base.py:450: UserWarning: X does not have valid feature names, but LinearRegression was fitted with feature names\n",
      "  warnings.warn(\n",
      "c:\\Python310\\lib\\site-packages\\sklearn\\base.py:450: UserWarning: X does not have valid feature names, but LinearRegression was fitted with feature names\n",
      "  warnings.warn(\n",
      "c:\\Python310\\lib\\site-packages\\sklearn\\base.py:450: UserWarning: X does not have valid feature names, but LinearRegression was fitted with feature names\n",
      "  warnings.warn(\n",
      "c:\\Python310\\lib\\site-packages\\sklearn\\base.py:450: UserWarning: X does not have valid feature names, but LinearRegression was fitted with feature names\n",
      "  warnings.warn(\n",
      "c:\\Python310\\lib\\site-packages\\sklearn\\base.py:450: UserWarning: X does not have valid feature names, but LinearRegression was fitted with feature names\n",
      "  warnings.warn(\n",
      "c:\\Python310\\lib\\site-packages\\sklearn\\base.py:450: UserWarning: X does not have valid feature names, but LinearRegression was fitted with feature names\n",
      "  warnings.warn(\n",
      "c:\\Python310\\lib\\site-packages\\sklearn\\base.py:450: UserWarning: X does not have valid feature names, but LinearRegression was fitted with feature names\n",
      "  warnings.warn(\n",
      "c:\\Python310\\lib\\site-packages\\sklearn\\base.py:450: UserWarning: X does not have valid feature names, but LinearRegression was fitted with feature names\n",
      "  warnings.warn(\n",
      "c:\\Python310\\lib\\site-packages\\sklearn\\base.py:450: UserWarning: X does not have valid feature names, but LinearRegression was fitted with feature names\n",
      "  warnings.warn(\n",
      "c:\\Python310\\lib\\site-packages\\sklearn\\base.py:450: UserWarning: X does not have valid feature names, but LinearRegression was fitted with feature names\n",
      "  warnings.warn(\n",
      "c:\\Python310\\lib\\site-packages\\sklearn\\base.py:450: UserWarning: X does not have valid feature names, but LinearRegression was fitted with feature names\n",
      "  warnings.warn(\n",
      "c:\\Python310\\lib\\site-packages\\sklearn\\base.py:450: UserWarning: X does not have valid feature names, but LinearRegression was fitted with feature names\n",
      "  warnings.warn(\n",
      "c:\\Python310\\lib\\site-packages\\sklearn\\base.py:450: UserWarning: X does not have valid feature names, but LinearRegression was fitted with feature names\n",
      "  warnings.warn(\n",
      "c:\\Python310\\lib\\site-packages\\sklearn\\base.py:450: UserWarning: X does not have valid feature names, but LinearRegression was fitted with feature names\n",
      "  warnings.warn(\n",
      "c:\\Python310\\lib\\site-packages\\sklearn\\base.py:450: UserWarning: X does not have valid feature names, but LinearRegression was fitted with feature names\n",
      "  warnings.warn(\n",
      "c:\\Python310\\lib\\site-packages\\sklearn\\base.py:450: UserWarning: X does not have valid feature names, but LinearRegression was fitted with feature names\n",
      "  warnings.warn(\n",
      "c:\\Python310\\lib\\site-packages\\sklearn\\base.py:450: UserWarning: X does not have valid feature names, but LinearRegression was fitted with feature names\n",
      "  warnings.warn(\n",
      "c:\\Python310\\lib\\site-packages\\sklearn\\base.py:450: UserWarning: X does not have valid feature names, but LinearRegression was fitted with feature names\n",
      "  warnings.warn(\n",
      "c:\\Python310\\lib\\site-packages\\sklearn\\base.py:450: UserWarning: X does not have valid feature names, but LinearRegression was fitted with feature names\n",
      "  warnings.warn(\n",
      "c:\\Python310\\lib\\site-packages\\sklearn\\base.py:450: UserWarning: X does not have valid feature names, but LinearRegression was fitted with feature names\n",
      "  warnings.warn(\n",
      "c:\\Python310\\lib\\site-packages\\sklearn\\base.py:450: UserWarning: X does not have valid feature names, but LinearRegression was fitted with feature names\n",
      "  warnings.warn(\n",
      "c:\\Python310\\lib\\site-packages\\sklearn\\base.py:450: UserWarning: X does not have valid feature names, but LinearRegression was fitted with feature names\n",
      "  warnings.warn(\n",
      "c:\\Python310\\lib\\site-packages\\sklearn\\base.py:450: UserWarning: X does not have valid feature names, but LinearRegression was fitted with feature names\n",
      "  warnings.warn(\n",
      "c:\\Python310\\lib\\site-packages\\sklearn\\base.py:450: UserWarning: X does not have valid feature names, but LinearRegression was fitted with feature names\n",
      "  warnings.warn(\n",
      "c:\\Python310\\lib\\site-packages\\sklearn\\base.py:450: UserWarning: X does not have valid feature names, but LinearRegression was fitted with feature names\n",
      "  warnings.warn(\n",
      "c:\\Python310\\lib\\site-packages\\sklearn\\base.py:450: UserWarning: X does not have valid feature names, but LinearRegression was fitted with feature names\n",
      "  warnings.warn(\n",
      "c:\\Python310\\lib\\site-packages\\sklearn\\base.py:450: UserWarning: X does not have valid feature names, but LinearRegression was fitted with feature names\n",
      "  warnings.warn(\n",
      "c:\\Python310\\lib\\site-packages\\sklearn\\base.py:450: UserWarning: X does not have valid feature names, but LinearRegression was fitted with feature names\n",
      "  warnings.warn(\n",
      "c:\\Python310\\lib\\site-packages\\sklearn\\base.py:450: UserWarning: X does not have valid feature names, but LinearRegression was fitted with feature names\n",
      "  warnings.warn(\n",
      "c:\\Python310\\lib\\site-packages\\sklearn\\base.py:450: UserWarning: X does not have valid feature names, but LinearRegression was fitted with feature names\n",
      "  warnings.warn(\n",
      "c:\\Python310\\lib\\site-packages\\sklearn\\base.py:450: UserWarning: X does not have valid feature names, but LinearRegression was fitted with feature names\n",
      "  warnings.warn(\n",
      "c:\\Python310\\lib\\site-packages\\sklearn\\base.py:450: UserWarning: X does not have valid feature names, but LinearRegression was fitted with feature names\n",
      "  warnings.warn(\n",
      "c:\\Python310\\lib\\site-packages\\sklearn\\base.py:450: UserWarning: X does not have valid feature names, but LinearRegression was fitted with feature names\n",
      "  warnings.warn(\n",
      "c:\\Python310\\lib\\site-packages\\sklearn\\base.py:450: UserWarning: X does not have valid feature names, but LinearRegression was fitted with feature names\n",
      "  warnings.warn(\n",
      "c:\\Python310\\lib\\site-packages\\sklearn\\base.py:450: UserWarning: X does not have valid feature names, but LinearRegression was fitted with feature names\n",
      "  warnings.warn(\n",
      "c:\\Python310\\lib\\site-packages\\sklearn\\base.py:450: UserWarning: X does not have valid feature names, but LinearRegression was fitted with feature names\n",
      "  warnings.warn(\n",
      "c:\\Python310\\lib\\site-packages\\sklearn\\base.py:450: UserWarning: X does not have valid feature names, but LinearRegression was fitted with feature names\n",
      "  warnings.warn(\n",
      "c:\\Python310\\lib\\site-packages\\sklearn\\base.py:450: UserWarning: X does not have valid feature names, but LinearRegression was fitted with feature names\n",
      "  warnings.warn(\n",
      "c:\\Python310\\lib\\site-packages\\sklearn\\base.py:450: UserWarning: X does not have valid feature names, but LinearRegression was fitted with feature names\n",
      "  warnings.warn(\n",
      "c:\\Python310\\lib\\site-packages\\sklearn\\base.py:450: UserWarning: X does not have valid feature names, but LinearRegression was fitted with feature names\n",
      "  warnings.warn(\n",
      "c:\\Python310\\lib\\site-packages\\sklearn\\base.py:450: UserWarning: X does not have valid feature names, but LinearRegression was fitted with feature names\n",
      "  warnings.warn(\n",
      "c:\\Python310\\lib\\site-packages\\sklearn\\base.py:450: UserWarning: X does not have valid feature names, but LinearRegression was fitted with feature names\n",
      "  warnings.warn(\n",
      "c:\\Python310\\lib\\site-packages\\sklearn\\base.py:450: UserWarning: X does not have valid feature names, but LinearRegression was fitted with feature names\n",
      "  warnings.warn(\n",
      "c:\\Python310\\lib\\site-packages\\sklearn\\base.py:450: UserWarning: X does not have valid feature names, but LinearRegression was fitted with feature names\n",
      "  warnings.warn(\n",
      "c:\\Python310\\lib\\site-packages\\sklearn\\base.py:450: UserWarning: X does not have valid feature names, but LinearRegression was fitted with feature names\n",
      "  warnings.warn(\n",
      "c:\\Python310\\lib\\site-packages\\sklearn\\base.py:450: UserWarning: X does not have valid feature names, but LinearRegression was fitted with feature names\n",
      "  warnings.warn(\n",
      "c:\\Python310\\lib\\site-packages\\sklearn\\base.py:450: UserWarning: X does not have valid feature names, but LinearRegression was fitted with feature names\n",
      "  warnings.warn(\n",
      "c:\\Python310\\lib\\site-packages\\sklearn\\base.py:450: UserWarning: X does not have valid feature names, but LinearRegression was fitted with feature names\n",
      "  warnings.warn(\n",
      "c:\\Python310\\lib\\site-packages\\sklearn\\base.py:450: UserWarning: X does not have valid feature names, but LinearRegression was fitted with feature names\n",
      "  warnings.warn(\n",
      "c:\\Python310\\lib\\site-packages\\sklearn\\base.py:450: UserWarning: X does not have valid feature names, but LinearRegression was fitted with feature names\n",
      "  warnings.warn(\n",
      "c:\\Python310\\lib\\site-packages\\sklearn\\base.py:450: UserWarning: X does not have valid feature names, but LinearRegression was fitted with feature names\n",
      "  warnings.warn(\n",
      "c:\\Python310\\lib\\site-packages\\sklearn\\base.py:450: UserWarning: X does not have valid feature names, but LinearRegression was fitted with feature names\n",
      "  warnings.warn(\n",
      "c:\\Python310\\lib\\site-packages\\sklearn\\base.py:450: UserWarning: X does not have valid feature names, but LinearRegression was fitted with feature names\n",
      "  warnings.warn(\n",
      "c:\\Python310\\lib\\site-packages\\sklearn\\base.py:450: UserWarning: X does not have valid feature names, but LinearRegression was fitted with feature names\n",
      "  warnings.warn(\n",
      "c:\\Python310\\lib\\site-packages\\sklearn\\base.py:450: UserWarning: X does not have valid feature names, but LinearRegression was fitted with feature names\n",
      "  warnings.warn(\n",
      "c:\\Python310\\lib\\site-packages\\sklearn\\base.py:450: UserWarning: X does not have valid feature names, but LinearRegression was fitted with feature names\n",
      "  warnings.warn(\n",
      "c:\\Python310\\lib\\site-packages\\sklearn\\base.py:450: UserWarning: X does not have valid feature names, but LinearRegression was fitted with feature names\n",
      "  warnings.warn(\n",
      "c:\\Python310\\lib\\site-packages\\sklearn\\base.py:450: UserWarning: X does not have valid feature names, but LinearRegression was fitted with feature names\n",
      "  warnings.warn(\n",
      "c:\\Python310\\lib\\site-packages\\sklearn\\base.py:450: UserWarning: X does not have valid feature names, but LinearRegression was fitted with feature names\n",
      "  warnings.warn(\n",
      "c:\\Python310\\lib\\site-packages\\sklearn\\base.py:450: UserWarning: X does not have valid feature names, but LinearRegression was fitted with feature names\n",
      "  warnings.warn(\n",
      "c:\\Python310\\lib\\site-packages\\sklearn\\base.py:450: UserWarning: X does not have valid feature names, but LinearRegression was fitted with feature names\n",
      "  warnings.warn(\n",
      "c:\\Python310\\lib\\site-packages\\sklearn\\base.py:450: UserWarning: X does not have valid feature names, but LinearRegression was fitted with feature names\n",
      "  warnings.warn(\n",
      "c:\\Python310\\lib\\site-packages\\sklearn\\base.py:450: UserWarning: X does not have valid feature names, but LinearRegression was fitted with feature names\n",
      "  warnings.warn(\n",
      "c:\\Python310\\lib\\site-packages\\sklearn\\base.py:450: UserWarning: X does not have valid feature names, but LinearRegression was fitted with feature names\n",
      "  warnings.warn(\n",
      "c:\\Python310\\lib\\site-packages\\sklearn\\base.py:450: UserWarning: X does not have valid feature names, but LinearRegression was fitted with feature names\n",
      "  warnings.warn(\n",
      "c:\\Python310\\lib\\site-packages\\sklearn\\base.py:450: UserWarning: X does not have valid feature names, but LinearRegression was fitted with feature names\n",
      "  warnings.warn(\n",
      "c:\\Python310\\lib\\site-packages\\sklearn\\base.py:450: UserWarning: X does not have valid feature names, but LinearRegression was fitted with feature names\n",
      "  warnings.warn(\n",
      "c:\\Python310\\lib\\site-packages\\sklearn\\base.py:450: UserWarning: X does not have valid feature names, but LinearRegression was fitted with feature names\n",
      "  warnings.warn(\n",
      "c:\\Python310\\lib\\site-packages\\sklearn\\base.py:450: UserWarning: X does not have valid feature names, but LinearRegression was fitted with feature names\n",
      "  warnings.warn(\n",
      "c:\\Python310\\lib\\site-packages\\sklearn\\base.py:450: UserWarning: X does not have valid feature names, but LinearRegression was fitted with feature names\n",
      "  warnings.warn(\n",
      "c:\\Python310\\lib\\site-packages\\sklearn\\base.py:450: UserWarning: X does not have valid feature names, but LinearRegression was fitted with feature names\n",
      "  warnings.warn(\n",
      "c:\\Python310\\lib\\site-packages\\sklearn\\base.py:450: UserWarning: X does not have valid feature names, but LinearRegression was fitted with feature names\n",
      "  warnings.warn(\n",
      "c:\\Python310\\lib\\site-packages\\sklearn\\base.py:450: UserWarning: X does not have valid feature names, but LinearRegression was fitted with feature names\n",
      "  warnings.warn(\n",
      "c:\\Python310\\lib\\site-packages\\sklearn\\base.py:450: UserWarning: X does not have valid feature names, but LinearRegression was fitted with feature names\n",
      "  warnings.warn(\n",
      "c:\\Python310\\lib\\site-packages\\sklearn\\base.py:450: UserWarning: X does not have valid feature names, but LinearRegression was fitted with feature names\n",
      "  warnings.warn(\n"
     ]
    }
   ],
   "source": [
    "prev_val = test_chart_data.iloc[-100].Valore\n",
    "predictions = [0 for i in range(100)]\n",
    "for i, row in test_chart_data.iloc[-100:].iterrows():\n",
    "    row_array = row[input_columns].to_numpy()\n",
    "\n",
    "\n",
    "    row_array[4]+=10\n",
    "\n",
    "\n",
    "    row_array[-1] = prev_val\n",
    "    result = regressor.predict([row_array])[0]\n",
    "    prev = result\n",
    "    predictions.append(result)"
   ]
  },
  {
   "cell_type": "code",
   "execution_count": 908,
   "metadata": {},
   "outputs": [
    {
     "name": "stderr",
     "output_type": "stream",
     "text": [
      "c:\\Python310\\lib\\site-packages\\sklearn\\base.py:450: UserWarning: X does not have valid feature names, but RandomForestRegressor was fitted with feature names\n",
      "  warnings.warn(\n"
     ]
    },
    {
     "data": {
      "text/plain": [
       "array([23.56360669])"
      ]
     },
     "execution_count": 908,
     "metadata": {},
     "output_type": "execute_result"
    }
   ],
   "source": [
    "regressor.predict([list(range(0,7))])"
   ]
  },
  {
   "cell_type": "code",
   "execution_count": 909,
   "metadata": {},
   "outputs": [
    {
     "data": {
      "image/png": "[encoded data removed]",
      "text/plain": [
       "<Figure size 432x288 with 1 Axes>"
      ]
     },
     "metadata": {
      "needs_background": "light"
     },
     "output_type": "display_data"
    }
   ],
   "source": [
    "plt.plot(predictions, label =\"pred\")\n",
    "plt.plot(test_chart_data.iloc[-100:].Valore.to_numpy(), label=\"true\")\n",
    "plt.legend()\n",
    "plt.show()"
   ]
  },
  {
   "cell_type": "code",
   "execution_count": 910,
   "metadata": {},
   "outputs": [
    {
     "data": {
      "text/plain": [
       "<AxesSubplot:xlabel='Data'>"
      ]
     },
     "execution_count": 910,
     "metadata": {},
     "output_type": "execute_result"
    },
    {
     "data": {
      "image/png": "[encoded data removed]",
      "text/plain": [
       "<Figure size 1080x360 with 1 Axes>"
      ]
     },
     "metadata": {
      "needs_background": "light"
     },
     "output_type": "display_data"
    }
   ],
   "source": [
    "fig, ax = plt.subplots(figsize=(15, 5))\n",
    "test_chart_data.plot(\"Data\", \"Valore\", ax=ax)\n",
    "test_chart_data.plot(\"Data\", \"pred\", ax=ax)"
   ]
  },
  {
   "cell_type": "code",
   "execution_count": 911,
   "metadata": {},
   "outputs": [
    {
     "data": {
      "text/plain": [
       "(-5.0, 105.0)"
      ]
     },
     "execution_count": 911,
     "metadata": {},
     "output_type": "execute_result"
    },
    {
     "data": {
      "image/png": "[encoded data removed]",
      "text/plain": [
       "<Figure size 360x360 with 1 Axes>"
      ]
     },
     "metadata": {
      "needs_background": "light"
     },
     "output_type": "display_data"
    }
   ],
   "source": [
    "fig, ax = plt.subplots(figsize=(5, 5))\n",
    "test_chart_data.plot.scatter(\"Valore\", \"pred\", alpha=0.3, ax=ax)\n",
    "# ax.set_xlim(-5, 165)\n",
    "# ax.set_ylim(-5, 165)\n",
    "\n",
    "ax.set_xlim(-5, 105)\n",
    "ax.set_ylim(-5, 105)\n",
    "\n"
   ]
  },
  {
   "cell_type": "code",
   "execution_count": 912,
   "metadata": {},
   "outputs": [
    {
     "name": "stdout",
     "output_type": "stream",
     "text": [
      "Mean absolute error: 7.91\n",
      "Mean squared error: 148.84\n",
      "Root mean squared error: 12.20\n"
     ]
    }
   ],
   "source": [
    "mae = mean_absolute_error(y_test, y_pred)\n",
    "mse = mean_squared_error(y_test, y_pred)\n",
    "rmse = np.sqrt(mse)\n",
    "\n",
    "print(f'Mean absolute error: {mae:.2f}')\n",
    "print(f'Mean squared error: {mse:.2f}')\n",
    "print(f'Root mean squared error: {rmse:.2f}')"
   ]
  },
  {
   "cell_type": "code",
   "execution_count": 913,
   "metadata": {},
   "outputs": [
    {
     "data": {
      "text/plain": [
       "0.45368197568679713"
      ]
     },
     "execution_count": 913,
     "metadata": {},
     "output_type": "execute_result"
    }
   ],
   "source": [
    "regressor.score(X_test, y_test)"
   ]
  },
  {
   "cell_type": "code",
   "execution_count": 914,
   "metadata": {},
   "outputs": [
    {
     "name": "stdout",
     "output_type": "stream",
     "text": [
      "R²: 0.45368197568679736\n"
     ]
    }
   ],
   "source": [
    "actual_minus_predicted = sum((y_test - y_pred)**2)\n",
    "actual_minus_actual_mean = sum((y_test - y_test.mean())**2)\n",
    "r2 = 1 - actual_minus_predicted/actual_minus_actual_mean\n",
    "print('R²:', r2)"
   ]
  },
  {
   "cell_type": "markdown",
   "metadata": {},
   "source": [
    "# ---- START OF RANDOM FOREST ----"
   ]
  },
  {
   "cell_type": "code",
   "execution_count": 915,
   "metadata": {},
   "outputs": [],
   "source": [
    "from sklearn.ensemble import RandomForestRegressor\n",
    "SEED = 42"
   ]
  },
  {
   "cell_type": "code",
   "execution_count": 916,
   "metadata": {},
   "outputs": [
    {
     "data": {
      "text/html": [
       "<style>#sk-container-id-24 {color: black;background-color: white;}#sk-container-id-24 pre{padding: 0;}#sk-container-id-24 div.sk-toggleable {background-color: white;}#sk-container-id-24 label.sk-toggleable__label {cursor: pointer;display: block;width: 100%;margin-bottom: 0;padding: 0.3em;box-sizing: border-box;text-align: center;}#sk-container-id-24 label.sk-toggleable__label-arrow:before {content: \"▸\";float: left;margin-right: 0.25em;color: #696969;}#sk-container-id-24 label.sk-toggleable__label-arrow:hover:before {color: black;}#sk-container-id-24 div.sk-estimator:hover label.sk-toggleable__label-arrow:before {color: black;}#sk-container-id-24 div.sk-toggleable__content {max-height: 0;max-width: 0;overflow: hidden;text-align: left;background-color: #f0f8ff;}#sk-container-id-24 div.sk-toggleable__content pre {margin: 0.2em;color: black;border-radius: 0.25em;background-color: #f0f8ff;}#sk-container-id-24 input.sk-toggleable__control:checked~div.sk-toggleable__content {max-height: 200px;max-width: 100%;overflow: auto;}#sk-container-id-24 input.sk-toggleable__control:checked~label.sk-toggleable__label-arrow:before {content: \"▾\";}#sk-container-id-24 div.sk-estimator input.sk-toggleable__control:checked~label.sk-toggleable__label {background-color: #d4ebff;}#sk-container-id-24 div.sk-label input.sk-toggleable__control:checked~label.sk-toggleable__label {background-color: #d4ebff;}#sk-container-id-24 input.sk-hidden--visually {border: 0;clip: rect(1px 1px 1px 1px);clip: rect(1px, 1px, 1px, 1px);height: 1px;margin: -1px;overflow: hidden;padding: 0;position: absolute;width: 1px;}#sk-container-id-24 div.sk-estimator {font-family: monospace;background-color: #f0f8ff;border: 1px dotted black;border-radius: 0.25em;box-sizing: border-box;margin-bottom: 0.5em;}#sk-container-id-24 div.sk-estimator:hover {background-color: #d4ebff;}#sk-container-id-24 div.sk-parallel-item::after {content: \"\";width: 100%;border-bottom: 1px solid gray;flex-grow: 1;}#sk-container-id-24 div.sk-label:hover label.sk-toggleable__label {background-color: #d4ebff;}#sk-container-id-24 div.sk-serial::before {content: \"\";position: absolute;border-left: 1px solid gray;box-sizing: border-box;top: 0;bottom: 0;left: 50%;z-index: 0;}#sk-container-id-24 div.sk-serial {display: flex;flex-direction: column;align-items: center;background-color: white;padding-right: 0.2em;padding-left: 0.2em;position: relative;}#sk-container-id-24 div.sk-item {position: relative;z-index: 1;}#sk-container-id-24 div.sk-parallel {display: flex;align-items: stretch;justify-content: center;background-color: white;position: relative;}#sk-container-id-24 div.sk-item::before, #sk-container-id-24 div.sk-parallel-item::before {content: \"\";position: absolute;border-left: 1px solid gray;box-sizing: border-box;top: 0;bottom: 0;left: 50%;z-index: -1;}#sk-container-id-24 div.sk-parallel-item {display: flex;flex-direction: column;z-index: 1;position: relative;background-color: white;}#sk-container-id-24 div.sk-parallel-item:first-child::after {align-self: flex-end;width: 50%;}#sk-container-id-24 div.sk-parallel-item:last-child::after {align-self: flex-start;width: 50%;}#sk-container-id-24 div.sk-parallel-item:only-child::after {width: 0;}#sk-container-id-24 div.sk-dashed-wrapped {border: 1px dashed gray;margin: 0 0.4em 0.5em 0.4em;box-sizing: border-box;padding-bottom: 0.4em;background-color: white;}#sk-container-id-24 div.sk-label label {font-family: monospace;font-weight: bold;display: inline-block;line-height: 1.2em;}#sk-container-id-24 div.sk-label-container {text-align: center;}#sk-container-id-24 div.sk-container {/* jupyter's `normalize.less` sets `[hidden] { display: none; }` but bootstrap.min.css set `[hidden] { display: none !important; }` so we also need the `!important` here to be able to override the default hidden behavior on the sphinx rendered scikit-learn.org. See: https://github.com/scikit-learn/scikit-learn/issues/21755 */display: inline-block !important;position: relative;}#sk-container-id-24 div.sk-text-repr-fallback {display: none;}</style><div id=\"sk-container-id-24\" class=\"sk-top-container\"><div class=\"sk-text-repr-fallback\"><pre>RandomForestRegressor(random_state=42)</pre><b>In a Jupyter environment, please rerun this cell to show the HTML representation or trust the notebook. <br />On GitHub, the HTML representation is unable to render, please try loading this page with nbviewer.org.</b></div><div class=\"sk-container\" hidden><div class=\"sk-item\"><div class=\"sk-estimator sk-toggleable\"><input class=\"sk-toggleable__control sk-hidden--visually\" id=\"sk-estimator-id-24\" type=\"checkbox\" checked><label for=\"sk-estimator-id-24\" class=\"sk-toggleable__label sk-toggleable__label-arrow\">RandomForestRegressor</label><div class=\"sk-toggleable__content\"><pre>RandomForestRegressor(random_state=42)</pre></div></div></div></div></div>"
      ],
      "text/plain": [
       "RandomForestRegressor(random_state=42)"
      ]
     },
     "execution_count": 916,
     "metadata": {},
     "output_type": "execute_result"
    }
   ],
   "source": [
    "regressor = RandomForestRegressor(n_estimators = 100, random_state = SEED)\n",
    "regressor.fit(X_train, y_train)"
   ]
  },
  {
   "cell_type": "code",
   "execution_count": 917,
   "metadata": {},
   "outputs": [
    {
     "name": "stdout",
     "output_type": "stream",
     "text": [
      "R2: 0.9301207647858298\n"
     ]
    }
   ],
   "source": [
    "score = regressor.score(X_train, y_train)\n",
    "print(\"R2:\", score)"
   ]
  },
  {
   "cell_type": "code",
   "execution_count": 918,
   "metadata": {},
   "outputs": [],
   "source": [
    "y_pred = regressor.predict(X_test)"
   ]
  },
  {
   "cell_type": "code",
   "execution_count": 919,
   "metadata": {},
   "outputs": [
    {
     "name": "stdout",
     "output_type": "stream",
     "text": [
      "         Actual  Predicted\n",
      "1096  67.600000  48.505453\n",
      "1097  45.666667  41.461304\n",
      "1098  43.125000  38.350377\n",
      "1099  20.500000  23.558485\n",
      "1100  38.416667  28.020779\n",
      "...         ...        ...\n",
      "2187  37.083333  30.606212\n",
      "2188   7.291667  21.736954\n",
      "2189  16.666667  23.337951\n",
      "2190  26.291667  28.010686\n",
      "2191  42.875000  51.945166\n",
      "\n",
      "[725 rows x 2 columns]\n"
     ]
    }
   ],
   "source": [
    "results = pd.DataFrame({'Actual': y_test, 'Predicted': y_pred})\n",
    "print(results)"
   ]
  },
  {
   "cell_type": "code",
   "execution_count": 920,
   "metadata": {},
   "outputs": [
    {
     "data": {
      "text/html": [
       "<div>\n",
       "<style scoped>\n",
       "    .dataframe tbody tr th:only-of-type {\n",
       "        vertical-align: middle;\n",
       "    }\n",
       "\n",
       "    .dataframe tbody tr th {\n",
       "        vertical-align: top;\n",
       "    }\n",
       "\n",
       "    .dataframe thead th {\n",
       "        text-align: right;\n",
       "    }\n",
       "</style>\n",
       "<table border=\"1\" class=\"dataframe\">\n",
       "  <thead>\n",
       "    <tr style=\"text-align: right;\">\n",
       "      <th></th>\n",
       "      <th>Actual</th>\n",
       "      <th>Predicted</th>\n",
       "    </tr>\n",
       "  </thead>\n",
       "  <tbody>\n",
       "    <tr>\n",
       "      <th>Actual</th>\n",
       "      <td>1.000000</td>\n",
       "      <td>0.677465</td>\n",
       "    </tr>\n",
       "    <tr>\n",
       "      <th>Predicted</th>\n",
       "      <td>0.677465</td>\n",
       "      <td>1.000000</td>\n",
       "    </tr>\n",
       "  </tbody>\n",
       "</table>\n",
       "</div>"
      ],
      "text/plain": [
       "             Actual  Predicted\n",
       "Actual     1.000000   0.677465\n",
       "Predicted  0.677465   1.000000"
      ]
     },
     "execution_count": 920,
     "metadata": {},
     "output_type": "execute_result"
    }
   ],
   "source": [
    "results.corr()"
   ]
  },
  {
   "cell_type": "code",
   "execution_count": 921,
   "metadata": {},
   "outputs": [
    {
     "name": "stderr",
     "output_type": "stream",
     "text": [
      "C:\\Users\\thoma\\AppData\\Local\\Temp\\ipykernel_3592\\643691821.py:4: SettingWithCopyWarning: \n",
      "A value is trying to be set on a copy of a slice from a DataFrame.\n",
      "Try using .loc[row_indexer,col_indexer] = value instead\n",
      "\n",
      "See the caveats in the documentation: https://pandas.pydata.org/pandas-docs/stable/user_guide/indexing.html#returning-a-view-versus-a-copy\n",
      "  test_chart_data[\"pred\"] = regressor.predict(test_chart_data[input_columns])\n"
     ]
    }
   ],
   "source": [
    "test_chart_data = merged_df[\n",
    "    merged_df.Data.dt.year.isin(test_years)\n",
    "]\n",
    "test_chart_data[\"pred\"] = regressor.predict(test_chart_data[input_columns])"
   ]
  },
  {
   "cell_type": "code",
   "execution_count": 922,
   "metadata": {},
   "outputs": [
    {
     "data": {
      "text/html": [
       "<div>\n",
       "<style scoped>\n",
       "    .dataframe tbody tr th:only-of-type {\n",
       "        vertical-align: middle;\n",
       "    }\n",
       "\n",
       "    .dataframe tbody tr th {\n",
       "        vertical-align: top;\n",
       "    }\n",
       "\n",
       "    .dataframe thead th {\n",
       "        text-align: right;\n",
       "    }\n",
       "</style>\n",
       "<table border=\"1\" class=\"dataframe\">\n",
       "  <thead>\n",
       "    <tr style=\"text-align: right;\">\n",
       "      <th></th>\n",
       "      <th>rain</th>\n",
       "      <th>temp</th>\n",
       "      <th>hum</th>\n",
       "      <th>w_dir</th>\n",
       "      <th>w_sp</th>\n",
       "      <th>press</th>\n",
       "      <th>sol</th>\n",
       "    </tr>\n",
       "  </thead>\n",
       "  <tbody>\n",
       "    <tr>\n",
       "      <th>0</th>\n",
       "      <td>0.0</td>\n",
       "      <td>0.0</td>\n",
       "      <td>78.6</td>\n",
       "      <td>342.0</td>\n",
       "      <td>0.7</td>\n",
       "      <td>995.5</td>\n",
       "      <td>6433.5</td>\n",
       "    </tr>\n",
       "    <tr>\n",
       "      <th>1</th>\n",
       "      <td>15.0</td>\n",
       "      <td>-0.4</td>\n",
       "      <td>95.0</td>\n",
       "      <td>348.0</td>\n",
       "      <td>1.0</td>\n",
       "      <td>994.7</td>\n",
       "      <td>1154.3</td>\n",
       "    </tr>\n",
       "    <tr>\n",
       "      <th>2</th>\n",
       "      <td>0.6</td>\n",
       "      <td>3.6</td>\n",
       "      <td>86.8</td>\n",
       "      <td>329.0</td>\n",
       "      <td>1.8</td>\n",
       "      <td>997.5</td>\n",
       "      <td>7082.0</td>\n",
       "    </tr>\n",
       "    <tr>\n",
       "      <th>3</th>\n",
       "      <td>0.0</td>\n",
       "      <td>0.1</td>\n",
       "      <td>90.0</td>\n",
       "      <td>337.0</td>\n",
       "      <td>1.0</td>\n",
       "      <td>993.7</td>\n",
       "      <td>3149.2</td>\n",
       "    </tr>\n",
       "    <tr>\n",
       "      <th>4</th>\n",
       "      <td>0.0</td>\n",
       "      <td>1.0</td>\n",
       "      <td>79.8</td>\n",
       "      <td>343.0</td>\n",
       "      <td>1.5</td>\n",
       "      <td>980.3</td>\n",
       "      <td>5839.9</td>\n",
       "    </tr>\n",
       "    <tr>\n",
       "      <th>...</th>\n",
       "      <td>...</td>\n",
       "      <td>...</td>\n",
       "      <td>...</td>\n",
       "      <td>...</td>\n",
       "      <td>...</td>\n",
       "      <td>...</td>\n",
       "      <td>...</td>\n",
       "    </tr>\n",
       "    <tr>\n",
       "      <th>3837</th>\n",
       "      <td>7.0</td>\n",
       "      <td>23.2</td>\n",
       "      <td>70.6</td>\n",
       "      <td>315.0</td>\n",
       "      <td>3.7</td>\n",
       "      <td>991.4</td>\n",
       "      <td>16440.8</td>\n",
       "    </tr>\n",
       "    <tr>\n",
       "      <th>3838</th>\n",
       "      <td>0.0</td>\n",
       "      <td>24.9</td>\n",
       "      <td>59.5</td>\n",
       "      <td>330.0</td>\n",
       "      <td>2.9</td>\n",
       "      <td>989.0</td>\n",
       "      <td>25228.8</td>\n",
       "    </tr>\n",
       "    <tr>\n",
       "      <th>3839</th>\n",
       "      <td>0.0</td>\n",
       "      <td>25.2</td>\n",
       "      <td>54.2</td>\n",
       "      <td>336.0</td>\n",
       "      <td>2.0</td>\n",
       "      <td>990.8</td>\n",
       "      <td>28751.0</td>\n",
       "    </tr>\n",
       "    <tr>\n",
       "      <th>3840</th>\n",
       "      <td>4.0</td>\n",
       "      <td>23.5</td>\n",
       "      <td>62.2</td>\n",
       "      <td>296.0</td>\n",
       "      <td>1.3</td>\n",
       "      <td>989.6</td>\n",
       "      <td>19994.8</td>\n",
       "    </tr>\n",
       "    <tr>\n",
       "      <th>3841</th>\n",
       "      <td>0.0</td>\n",
       "      <td>23.9</td>\n",
       "      <td>41.2</td>\n",
       "      <td>341.0</td>\n",
       "      <td>2.5</td>\n",
       "      <td>993.2</td>\n",
       "      <td>29513.0</td>\n",
       "    </tr>\n",
       "  </tbody>\n",
       "</table>\n",
       "<p>3090 rows × 7 columns</p>\n",
       "</div>"
      ],
      "text/plain": [
       "      rain  temp   hum  w_dir  w_sp  press      sol\n",
       "0      0.0   0.0  78.6  342.0   0.7  995.5   6433.5\n",
       "1     15.0  -0.4  95.0  348.0   1.0  994.7   1154.3\n",
       "2      0.6   3.6  86.8  329.0   1.8  997.5   7082.0\n",
       "3      0.0   0.1  90.0  337.0   1.0  993.7   3149.2\n",
       "4      0.0   1.0  79.8  343.0   1.5  980.3   5839.9\n",
       "...    ...   ...   ...    ...   ...    ...      ...\n",
       "3837   7.0  23.2  70.6  315.0   3.7  991.4  16440.8\n",
       "3838   0.0  24.9  59.5  330.0   2.9  989.0  25228.8\n",
       "3839   0.0  25.2  54.2  336.0   2.0  990.8  28751.0\n",
       "3840   4.0  23.5  62.2  296.0   1.3  989.6  19994.8\n",
       "3841   0.0  23.9  41.2  341.0   2.5  993.2  29513.0\n",
       "\n",
       "[3090 rows x 7 columns]"
      ]
     },
     "execution_count": 922,
     "metadata": {},
     "output_type": "execute_result"
    }
   ],
   "source": [
    "X_train"
   ]
  },
  {
   "cell_type": "code",
   "execution_count": 923,
   "metadata": {},
   "outputs": [
    {
     "data": {
      "text/plain": [
       "<AxesSubplot:xlabel='Data'>"
      ]
     },
     "execution_count": 923,
     "metadata": {},
     "output_type": "execute_result"
    },
    {
     "data": {
      "image/png": "[encoded data removed]",
      "text/plain": [
       "<Figure size 1080x360 with 1 Axes>"
      ]
     },
     "metadata": {
      "needs_background": "light"
     },
     "output_type": "display_data"
    }
   ],
   "source": [
    "fig, ax = plt.subplots(figsize=(15, 5))\n",
    "test_chart_data.plot(\"Data\", \"Valore\", ax=ax)\n",
    "test_chart_data.plot(\"Data\", \"pred\", ax=ax)"
   ]
  },
  {
   "cell_type": "code",
   "execution_count": 924,
   "metadata": {},
   "outputs": [
    {
     "data": {
      "text/plain": [
       "(-5.0, 105.0)"
      ]
     },
     "execution_count": 924,
     "metadata": {},
     "output_type": "execute_result"
    },
    {
     "data": {
      "image/png": "[encoded data removed]",
      "text/plain": [
       "<Figure size 360x360 with 1 Axes>"
      ]
     },
     "metadata": {
      "needs_background": "light"
     },
     "output_type": "display_data"
    }
   ],
   "source": [
    "fig, ax = plt.subplots(figsize=(5, 5))\n",
    "test_chart_data.plot.scatter(\"Valore\", \"pred\", alpha=0.3, ax=ax)\n",
    "# ax.set_xlim(-5, 165)\n",
    "# ax.set_ylim(-5, 165)\n",
    "\n",
    "ax.set_xlim(-5, 105)\n",
    "ax.set_ylim(-5, 105)"
   ]
  },
  {
   "cell_type": "code",
   "execution_count": 925,
   "metadata": {},
   "outputs": [
    {
     "name": "stdout",
     "output_type": "stream",
     "text": [
      "Mean absolute error: 7.91\n",
      "Mean squared error: 148.84\n",
      "Root mean squared error: 12.20\n"
     ]
    }
   ],
   "source": [
    "mae = mean_absolute_error(y_test, y_pred)\n",
    "mse = mean_squared_error(y_test, y_pred)\n",
    "rmse = np.sqrt(mse)\n",
    "\n",
    "print(f'Mean absolute error: {mae:.2f}')\n",
    "print(f'Mean squared error: {mse:.2f}')\n",
    "print(f'Root mean squared error: {rmse:.2f}')"
   ]
  },
  {
   "cell_type": "code",
   "execution_count": 926,
   "metadata": {},
   "outputs": [
    {
     "data": {
      "text/plain": [
       "0.45368197568679713"
      ]
     },
     "execution_count": 926,
     "metadata": {},
     "output_type": "execute_result"
    }
   ],
   "source": [
    "regressor.score(X_test, y_test)"
   ]
  },
  {
   "cell_type": "code",
   "execution_count": 927,
   "metadata": {},
   "outputs": [
    {
     "name": "stdout",
     "output_type": "stream",
     "text": [
      "R²: 0.45368197568679736\n"
     ]
    }
   ],
   "source": [
    "actual_minus_predicted = sum((y_test - y_pred)**2)\n",
    "actual_minus_actual_mean = sum((y_test - y_test.mean())**2)\n",
    "r2 = 1 - actual_minus_predicted/actual_minus_actual_mean\n",
    "print('R²:', r2)"
   ]
  },
  {
   "cell_type": "code",
   "execution_count": null,
   "metadata": {},
   "outputs": [],
   "source": [
    "fig = plt.figure(figsize=(10, 10))\n",
    "ax = fig.add_subplot()\n",
    "ax.barh(X_test.columns, regressor.feature_importances_)\n",
    "plt.show()"
   ]
  },
  {
   "cell_type": "code",
   "execution_count": 930,
   "metadata": {},
   "outputs": [
    {
     "data": {
      "text/plain": [
       "['rain', 'temp', 'hum', 'w_dir', 'w_sp', 'press', 'sol']"
      ]
     },
     "execution_count": 930,
     "metadata": {},
     "output_type": "execute_result"
    }
   ],
   "source": [
    "input_columns"
   ]
  },
  {
   "cell_type": "code",
   "execution_count": null,
   "metadata": {},
   "outputs": [],
   "source": [
    "prev_val = test_chart_data.iloc[-365].Valore\n",
    "\n",
    "predictions1 = []\n",
    "predictions2 = []\n",
    "\n",
    "for i, row in test_chart_data.iloc[-365:].iterrows():\n",
    "    row_array = row[input_columns].to_numpy()\n",
    "\n",
    "    result1 = regressor.predict([row_array])[0]  # takes the predicted value\n",
    "\n",
    "\n",
    "    row_array[1] += 1\n",
    "    \n",
    "\n",
    "    #row_array[-1] = prev_val\n",
    "    result2 = regressor.predict([row_array])[0]  # takes the predicted value\n",
    "\n",
    "        \n",
    "    predictions1.append(result1)\n",
    "    predictions2.append(result2)"
   ]
  },
  {
   "cell_type": "code",
   "execution_count": 933,
   "metadata": {},
   "outputs": [
    {
     "data": {
      "text/html": [
       "<div>\n",
       "<style scoped>\n",
       "    .dataframe tbody tr th:only-of-type {\n",
       "        vertical-align: middle;\n",
       "    }\n",
       "\n",
       "    .dataframe tbody tr th {\n",
       "        vertical-align: top;\n",
       "    }\n",
       "\n",
       "    .dataframe thead th {\n",
       "        text-align: right;\n",
       "    }\n",
       "</style>\n",
       "<table border=\"1\" class=\"dataframe\">\n",
       "  <thead>\n",
       "    <tr style=\"text-align: right;\">\n",
       "      <th></th>\n",
       "      <th>val1</th>\n",
       "      <th>val2</th>\n",
       "    </tr>\n",
       "  </thead>\n",
       "  <tbody>\n",
       "    <tr>\n",
       "      <th>0</th>\n",
       "      <td>49.152155</td>\n",
       "      <td>47.762750</td>\n",
       "    </tr>\n",
       "    <tr>\n",
       "      <th>1</th>\n",
       "      <td>48.333600</td>\n",
       "      <td>45.103912</td>\n",
       "    </tr>\n",
       "    <tr>\n",
       "      <th>2</th>\n",
       "      <td>23.563397</td>\n",
       "      <td>22.155194</td>\n",
       "    </tr>\n",
       "    <tr>\n",
       "      <th>3</th>\n",
       "      <td>30.429059</td>\n",
       "      <td>26.309344</td>\n",
       "    </tr>\n",
       "    <tr>\n",
       "      <th>4</th>\n",
       "      <td>14.369048</td>\n",
       "      <td>11.795671</td>\n",
       "    </tr>\n",
       "    <tr>\n",
       "      <th>...</th>\n",
       "      <td>...</td>\n",
       "      <td>...</td>\n",
       "    </tr>\n",
       "    <tr>\n",
       "      <th>360</th>\n",
       "      <td>30.606212</td>\n",
       "      <td>29.088176</td>\n",
       "    </tr>\n",
       "    <tr>\n",
       "      <th>361</th>\n",
       "      <td>21.736954</td>\n",
       "      <td>22.753539</td>\n",
       "    </tr>\n",
       "    <tr>\n",
       "      <th>362</th>\n",
       "      <td>23.337951</td>\n",
       "      <td>22.889007</td>\n",
       "    </tr>\n",
       "    <tr>\n",
       "      <th>363</th>\n",
       "      <td>28.010686</td>\n",
       "      <td>27.058722</td>\n",
       "    </tr>\n",
       "    <tr>\n",
       "      <th>364</th>\n",
       "      <td>51.945166</td>\n",
       "      <td>48.616952</td>\n",
       "    </tr>\n",
       "  </tbody>\n",
       "</table>\n",
       "<p>365 rows × 2 columns</p>\n",
       "</div>"
      ],
      "text/plain": [
       "          val1       val2\n",
       "0    49.152155  47.762750\n",
       "1    48.333600  45.103912\n",
       "2    23.563397  22.155194\n",
       "3    30.429059  26.309344\n",
       "4    14.369048  11.795671\n",
       "..         ...        ...\n",
       "360  30.606212  29.088176\n",
       "361  21.736954  22.753539\n",
       "362  23.337951  22.889007\n",
       "363  28.010686  27.058722\n",
       "364  51.945166  48.616952\n",
       "\n",
       "[365 rows x 2 columns]"
      ]
     },
     "execution_count": 933,
     "metadata": {},
     "output_type": "execute_result"
    }
   ],
   "source": [
    "# average_not_mod_df = np.array(predictions1).mean()\n",
    "# print(average_not_mod_df)\n",
    "# average_mod_df = np.array(predictions2).mean()\n",
    "# print(average_mod_df)\n",
    "\n",
    "\n",
    "data = {}\n",
    "\n",
    "diff_df = pd.DataFrame(data)\n",
    "diff_df[\"val1\"] = predictions1\n",
    "diff_df[\"val2\"] = predictions2\n",
    "#diff_df[\"diff\"] = diff_df[\"val1\"] - diff_df[\"val2\"]\n",
    "\n",
    "diff_df\n",
    "\n",
    "\n"
   ]
  },
  {
   "cell_type": "code",
   "execution_count": null,
   "metadata": {},
   "outputs": [],
   "source": []
  },
  {
   "cell_type": "code",
   "execution_count": null,
   "metadata": {},
   "outputs": [
    {
     "data": {
      "image/png": "[encoded data removed]",
      "text/plain": [
       "<Figure size 432x288 with 1 Axes>"
      ]
     },
     "metadata": {
      "needs_background": "light"
     },
     "output_type": "display_data"
    }
   ],
   "source": [
    "# NOT modified values\n",
    "\n",
    "plt.plot(predictions1, label =\"pred\")\n",
    "plt.plot(test_chart_data.iloc[-365:].Valore.to_numpy(), label=\"true\")\n",
    "plt.legend()\n",
    "plt.show()"
   ]
  },
  {
   "cell_type": "code",
   "execution_count": null,
   "metadata": {},
   "outputs": [
    {
     "data": {
      "image/png": "[encoded data removed]",
      "text/plain": [
       "<Figure size 432x288 with 1 Axes>"
      ]
     },
     "metadata": {
      "needs_background": "light"
     },
     "output_type": "display_data"
    }
   ],
   "source": [
    "# Changed values\n",
    "\n",
    "plt.plot(test_chart_data.iloc[-365:].Valore.to_numpy(), label=\"true\")\n",
    "plt.plot(predictions2, label =\"pred\")\n",
    "plt.legend()\n",
    "plt.show()"
   ]
  },
  {
   "cell_type": "code",
   "execution_count": null,
   "metadata": {},
   "outputs": [
    {
     "data": {
      "image/png": "[encoded data removed]",
      "text/plain": [
       "<Figure size 432x288 with 1 Axes>"
      ]
     },
     "metadata": {
      "needs_background": "light"
     },
     "output_type": "display_data"
    }
   ],
   "source": [
    "# Difference between real values and modified vales\n",
    "\n",
    "plt.plot(predictions1, label=\"normal\")\n",
    "plt.plot(predictions2, label =\"modified\")\n",
    "plt.legend()\n",
    "plt.show()"
   ]
  },
  {
   "cell_type": "code",
   "execution_count": null,
   "metadata": {},
   "outputs": [
    {
     "data": {
      "image/png": "[encoded data removed]",
      "text/plain": [
       "<Figure size 432x288 with 1 Axes>"
      ]
     },
     "metadata": {
      "needs_background": "light"
     },
     "output_type": "display_data"
    }
   ],
   "source": [
    "# Plot of a certain value\n",
    "\n",
    "plt.plot(test_chart_data.iloc[-365:][\"rain\"].to_numpy())\n",
    "plt.show()\n"
   ]
  },
  {
   "cell_type": "code",
   "execution_count": 950,
   "metadata": {},
   "outputs": [
    {
     "data": {
      "image/png": "[encoded data removed]",
      "text/plain": [
       "<Figure size 432x288 with 1 Axes>"
      ]
     },
     "metadata": {
      "needs_background": "light"
     },
     "output_type": "display_data"
    }
   ],
   "source": [
    "colors = [\"red\", \"blue\"]\n",
    "bp = plt.boxplot(diff_df, patch_artist=True)\n",
    "plt.xticks([1, 2], ['Normal', '+1 °C'])\n",
    "\n",
    "for patch, color in zip(bp[\"boxes\"], colors):\n",
    "    patch.set_facecolor(color)\n"
   ]
  },
  {
   "cell_type": "code",
   "execution_count": null,
   "metadata": {},
   "outputs": [],
   "source": []
  }
 ],
 "metadata": {
  "kernelspec": {
   "display_name": "Python 3.10.1 64-bit",
   "language": "python",
   "name": "python3"
  },
  "language_info": {
   "codemirror_mode": {
    "name": "ipython",
    "version": 3
   },
   "file_extension": ".py",
   "mimetype": "text/x-python",
   "name": "python",
   "nbconvert_exporter": "python",
   "pygments_lexer": "ipython3",
   "version": "3.10.1"
  },
  "orig_nbformat": 4,
  "vscode": {
   "interpreter": {
    "hash": "369f2c481f4da34e4445cda3fffd2e751bd1c4d706f27375911949ba6bb62e1c"
   }
  }
 },
 "nbformat": 4,
 "nbformat_minor": 2
}
