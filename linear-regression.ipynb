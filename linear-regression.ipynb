{
 "cells": [
  {
   "cell_type": "code",
   "execution_count": 975,
   "metadata": {},
   "outputs": [],
   "source": [
    "import pandas as pd\n",
    "from matplotlib import pyplot as plt\n",
    "import datetime\n",
    "from datetime import timedelta\n",
    "from datetime import datetime\n",
    "\n",
    "from sklearn.metrics import mean_absolute_error\n",
    "from sklearn.metrics import mean_squared_error\n",
    "from sklearn.metrics import mean_absolute_error\n",
    "import numpy as np\n",
    "from numpy import NaN"
   ]
  },
  {
   "cell_type": "code",
   "execution_count": 858,
   "metadata": {},
   "outputs": [],
   "source": [
    "CURRENT_LOCATION = \"bolz\""
   ]
  },
  {
   "cell_type": "code",
   "execution_count": 1048,
   "metadata": {},
   "outputs": [],
   "source": [
    "path_to_file = 'APPA_data_merged.csv'\n",
    "df = pd.read_csv(path_to_file, parse_dates=[\"Data\"])\n",
    "df_bolz_pm10 = df[(df.Stazione == \"Via Bolzano\") & (df.Inquinante == \"Biossido di Azoto\")]"
   ]
  },
  {
   "cell_type": "code",
   "execution_count": 1049,
   "metadata": {},
   "outputs": [
    {
     "data": {
      "text/plain": [
       "{'A22 (Avio)': ['Biossido di Azoto', 'Ossido di Carbonio', 'PM10'],\n",
       " 'Borgo Valsugana': ['Biossido di Azoto', 'Ozono', 'PM10', 'PM2.5'],\n",
       " 'Monte Gaza': ['Biossido di Azoto', 'Ozono', 'PM10'],\n",
       " 'Parco S. Chiara': ['Biossido Zolfo',\n",
       "  'Biossido di Azoto',\n",
       "  'Ozono',\n",
       "  'PM10',\n",
       "  'PM2.5'],\n",
       " 'Piana Rotaliana': ['Biossido di Azoto', 'Ozono', 'PM10'],\n",
       " 'Riva del Garda': ['Biossido di Azoto', 'Ozono', 'PM10'],\n",
       " 'Rovereto': ['Biossido di Azoto', 'Ozono', 'PM10', 'PM2.5'],\n",
       " 'Via Bolzano': ['Biossido di Azoto', 'Ossido di Carbonio', 'PM10']}"
      ]
     },
     "execution_count": 1049,
     "metadata": {},
     "output_type": "execute_result"
    }
   ],
   "source": [
    "station_list = df.Stazione.unique()\n",
    "pollutants_per_station = {}\n",
    "for st in station_list:\n",
    "    pollutants_per_station[st] = df[df.Stazione == st].Inquinante.unique().tolist()\n",
    "\n",
    "pollutants_per_station"
   ]
  },
  {
   "cell_type": "code",
   "execution_count": 1050,
   "metadata": {},
   "outputs": [],
   "source": [
    "def get_daily(station, polutant):\n",
    "    to_return = df[(df.Stazione == station) & (df.Inquinante == polutant)]\n",
    "    to_return = to_return.resample('D', on=\"Data\").mean()\n",
    "    to_return = to_return.reset_index()\n",
    "    return to_return"
   ]
  },
  {
   "cell_type": "code",
   "execution_count": 1051,
   "metadata": {},
   "outputs": [
    {
     "data": {
      "text/html": [
       "<div>\n",
       "<style scoped>\n",
       "    .dataframe tbody tr th:only-of-type {\n",
       "        vertical-align: middle;\n",
       "    }\n",
       "\n",
       "    .dataframe tbody tr th {\n",
       "        vertical-align: top;\n",
       "    }\n",
       "\n",
       "    .dataframe thead th {\n",
       "        text-align: right;\n",
       "    }\n",
       "</style>\n",
       "<table border=\"1\" class=\"dataframe\">\n",
       "  <thead>\n",
       "    <tr style=\"text-align: right;\">\n",
       "      <th></th>\n",
       "      <th>Data</th>\n",
       "      <th>Valore</th>\n",
       "    </tr>\n",
       "  </thead>\n",
       "  <tbody>\n",
       "    <tr>\n",
       "      <th>0</th>\n",
       "      <td>2012-01-01</td>\n",
       "      <td>55.727273</td>\n",
       "    </tr>\n",
       "    <tr>\n",
       "      <th>1</th>\n",
       "      <td>2012-01-02</td>\n",
       "      <td>62.291667</td>\n",
       "    </tr>\n",
       "    <tr>\n",
       "      <th>2</th>\n",
       "      <td>2012-01-03</td>\n",
       "      <td>36.708333</td>\n",
       "    </tr>\n",
       "    <tr>\n",
       "      <th>3</th>\n",
       "      <td>2012-01-04</td>\n",
       "      <td>33.041667</td>\n",
       "    </tr>\n",
       "    <tr>\n",
       "      <th>4</th>\n",
       "      <td>2012-01-05</td>\n",
       "      <td>26.375000</td>\n",
       "    </tr>\n",
       "    <tr>\n",
       "      <th>...</th>\n",
       "      <td>...</td>\n",
       "      <td>...</td>\n",
       "    </tr>\n",
       "    <tr>\n",
       "      <th>3837</th>\n",
       "      <td>2022-07-04</td>\n",
       "      <td>16.250000</td>\n",
       "    </tr>\n",
       "    <tr>\n",
       "      <th>3838</th>\n",
       "      <td>2022-07-05</td>\n",
       "      <td>9.291667</td>\n",
       "    </tr>\n",
       "    <tr>\n",
       "      <th>3839</th>\n",
       "      <td>2022-07-06</td>\n",
       "      <td>9.875000</td>\n",
       "    </tr>\n",
       "    <tr>\n",
       "      <th>3840</th>\n",
       "      <td>2022-07-07</td>\n",
       "      <td>14.875000</td>\n",
       "    </tr>\n",
       "    <tr>\n",
       "      <th>3841</th>\n",
       "      <td>2022-07-08</td>\n",
       "      <td>14.000000</td>\n",
       "    </tr>\n",
       "  </tbody>\n",
       "</table>\n",
       "<p>3842 rows × 2 columns</p>\n",
       "</div>"
      ],
      "text/plain": [
       "           Data     Valore\n",
       "0    2012-01-01  55.727273\n",
       "1    2012-01-02  62.291667\n",
       "2    2012-01-03  36.708333\n",
       "3    2012-01-04  33.041667\n",
       "4    2012-01-05  26.375000\n",
       "...         ...        ...\n",
       "3837 2022-07-04  16.250000\n",
       "3838 2022-07-05   9.291667\n",
       "3839 2022-07-06   9.875000\n",
       "3840 2022-07-07  14.875000\n",
       "3841 2022-07-08  14.000000\n",
       "\n",
       "[3842 rows x 2 columns]"
      ]
     },
     "execution_count": 1051,
     "metadata": {},
     "output_type": "execute_result"
    }
   ],
   "source": [
    "Bolzano_PM10 = get_daily(\"Via Bolzano\", \"PM10\")\n",
    "Bolzano_PM10\n"
   ]
  },
  {
   "cell_type": "code",
   "execution_count": 1052,
   "metadata": {},
   "outputs": [],
   "source": [
    "def plot_st_pol(station, pollutant):\n",
    "    pass\n"
   ]
  },
  {
   "cell_type": "markdown",
   "metadata": {},
   "source": [
    "Makes the daily mean from the hour values"
   ]
  },
  {
   "cell_type": "code",
   "execution_count": 1053,
   "metadata": {},
   "outputs": [],
   "source": [
    "df_daily = df_bolz_pm10.resample(\"D\", on='Data').mean()\n",
    "df_daily = df_daily.reset_index()"
   ]
  },
  {
   "cell_type": "code",
   "execution_count": 1054,
   "metadata": {},
   "outputs": [
    {
     "data": {
      "text/html": [
       "<div>\n",
       "<style scoped>\n",
       "    .dataframe tbody tr th:only-of-type {\n",
       "        vertical-align: middle;\n",
       "    }\n",
       "\n",
       "    .dataframe tbody tr th {\n",
       "        vertical-align: top;\n",
       "    }\n",
       "\n",
       "    .dataframe thead th {\n",
       "        text-align: right;\n",
       "    }\n",
       "</style>\n",
       "<table border=\"1\" class=\"dataframe\">\n",
       "  <thead>\n",
       "    <tr style=\"text-align: right;\">\n",
       "      <th></th>\n",
       "      <th>Data</th>\n",
       "      <th>Valore</th>\n",
       "    </tr>\n",
       "  </thead>\n",
       "  <tbody>\n",
       "    <tr>\n",
       "      <th>0</th>\n",
       "      <td>2012-01-01</td>\n",
       "      <td>59.869565</td>\n",
       "    </tr>\n",
       "    <tr>\n",
       "      <th>1</th>\n",
       "      <td>2012-01-02</td>\n",
       "      <td>68.458333</td>\n",
       "    </tr>\n",
       "    <tr>\n",
       "      <th>2</th>\n",
       "      <td>2012-01-03</td>\n",
       "      <td>64.958333</td>\n",
       "    </tr>\n",
       "    <tr>\n",
       "      <th>3</th>\n",
       "      <td>2012-01-04</td>\n",
       "      <td>57.833333</td>\n",
       "    </tr>\n",
       "    <tr>\n",
       "      <th>4</th>\n",
       "      <td>2012-01-05</td>\n",
       "      <td>61.208333</td>\n",
       "    </tr>\n",
       "  </tbody>\n",
       "</table>\n",
       "</div>"
      ],
      "text/plain": [
       "        Data     Valore\n",
       "0 2012-01-01  59.869565\n",
       "1 2012-01-02  68.458333\n",
       "2 2012-01-03  64.958333\n",
       "3 2012-01-04  57.833333\n",
       "4 2012-01-05  61.208333"
      ]
     },
     "execution_count": 1054,
     "metadata": {},
     "output_type": "execute_result"
    }
   ],
   "source": [
    "df_daily.head()"
   ]
  },
  {
   "cell_type": "code",
   "execution_count": 1055,
   "metadata": {},
   "outputs": [],
   "source": [
    "weather_file_path = \"weather_data.csv\"\n",
    "weather_df = pd.read_csv(weather_file_path, parse_dates=[\"Data\"])"
   ]
  },
  {
   "cell_type": "code",
   "execution_count": 1056,
   "metadata": {},
   "outputs": [
    {
     "data": {
      "text/plain": [
       "['rg', 'bolz', 'parco', 'borgo', 'piana', 'avio', 'rov', 'mgazza']"
      ]
     },
     "execution_count": 1056,
     "metadata": {},
     "output_type": "execute_result"
    }
   ],
   "source": [
    "locations = list(set(weather_df.columns[1:].map(lambda x: x.split()[0])))\n",
    "locations"
   ]
  },
  {
   "cell_type": "code",
   "execution_count": 1057,
   "metadata": {},
   "outputs": [
    {
     "name": "stderr",
     "output_type": "stream",
     "text": [
      "C:\\Users\\thoma\\AppData\\Local\\Temp\\ipykernel_3592\\2564517573.py:10: SettingWithCopyWarning: \n",
      "A value is trying to be set on a copy of a slice from a DataFrame.\n",
      "Try using .loc[row_indexer,col_indexer] = value instead\n",
      "\n",
      "See the caveats in the documentation: https://pandas.pydata.org/pandas-docs/stable/user_guide/indexing.html#returning-a-view-versus-a-copy\n",
      "  location_df[\"Location\"] = location\n",
      "C:\\Users\\thoma\\AppData\\Local\\Temp\\ipykernel_3592\\2564517573.py:10: SettingWithCopyWarning: \n",
      "A value is trying to be set on a copy of a slice from a DataFrame.\n",
      "Try using .loc[row_indexer,col_indexer] = value instead\n",
      "\n",
      "See the caveats in the documentation: https://pandas.pydata.org/pandas-docs/stable/user_guide/indexing.html#returning-a-view-versus-a-copy\n",
      "  location_df[\"Location\"] = location\n",
      "C:\\Users\\thoma\\AppData\\Local\\Temp\\ipykernel_3592\\2564517573.py:10: SettingWithCopyWarning: \n",
      "A value is trying to be set on a copy of a slice from a DataFrame.\n",
      "Try using .loc[row_indexer,col_indexer] = value instead\n",
      "\n",
      "See the caveats in the documentation: https://pandas.pydata.org/pandas-docs/stable/user_guide/indexing.html#returning-a-view-versus-a-copy\n",
      "  location_df[\"Location\"] = location\n",
      "C:\\Users\\thoma\\AppData\\Local\\Temp\\ipykernel_3592\\2564517573.py:10: SettingWithCopyWarning: \n",
      "A value is trying to be set on a copy of a slice from a DataFrame.\n",
      "Try using .loc[row_indexer,col_indexer] = value instead\n",
      "\n",
      "See the caveats in the documentation: https://pandas.pydata.org/pandas-docs/stable/user_guide/indexing.html#returning-a-view-versus-a-copy\n",
      "  location_df[\"Location\"] = location\n",
      "C:\\Users\\thoma\\AppData\\Local\\Temp\\ipykernel_3592\\2564517573.py:10: SettingWithCopyWarning: \n",
      "A value is trying to be set on a copy of a slice from a DataFrame.\n",
      "Try using .loc[row_indexer,col_indexer] = value instead\n",
      "\n",
      "See the caveats in the documentation: https://pandas.pydata.org/pandas-docs/stable/user_guide/indexing.html#returning-a-view-versus-a-copy\n",
      "  location_df[\"Location\"] = location\n",
      "C:\\Users\\thoma\\AppData\\Local\\Temp\\ipykernel_3592\\2564517573.py:10: SettingWithCopyWarning: \n",
      "A value is trying to be set on a copy of a slice from a DataFrame.\n",
      "Try using .loc[row_indexer,col_indexer] = value instead\n",
      "\n",
      "See the caveats in the documentation: https://pandas.pydata.org/pandas-docs/stable/user_guide/indexing.html#returning-a-view-versus-a-copy\n",
      "  location_df[\"Location\"] = location\n",
      "C:\\Users\\thoma\\AppData\\Local\\Temp\\ipykernel_3592\\2564517573.py:10: SettingWithCopyWarning: \n",
      "A value is trying to be set on a copy of a slice from a DataFrame.\n",
      "Try using .loc[row_indexer,col_indexer] = value instead\n",
      "\n",
      "See the caveats in the documentation: https://pandas.pydata.org/pandas-docs/stable/user_guide/indexing.html#returning-a-view-versus-a-copy\n",
      "  location_df[\"Location\"] = location\n",
      "C:\\Users\\thoma\\AppData\\Local\\Temp\\ipykernel_3592\\2564517573.py:10: SettingWithCopyWarning: \n",
      "A value is trying to be set on a copy of a slice from a DataFrame.\n",
      "Try using .loc[row_indexer,col_indexer] = value instead\n",
      "\n",
      "See the caveats in the documentation: https://pandas.pydata.org/pandas-docs/stable/user_guide/indexing.html#returning-a-view-versus-a-copy\n",
      "  location_df[\"Location\"] = location\n"
     ]
    }
   ],
   "source": [
    "weather_loc = {}\n",
    "\n",
    "for location in locations:\n",
    "    location_columns = weather_df.columns[\n",
    "        weather_df.columns.map(lambda x: x.split()[0] == location)\n",
    "    ]\n",
    "\n",
    "    location_df = weather_df[[\"Data\"] + location_columns.tolist()]\n",
    "    location_df.columns = location_df.columns.str.replace(location, \"\").str.strip()\n",
    "    location_df[\"Location\"] = location\n",
    "    \n",
    "    weather_loc[location] = location_df\n"
   ]
  },
  {
   "cell_type": "code",
   "execution_count": 1058,
   "metadata": {},
   "outputs": [],
   "source": [
    "df_weather_long = pd.concat(weather_loc.values())\n",
    "# df_weather_long.to_csv(\"./weather_long_format.csv\", index=None)"
   ]
  },
  {
   "cell_type": "code",
   "execution_count": 1059,
   "metadata": {},
   "outputs": [
    {
     "data": {
      "text/html": [
       "<div>\n",
       "<style scoped>\n",
       "    .dataframe tbody tr th:only-of-type {\n",
       "        vertical-align: middle;\n",
       "    }\n",
       "\n",
       "    .dataframe tbody tr th {\n",
       "        vertical-align: top;\n",
       "    }\n",
       "\n",
       "    .dataframe thead th {\n",
       "        text-align: right;\n",
       "    }\n",
       "</style>\n",
       "<table border=\"1\" class=\"dataframe\">\n",
       "  <thead>\n",
       "    <tr style=\"text-align: right;\">\n",
       "      <th></th>\n",
       "      <th>Data</th>\n",
       "      <th>Valore</th>\n",
       "      <th>rain</th>\n",
       "      <th>temp</th>\n",
       "      <th>Location</th>\n",
       "      <th>hum</th>\n",
       "      <th>w_dir</th>\n",
       "      <th>w_sp</th>\n",
       "      <th>press</th>\n",
       "      <th>sol</th>\n",
       "    </tr>\n",
       "  </thead>\n",
       "  <tbody>\n",
       "    <tr>\n",
       "      <th>0</th>\n",
       "      <td>2012-01-01</td>\n",
       "      <td>59.869565</td>\n",
       "      <td>0.0</td>\n",
       "      <td>0.0</td>\n",
       "      <td>bolz</td>\n",
       "      <td>78.6</td>\n",
       "      <td>342.0</td>\n",
       "      <td>0.7</td>\n",
       "      <td>995.5</td>\n",
       "      <td>6433.5</td>\n",
       "    </tr>\n",
       "    <tr>\n",
       "      <th>1</th>\n",
       "      <td>2012-01-02</td>\n",
       "      <td>68.458333</td>\n",
       "      <td>15.0</td>\n",
       "      <td>-0.4</td>\n",
       "      <td>bolz</td>\n",
       "      <td>95.0</td>\n",
       "      <td>348.0</td>\n",
       "      <td>1.0</td>\n",
       "      <td>994.7</td>\n",
       "      <td>1154.3</td>\n",
       "    </tr>\n",
       "    <tr>\n",
       "      <th>2</th>\n",
       "      <td>2012-01-03</td>\n",
       "      <td>64.958333</td>\n",
       "      <td>0.6</td>\n",
       "      <td>3.6</td>\n",
       "      <td>bolz</td>\n",
       "      <td>86.8</td>\n",
       "      <td>329.0</td>\n",
       "      <td>1.8</td>\n",
       "      <td>997.5</td>\n",
       "      <td>7082.0</td>\n",
       "    </tr>\n",
       "    <tr>\n",
       "      <th>3</th>\n",
       "      <td>2012-01-04</td>\n",
       "      <td>57.833333</td>\n",
       "      <td>0.0</td>\n",
       "      <td>0.1</td>\n",
       "      <td>bolz</td>\n",
       "      <td>90.0</td>\n",
       "      <td>337.0</td>\n",
       "      <td>1.0</td>\n",
       "      <td>993.7</td>\n",
       "      <td>3149.2</td>\n",
       "    </tr>\n",
       "    <tr>\n",
       "      <th>4</th>\n",
       "      <td>2012-01-05</td>\n",
       "      <td>61.208333</td>\n",
       "      <td>0.0</td>\n",
       "      <td>1.0</td>\n",
       "      <td>bolz</td>\n",
       "      <td>79.8</td>\n",
       "      <td>343.0</td>\n",
       "      <td>1.5</td>\n",
       "      <td>980.3</td>\n",
       "      <td>5839.9</td>\n",
       "    </tr>\n",
       "    <tr>\n",
       "      <th>...</th>\n",
       "      <td>...</td>\n",
       "      <td>...</td>\n",
       "      <td>...</td>\n",
       "      <td>...</td>\n",
       "      <td>...</td>\n",
       "      <td>...</td>\n",
       "      <td>...</td>\n",
       "      <td>...</td>\n",
       "      <td>...</td>\n",
       "      <td>...</td>\n",
       "    </tr>\n",
       "    <tr>\n",
       "      <th>3837</th>\n",
       "      <td>2022-07-04</td>\n",
       "      <td>18.208333</td>\n",
       "      <td>7.0</td>\n",
       "      <td>23.2</td>\n",
       "      <td>bolz</td>\n",
       "      <td>70.6</td>\n",
       "      <td>315.0</td>\n",
       "      <td>3.7</td>\n",
       "      <td>991.4</td>\n",
       "      <td>16440.8</td>\n",
       "    </tr>\n",
       "    <tr>\n",
       "      <th>3838</th>\n",
       "      <td>2022-07-05</td>\n",
       "      <td>19.250000</td>\n",
       "      <td>0.0</td>\n",
       "      <td>24.9</td>\n",
       "      <td>bolz</td>\n",
       "      <td>59.5</td>\n",
       "      <td>330.0</td>\n",
       "      <td>2.9</td>\n",
       "      <td>989.0</td>\n",
       "      <td>25228.8</td>\n",
       "    </tr>\n",
       "    <tr>\n",
       "      <th>3839</th>\n",
       "      <td>2022-07-06</td>\n",
       "      <td>20.083333</td>\n",
       "      <td>0.0</td>\n",
       "      <td>25.2</td>\n",
       "      <td>bolz</td>\n",
       "      <td>54.2</td>\n",
       "      <td>336.0</td>\n",
       "      <td>2.0</td>\n",
       "      <td>990.8</td>\n",
       "      <td>28751.0</td>\n",
       "    </tr>\n",
       "    <tr>\n",
       "      <th>3840</th>\n",
       "      <td>2022-07-07</td>\n",
       "      <td>24.500000</td>\n",
       "      <td>4.0</td>\n",
       "      <td>23.5</td>\n",
       "      <td>bolz</td>\n",
       "      <td>62.2</td>\n",
       "      <td>296.0</td>\n",
       "      <td>1.3</td>\n",
       "      <td>989.6</td>\n",
       "      <td>19994.8</td>\n",
       "    </tr>\n",
       "    <tr>\n",
       "      <th>3841</th>\n",
       "      <td>2022-07-08</td>\n",
       "      <td>19.000000</td>\n",
       "      <td>0.0</td>\n",
       "      <td>23.9</td>\n",
       "      <td>bolz</td>\n",
       "      <td>41.2</td>\n",
       "      <td>341.0</td>\n",
       "      <td>2.5</td>\n",
       "      <td>993.2</td>\n",
       "      <td>29513.0</td>\n",
       "    </tr>\n",
       "  </tbody>\n",
       "</table>\n",
       "<p>3842 rows × 10 columns</p>\n",
       "</div>"
      ],
      "text/plain": [
       "           Data     Valore  rain  temp Location   hum  w_dir  w_sp  press  \\\n",
       "0    2012-01-01  59.869565   0.0   0.0     bolz  78.6  342.0   0.7  995.5   \n",
       "1    2012-01-02  68.458333  15.0  -0.4     bolz  95.0  348.0   1.0  994.7   \n",
       "2    2012-01-03  64.958333   0.6   3.6     bolz  86.8  329.0   1.8  997.5   \n",
       "3    2012-01-04  57.833333   0.0   0.1     bolz  90.0  337.0   1.0  993.7   \n",
       "4    2012-01-05  61.208333   0.0   1.0     bolz  79.8  343.0   1.5  980.3   \n",
       "...         ...        ...   ...   ...      ...   ...    ...   ...    ...   \n",
       "3837 2022-07-04  18.208333   7.0  23.2     bolz  70.6  315.0   3.7  991.4   \n",
       "3838 2022-07-05  19.250000   0.0  24.9     bolz  59.5  330.0   2.9  989.0   \n",
       "3839 2022-07-06  20.083333   0.0  25.2     bolz  54.2  336.0   2.0  990.8   \n",
       "3840 2022-07-07  24.500000   4.0  23.5     bolz  62.2  296.0   1.3  989.6   \n",
       "3841 2022-07-08  19.000000   0.0  23.9     bolz  41.2  341.0   2.5  993.2   \n",
       "\n",
       "          sol  \n",
       "0      6433.5  \n",
       "1      1154.3  \n",
       "2      7082.0  \n",
       "3      3149.2  \n",
       "4      5839.9  \n",
       "...       ...  \n",
       "3837  16440.8  \n",
       "3838  25228.8  \n",
       "3839  28751.0  \n",
       "3840  19994.8  \n",
       "3841  29513.0  \n",
       "\n",
       "[3842 rows x 10 columns]"
      ]
     },
     "execution_count": 1059,
     "metadata": {},
     "output_type": "execute_result"
    }
   ],
   "source": [
    "merged_df = df_daily.join(\n",
    "    df_weather_long[df_weather_long.Location == CURRENT_LOCATION].set_index(\"Data\"), \n",
    "    on=\"Data\"\n",
    ")\n",
    "merged_df"
   ]
  },
  {
   "cell_type": "code",
   "execution_count": 1060,
   "metadata": {},
   "outputs": [],
   "source": [
    "# add column for the value of the previous day\n",
    "weather_parameters = ['rain', 'temp', 'press', 'hum', 'w_dir', 'w_sp', 'sol']\n",
    "prev_day_values = {}\n",
    "for par in weather_parameters:\n",
    "    for i in range(1, 8):\n",
    "        prev_day_values[f\"{par} {i} day/s earlier\"]  = []\n",
    "        for date in merged_df[\"Data\"]:\n",
    "            prev_day = date - timedelta(hours=int(24 * i))\n",
    "            series = merged_df[merged_df.Data == prev_day][par].values.tolist()\n",
    "            #print(series)\n",
    "            if len(series) > 0:\n",
    "                value = series[0]\n",
    "            else:\n",
    "                value = NaN  # takes the current day, not the previous\n",
    "            prev_day_values[f\"{par} {i} day/s earlier\"].append(value)\n",
    "\n",
    "        merged_df[f\"{par} {i} day/s earlier\"] = prev_day_values[f'{par} {i} day/s earlier']"
   ]
  },
  {
   "cell_type": "code",
   "execution_count": 1061,
   "metadata": {},
   "outputs": [],
   "source": [
    "merged_df = merged_df.dropna()"
   ]
  },
  {
   "cell_type": "code",
   "execution_count": 1062,
   "metadata": {},
   "outputs": [
    {
     "data": {
      "text/plain": [
       "Data                     0\n",
       "Valore                   0\n",
       "rain                     0\n",
       "temp                     0\n",
       "Location                 0\n",
       "hum                      0\n",
       "w_dir                    0\n",
       "w_sp                     0\n",
       "press                    0\n",
       "sol                      0\n",
       "rain 1 day/s earlier     0\n",
       "rain 2 day/s earlier     0\n",
       "rain 3 day/s earlier     0\n",
       "rain 4 day/s earlier     0\n",
       "rain 5 day/s earlier     0\n",
       "rain 6 day/s earlier     0\n",
       "rain 7 day/s earlier     0\n",
       "temp 1 day/s earlier     0\n",
       "temp 2 day/s earlier     0\n",
       "temp 3 day/s earlier     0\n",
       "temp 4 day/s earlier     0\n",
       "temp 5 day/s earlier     0\n",
       "temp 6 day/s earlier     0\n",
       "temp 7 day/s earlier     0\n",
       "press 1 day/s earlier    0\n",
       "press 2 day/s earlier    0\n",
       "press 3 day/s earlier    0\n",
       "press 4 day/s earlier    0\n",
       "press 5 day/s earlier    0\n",
       "press 6 day/s earlier    0\n",
       "press 7 day/s earlier    0\n",
       "hum 1 day/s earlier      0\n",
       "hum 2 day/s earlier      0\n",
       "hum 3 day/s earlier      0\n",
       "hum 4 day/s earlier      0\n",
       "hum 5 day/s earlier      0\n",
       "hum 6 day/s earlier      0\n",
       "hum 7 day/s earlier      0\n",
       "w_dir 1 day/s earlier    0\n",
       "w_dir 2 day/s earlier    0\n",
       "w_dir 3 day/s earlier    0\n",
       "w_dir 4 day/s earlier    0\n",
       "w_dir 5 day/s earlier    0\n",
       "w_dir 6 day/s earlier    0\n",
       "w_dir 7 day/s earlier    0\n",
       "w_sp 1 day/s earlier     0\n",
       "w_sp 2 day/s earlier     0\n",
       "w_sp 3 day/s earlier     0\n",
       "w_sp 4 day/s earlier     0\n",
       "w_sp 5 day/s earlier     0\n",
       "w_sp 6 day/s earlier     0\n",
       "w_sp 7 day/s earlier     0\n",
       "sol 1 day/s earlier      0\n",
       "sol 2 day/s earlier      0\n",
       "sol 3 day/s earlier      0\n",
       "sol 4 day/s earlier      0\n",
       "sol 5 day/s earlier      0\n",
       "sol 6 day/s earlier      0\n",
       "sol 7 day/s earlier      0\n",
       "dtype: int64"
      ]
     },
     "execution_count": 1062,
     "metadata": {},
     "output_type": "execute_result"
    }
   ],
   "source": [
    "merged_df.isna().sum()"
   ]
  },
  {
   "cell_type": "code",
   "execution_count": null,
   "metadata": {},
   "outputs": [],
   "source": [
    "merged_df.corr()"
   ]
  },
  {
   "cell_type": "code",
   "execution_count": null,
   "metadata": {},
   "outputs": [],
   "source": [
    "merged_df.describe()"
   ]
  },
  {
   "cell_type": "code",
   "execution_count": null,
   "metadata": {},
   "outputs": [],
   "source": [
    "merged_df = merged_df.dropna()\n",
    "merged_df"
   ]
  },
  {
   "cell_type": "code",
   "execution_count": 1066,
   "metadata": {},
   "outputs": [],
   "source": [
    "from sklearn.model_selection import train_test_split"
   ]
  },
  {
   "cell_type": "code",
   "execution_count": 1067,
   "metadata": {},
   "outputs": [],
   "source": [
    "input_columns = [\n",
    "    'rain', \n",
    "    'temp', \n",
    "    'hum', \n",
    "    'w_dir', \n",
    "    'w_sp', \n",
    "    'press', \n",
    "    'sol',\n",
    "    #'Prev day'\n",
    "]\n",
    "\n",
    "for i in range (1, 8):\n",
    "    for par in weather_parameters:\n",
    "        input_columns.append(f\"{par} {i} day/s earlier\")\n",
    "\n",
    "X = merged_df[input_columns]\n",
    "y = merged_df['Valore']"
   ]
  },
  {
   "cell_type": "code",
   "execution_count": 1068,
   "metadata": {},
   "outputs": [],
   "source": [
    "test_years = [2015, 2017]\n",
    "train_years = [2012, 2013, 2014, 2016, 2018, 2019, 2020, 2021, 2022]\n",
    "\n",
    "\n"
   ]
  },
  {
   "cell_type": "code",
   "execution_count": 1069,
   "metadata": {},
   "outputs": [],
   "source": [
    "# X_train, X_test, y_train, y_test = train_test_split(X, y, \n",
    "#                                                     test_size=0.2, \n",
    "#                                                     random_state=SEED)"
   ]
  },
  {
   "cell_type": "code",
   "execution_count": 1070,
   "metadata": {},
   "outputs": [],
   "source": [
    "X_train, y_train, X_test, y_test = (\n",
    "    X[merged_df.Data.dt.year.isin(train_years)],\n",
    "    y[merged_df.Data.dt.year.isin(train_years)],\n",
    "    X[merged_df.Data.dt.year.isin(test_years)],\n",
    "    y[merged_df.Data.dt.year.isin(test_years)]\n",
    ")"
   ]
  },
  {
   "cell_type": "code",
   "execution_count": 1071,
   "metadata": {},
   "outputs": [
    {
     "data": {
      "text/plain": [
       "(3788, 56)"
      ]
     },
     "execution_count": 1071,
     "metadata": {},
     "output_type": "execute_result"
    }
   ],
   "source": [
    "X.shape"
   ]
  },
  {
   "cell_type": "markdown",
   "metadata": {},
   "source": [
    "# ---- START OF RANDOM FOREST ----"
   ]
  },
  {
   "cell_type": "code",
   "execution_count": 1072,
   "metadata": {},
   "outputs": [],
   "source": [
    "from sklearn.ensemble import RandomForestRegressor\n",
    "SEED = 42"
   ]
  },
  {
   "cell_type": "code",
   "execution_count": 1073,
   "metadata": {},
   "outputs": [
    {
     "data": {
      "text/plain": [
       "(3076, 56)"
      ]
     },
     "execution_count": 1073,
     "metadata": {},
     "output_type": "execute_result"
    }
   ],
   "source": [
    "X_train.shape"
   ]
  },
  {
   "cell_type": "code",
   "execution_count": 1074,
   "metadata": {},
   "outputs": [
    {
     "data": {
      "text/html": [
       "<style>#sk-container-id-27 {color: black;background-color: white;}#sk-container-id-27 pre{padding: 0;}#sk-container-id-27 div.sk-toggleable {background-color: white;}#sk-container-id-27 label.sk-toggleable__label {cursor: pointer;display: block;width: 100%;margin-bottom: 0;padding: 0.3em;box-sizing: border-box;text-align: center;}#sk-container-id-27 label.sk-toggleable__label-arrow:before {content: \"▸\";float: left;margin-right: 0.25em;color: #696969;}#sk-container-id-27 label.sk-toggleable__label-arrow:hover:before {color: black;}#sk-container-id-27 div.sk-estimator:hover label.sk-toggleable__label-arrow:before {color: black;}#sk-container-id-27 div.sk-toggleable__content {max-height: 0;max-width: 0;overflow: hidden;text-align: left;background-color: #f0f8ff;}#sk-container-id-27 div.sk-toggleable__content pre {margin: 0.2em;color: black;border-radius: 0.25em;background-color: #f0f8ff;}#sk-container-id-27 input.sk-toggleable__control:checked~div.sk-toggleable__content {max-height: 200px;max-width: 100%;overflow: auto;}#sk-container-id-27 input.sk-toggleable__control:checked~label.sk-toggleable__label-arrow:before {content: \"▾\";}#sk-container-id-27 div.sk-estimator input.sk-toggleable__control:checked~label.sk-toggleable__label {background-color: #d4ebff;}#sk-container-id-27 div.sk-label input.sk-toggleable__control:checked~label.sk-toggleable__label {background-color: #d4ebff;}#sk-container-id-27 input.sk-hidden--visually {border: 0;clip: rect(1px 1px 1px 1px);clip: rect(1px, 1px, 1px, 1px);height: 1px;margin: -1px;overflow: hidden;padding: 0;position: absolute;width: 1px;}#sk-container-id-27 div.sk-estimator {font-family: monospace;background-color: #f0f8ff;border: 1px dotted black;border-radius: 0.25em;box-sizing: border-box;margin-bottom: 0.5em;}#sk-container-id-27 div.sk-estimator:hover {background-color: #d4ebff;}#sk-container-id-27 div.sk-parallel-item::after {content: \"\";width: 100%;border-bottom: 1px solid gray;flex-grow: 1;}#sk-container-id-27 div.sk-label:hover label.sk-toggleable__label {background-color: #d4ebff;}#sk-container-id-27 div.sk-serial::before {content: \"\";position: absolute;border-left: 1px solid gray;box-sizing: border-box;top: 0;bottom: 0;left: 50%;z-index: 0;}#sk-container-id-27 div.sk-serial {display: flex;flex-direction: column;align-items: center;background-color: white;padding-right: 0.2em;padding-left: 0.2em;position: relative;}#sk-container-id-27 div.sk-item {position: relative;z-index: 1;}#sk-container-id-27 div.sk-parallel {display: flex;align-items: stretch;justify-content: center;background-color: white;position: relative;}#sk-container-id-27 div.sk-item::before, #sk-container-id-27 div.sk-parallel-item::before {content: \"\";position: absolute;border-left: 1px solid gray;box-sizing: border-box;top: 0;bottom: 0;left: 50%;z-index: -1;}#sk-container-id-27 div.sk-parallel-item {display: flex;flex-direction: column;z-index: 1;position: relative;background-color: white;}#sk-container-id-27 div.sk-parallel-item:first-child::after {align-self: flex-end;width: 50%;}#sk-container-id-27 div.sk-parallel-item:last-child::after {align-self: flex-start;width: 50%;}#sk-container-id-27 div.sk-parallel-item:only-child::after {width: 0;}#sk-container-id-27 div.sk-dashed-wrapped {border: 1px dashed gray;margin: 0 0.4em 0.5em 0.4em;box-sizing: border-box;padding-bottom: 0.4em;background-color: white;}#sk-container-id-27 div.sk-label label {font-family: monospace;font-weight: bold;display: inline-block;line-height: 1.2em;}#sk-container-id-27 div.sk-label-container {text-align: center;}#sk-container-id-27 div.sk-container {/* jupyter's `normalize.less` sets `[hidden] { display: none; }` but bootstrap.min.css set `[hidden] { display: none !important; }` so we also need the `!important` here to be able to override the default hidden behavior on the sphinx rendered scikit-learn.org. See: https://github.com/scikit-learn/scikit-learn/issues/21755 */display: inline-block !important;position: relative;}#sk-container-id-27 div.sk-text-repr-fallback {display: none;}</style><div id=\"sk-container-id-27\" class=\"sk-top-container\"><div class=\"sk-text-repr-fallback\"><pre>RandomForestRegressor(random_state=42)</pre><b>In a Jupyter environment, please rerun this cell to show the HTML representation or trust the notebook. <br />On GitHub, the HTML representation is unable to render, please try loading this page with nbviewer.org.</b></div><div class=\"sk-container\" hidden><div class=\"sk-item\"><div class=\"sk-estimator sk-toggleable\"><input class=\"sk-toggleable__control sk-hidden--visually\" id=\"sk-estimator-id-27\" type=\"checkbox\" checked><label for=\"sk-estimator-id-27\" class=\"sk-toggleable__label sk-toggleable__label-arrow\">RandomForestRegressor</label><div class=\"sk-toggleable__content\"><pre>RandomForestRegressor(random_state=42)</pre></div></div></div></div></div>"
      ],
      "text/plain": [
       "RandomForestRegressor(random_state=42)"
      ]
     },
     "execution_count": 1074,
     "metadata": {},
     "output_type": "execute_result"
    }
   ],
   "source": [
    "regressor = RandomForestRegressor(n_estimators = 100, random_state = SEED)\n",
    "regressor.fit(X_train, y_train)"
   ]
  },
  {
   "cell_type": "code",
   "execution_count": 1075,
   "metadata": {},
   "outputs": [
    {
     "name": "stdout",
     "output_type": "stream",
     "text": [
      "R2: 0.9629186337032115\n"
     ]
    }
   ],
   "source": [
    "score = regressor.score(X_train, y_train)\n",
    "print(\"R2:\", score)"
   ]
  },
  {
   "cell_type": "code",
   "execution_count": 1076,
   "metadata": {},
   "outputs": [],
   "source": [
    "y_pred = regressor.predict(X_test)"
   ]
  },
  {
   "cell_type": "code",
   "execution_count": 1077,
   "metadata": {},
   "outputs": [
    {
     "name": "stdout",
     "output_type": "stream",
     "text": [
      "         Actual  Predicted\n",
      "1096  59.666667  76.993933\n",
      "1097  61.666667  76.328333\n",
      "1098  73.250000  72.375097\n",
      "1099  44.625000  58.776021\n",
      "1100  84.916667  75.942344\n",
      "...         ...        ...\n",
      "2187  74.041667  72.392202\n",
      "2188  51.772727  43.230412\n",
      "2189  45.500000  48.139622\n",
      "2190  52.125000  58.692052\n",
      "2191  64.250000  75.161982\n",
      "\n",
      "[712 rows x 2 columns]\n"
     ]
    }
   ],
   "source": [
    "results = pd.DataFrame({'Actual': y_test, 'Predicted': y_pred})\n",
    "print(results)"
   ]
  },
  {
   "cell_type": "code",
   "execution_count": 1078,
   "metadata": {},
   "outputs": [
    {
     "data": {
      "text/html": [
       "<div>\n",
       "<style scoped>\n",
       "    .dataframe tbody tr th:only-of-type {\n",
       "        vertical-align: middle;\n",
       "    }\n",
       "\n",
       "    .dataframe tbody tr th {\n",
       "        vertical-align: top;\n",
       "    }\n",
       "\n",
       "    .dataframe thead th {\n",
       "        text-align: right;\n",
       "    }\n",
       "</style>\n",
       "<table border=\"1\" class=\"dataframe\">\n",
       "  <thead>\n",
       "    <tr style=\"text-align: right;\">\n",
       "      <th></th>\n",
       "      <th>Actual</th>\n",
       "      <th>Predicted</th>\n",
       "    </tr>\n",
       "  </thead>\n",
       "  <tbody>\n",
       "    <tr>\n",
       "      <th>Actual</th>\n",
       "      <td>1.000000</td>\n",
       "      <td>0.883591</td>\n",
       "    </tr>\n",
       "    <tr>\n",
       "      <th>Predicted</th>\n",
       "      <td>0.883591</td>\n",
       "      <td>1.000000</td>\n",
       "    </tr>\n",
       "  </tbody>\n",
       "</table>\n",
       "</div>"
      ],
      "text/plain": [
       "             Actual  Predicted\n",
       "Actual     1.000000   0.883591\n",
       "Predicted  0.883591   1.000000"
      ]
     },
     "execution_count": 1078,
     "metadata": {},
     "output_type": "execute_result"
    }
   ],
   "source": [
    "results.corr()"
   ]
  },
  {
   "cell_type": "code",
   "execution_count": 1079,
   "metadata": {},
   "outputs": [
    {
     "name": "stderr",
     "output_type": "stream",
     "text": [
      "C:\\Users\\thoma\\AppData\\Local\\Temp\\ipykernel_3592\\643691821.py:4: SettingWithCopyWarning: \n",
      "A value is trying to be set on a copy of a slice from a DataFrame.\n",
      "Try using .loc[row_indexer,col_indexer] = value instead\n",
      "\n",
      "See the caveats in the documentation: https://pandas.pydata.org/pandas-docs/stable/user_guide/indexing.html#returning-a-view-versus-a-copy\n",
      "  test_chart_data[\"pred\"] = regressor.predict(test_chart_data[input_columns])\n"
     ]
    }
   ],
   "source": [
    "test_chart_data = merged_df[\n",
    "    merged_df.Data.dt.year.isin(test_years)\n",
    "]\n",
    "test_chart_data[\"pred\"] = regressor.predict(test_chart_data[input_columns])"
   ]
  },
  {
   "cell_type": "code",
   "execution_count": 1080,
   "metadata": {},
   "outputs": [
    {
     "data": {
      "text/html": [
       "<div>\n",
       "<style scoped>\n",
       "    .dataframe tbody tr th:only-of-type {\n",
       "        vertical-align: middle;\n",
       "    }\n",
       "\n",
       "    .dataframe tbody tr th {\n",
       "        vertical-align: top;\n",
       "    }\n",
       "\n",
       "    .dataframe thead th {\n",
       "        text-align: right;\n",
       "    }\n",
       "</style>\n",
       "<table border=\"1\" class=\"dataframe\">\n",
       "  <thead>\n",
       "    <tr style=\"text-align: right;\">\n",
       "      <th></th>\n",
       "      <th>rain</th>\n",
       "      <th>temp</th>\n",
       "      <th>hum</th>\n",
       "      <th>w_dir</th>\n",
       "      <th>w_sp</th>\n",
       "      <th>press</th>\n",
       "      <th>sol</th>\n",
       "      <th>rain 1 day/s earlier</th>\n",
       "      <th>temp 1 day/s earlier</th>\n",
       "      <th>press 1 day/s earlier</th>\n",
       "      <th>...</th>\n",
       "      <th>w_dir 6 day/s earlier</th>\n",
       "      <th>w_sp 6 day/s earlier</th>\n",
       "      <th>sol 6 day/s earlier</th>\n",
       "      <th>rain 7 day/s earlier</th>\n",
       "      <th>temp 7 day/s earlier</th>\n",
       "      <th>press 7 day/s earlier</th>\n",
       "      <th>hum 7 day/s earlier</th>\n",
       "      <th>w_dir 7 day/s earlier</th>\n",
       "      <th>w_sp 7 day/s earlier</th>\n",
       "      <th>sol 7 day/s earlier</th>\n",
       "    </tr>\n",
       "  </thead>\n",
       "  <tbody>\n",
       "    <tr>\n",
       "      <th>7</th>\n",
       "      <td>0.0</td>\n",
       "      <td>3.9</td>\n",
       "      <td>61.6</td>\n",
       "      <td>348.0</td>\n",
       "      <td>2.5</td>\n",
       "      <td>990.6</td>\n",
       "      <td>7850.6</td>\n",
       "      <td>0.0</td>\n",
       "      <td>1.5</td>\n",
       "      <td>991.4</td>\n",
       "      <td>...</td>\n",
       "      <td>348.0</td>\n",
       "      <td>1.0</td>\n",
       "      <td>1154.3</td>\n",
       "      <td>0.0</td>\n",
       "      <td>0.0</td>\n",
       "      <td>995.5</td>\n",
       "      <td>78.6</td>\n",
       "      <td>342.0</td>\n",
       "      <td>0.7</td>\n",
       "      <td>6433.5</td>\n",
       "    </tr>\n",
       "    <tr>\n",
       "      <th>8</th>\n",
       "      <td>0.0</td>\n",
       "      <td>3.5</td>\n",
       "      <td>60.6</td>\n",
       "      <td>330.0</td>\n",
       "      <td>1.5</td>\n",
       "      <td>997.2</td>\n",
       "      <td>7607.4</td>\n",
       "      <td>0.0</td>\n",
       "      <td>3.9</td>\n",
       "      <td>990.6</td>\n",
       "      <td>...</td>\n",
       "      <td>329.0</td>\n",
       "      <td>1.8</td>\n",
       "      <td>7082.0</td>\n",
       "      <td>15.0</td>\n",
       "      <td>-0.4</td>\n",
       "      <td>994.7</td>\n",
       "      <td>95.0</td>\n",
       "      <td>348.0</td>\n",
       "      <td>1.0</td>\n",
       "      <td>1154.3</td>\n",
       "    </tr>\n",
       "    <tr>\n",
       "      <th>9</th>\n",
       "      <td>0.0</td>\n",
       "      <td>4.1</td>\n",
       "      <td>56.8</td>\n",
       "      <td>349.0</td>\n",
       "      <td>1.9</td>\n",
       "      <td>1001.2</td>\n",
       "      <td>8116.0</td>\n",
       "      <td>0.0</td>\n",
       "      <td>3.5</td>\n",
       "      <td>997.2</td>\n",
       "      <td>...</td>\n",
       "      <td>337.0</td>\n",
       "      <td>1.0</td>\n",
       "      <td>3149.2</td>\n",
       "      <td>0.6</td>\n",
       "      <td>3.6</td>\n",
       "      <td>997.5</td>\n",
       "      <td>86.8</td>\n",
       "      <td>329.0</td>\n",
       "      <td>1.8</td>\n",
       "      <td>7082.0</td>\n",
       "    </tr>\n",
       "    <tr>\n",
       "      <th>10</th>\n",
       "      <td>0.0</td>\n",
       "      <td>2.1</td>\n",
       "      <td>65.6</td>\n",
       "      <td>342.0</td>\n",
       "      <td>0.8</td>\n",
       "      <td>1005.3</td>\n",
       "      <td>7614.8</td>\n",
       "      <td>0.0</td>\n",
       "      <td>4.1</td>\n",
       "      <td>1001.2</td>\n",
       "      <td>...</td>\n",
       "      <td>343.0</td>\n",
       "      <td>1.5</td>\n",
       "      <td>5839.9</td>\n",
       "      <td>0.0</td>\n",
       "      <td>0.1</td>\n",
       "      <td>993.7</td>\n",
       "      <td>90.0</td>\n",
       "      <td>337.0</td>\n",
       "      <td>1.0</td>\n",
       "      <td>3149.2</td>\n",
       "    </tr>\n",
       "    <tr>\n",
       "      <th>11</th>\n",
       "      <td>0.0</td>\n",
       "      <td>0.6</td>\n",
       "      <td>80.6</td>\n",
       "      <td>336.0</td>\n",
       "      <td>0.6</td>\n",
       "      <td>1001.4</td>\n",
       "      <td>7700.2</td>\n",
       "      <td>0.0</td>\n",
       "      <td>2.1</td>\n",
       "      <td>1005.3</td>\n",
       "      <td>...</td>\n",
       "      <td>333.0</td>\n",
       "      <td>3.0</td>\n",
       "      <td>7149.7</td>\n",
       "      <td>0.0</td>\n",
       "      <td>1.0</td>\n",
       "      <td>980.3</td>\n",
       "      <td>79.8</td>\n",
       "      <td>343.0</td>\n",
       "      <td>1.5</td>\n",
       "      <td>5839.9</td>\n",
       "    </tr>\n",
       "    <tr>\n",
       "      <th>...</th>\n",
       "      <td>...</td>\n",
       "      <td>...</td>\n",
       "      <td>...</td>\n",
       "      <td>...</td>\n",
       "      <td>...</td>\n",
       "      <td>...</td>\n",
       "      <td>...</td>\n",
       "      <td>...</td>\n",
       "      <td>...</td>\n",
       "      <td>...</td>\n",
       "      <td>...</td>\n",
       "      <td>...</td>\n",
       "      <td>...</td>\n",
       "      <td>...</td>\n",
       "      <td>...</td>\n",
       "      <td>...</td>\n",
       "      <td>...</td>\n",
       "      <td>...</td>\n",
       "      <td>...</td>\n",
       "      <td>...</td>\n",
       "      <td>...</td>\n",
       "    </tr>\n",
       "    <tr>\n",
       "      <th>3837</th>\n",
       "      <td>7.0</td>\n",
       "      <td>23.2</td>\n",
       "      <td>70.6</td>\n",
       "      <td>315.0</td>\n",
       "      <td>3.7</td>\n",
       "      <td>991.4</td>\n",
       "      <td>16440.8</td>\n",
       "      <td>0.0</td>\n",
       "      <td>27.8</td>\n",
       "      <td>990.2</td>\n",
       "      <td>...</td>\n",
       "      <td>320.0</td>\n",
       "      <td>2.2</td>\n",
       "      <td>11866.2</td>\n",
       "      <td>0.0</td>\n",
       "      <td>27.5</td>\n",
       "      <td>988.2</td>\n",
       "      <td>52.8</td>\n",
       "      <td>273.0</td>\n",
       "      <td>2.3</td>\n",
       "      <td>25786.5</td>\n",
       "    </tr>\n",
       "    <tr>\n",
       "      <th>3838</th>\n",
       "      <td>0.0</td>\n",
       "      <td>24.9</td>\n",
       "      <td>59.5</td>\n",
       "      <td>330.0</td>\n",
       "      <td>2.9</td>\n",
       "      <td>989.0</td>\n",
       "      <td>25228.8</td>\n",
       "      <td>7.0</td>\n",
       "      <td>23.2</td>\n",
       "      <td>991.4</td>\n",
       "      <td>...</td>\n",
       "      <td>306.0</td>\n",
       "      <td>2.2</td>\n",
       "      <td>16878.8</td>\n",
       "      <td>1.8</td>\n",
       "      <td>23.6</td>\n",
       "      <td>988.5</td>\n",
       "      <td>68.1</td>\n",
       "      <td>320.0</td>\n",
       "      <td>2.2</td>\n",
       "      <td>11866.2</td>\n",
       "    </tr>\n",
       "    <tr>\n",
       "      <th>3839</th>\n",
       "      <td>0.0</td>\n",
       "      <td>25.2</td>\n",
       "      <td>54.2</td>\n",
       "      <td>336.0</td>\n",
       "      <td>2.0</td>\n",
       "      <td>990.8</td>\n",
       "      <td>28751.0</td>\n",
       "      <td>0.0</td>\n",
       "      <td>24.9</td>\n",
       "      <td>989.0</td>\n",
       "      <td>...</td>\n",
       "      <td>279.0</td>\n",
       "      <td>2.3</td>\n",
       "      <td>26393.4</td>\n",
       "      <td>3.6</td>\n",
       "      <td>23.0</td>\n",
       "      <td>985.2</td>\n",
       "      <td>74.3</td>\n",
       "      <td>306.0</td>\n",
       "      <td>2.2</td>\n",
       "      <td>16878.8</td>\n",
       "    </tr>\n",
       "    <tr>\n",
       "      <th>3840</th>\n",
       "      <td>4.0</td>\n",
       "      <td>23.5</td>\n",
       "      <td>62.2</td>\n",
       "      <td>296.0</td>\n",
       "      <td>1.3</td>\n",
       "      <td>989.6</td>\n",
       "      <td>19994.8</td>\n",
       "      <td>0.0</td>\n",
       "      <td>25.2</td>\n",
       "      <td>990.8</td>\n",
       "      <td>...</td>\n",
       "      <td>272.0</td>\n",
       "      <td>2.3</td>\n",
       "      <td>21259.8</td>\n",
       "      <td>0.0</td>\n",
       "      <td>25.5</td>\n",
       "      <td>985.1</td>\n",
       "      <td>63.0</td>\n",
       "      <td>279.0</td>\n",
       "      <td>2.3</td>\n",
       "      <td>26393.4</td>\n",
       "    </tr>\n",
       "    <tr>\n",
       "      <th>3841</th>\n",
       "      <td>0.0</td>\n",
       "      <td>23.9</td>\n",
       "      <td>41.2</td>\n",
       "      <td>341.0</td>\n",
       "      <td>2.5</td>\n",
       "      <td>993.2</td>\n",
       "      <td>29513.0</td>\n",
       "      <td>4.0</td>\n",
       "      <td>23.5</td>\n",
       "      <td>989.6</td>\n",
       "      <td>...</td>\n",
       "      <td>315.0</td>\n",
       "      <td>2.6</td>\n",
       "      <td>28406.4</td>\n",
       "      <td>0.0</td>\n",
       "      <td>25.4</td>\n",
       "      <td>986.5</td>\n",
       "      <td>58.6</td>\n",
       "      <td>272.0</td>\n",
       "      <td>2.3</td>\n",
       "      <td>21259.8</td>\n",
       "    </tr>\n",
       "  </tbody>\n",
       "</table>\n",
       "<p>3076 rows × 56 columns</p>\n",
       "</div>"
      ],
      "text/plain": [
       "      rain  temp   hum  w_dir  w_sp   press      sol  rain 1 day/s earlier  \\\n",
       "7      0.0   3.9  61.6  348.0   2.5   990.6   7850.6                   0.0   \n",
       "8      0.0   3.5  60.6  330.0   1.5   997.2   7607.4                   0.0   \n",
       "9      0.0   4.1  56.8  349.0   1.9  1001.2   8116.0                   0.0   \n",
       "10     0.0   2.1  65.6  342.0   0.8  1005.3   7614.8                   0.0   \n",
       "11     0.0   0.6  80.6  336.0   0.6  1001.4   7700.2                   0.0   \n",
       "...    ...   ...   ...    ...   ...     ...      ...                   ...   \n",
       "3837   7.0  23.2  70.6  315.0   3.7   991.4  16440.8                   0.0   \n",
       "3838   0.0  24.9  59.5  330.0   2.9   989.0  25228.8                   7.0   \n",
       "3839   0.0  25.2  54.2  336.0   2.0   990.8  28751.0                   0.0   \n",
       "3840   4.0  23.5  62.2  296.0   1.3   989.6  19994.8                   0.0   \n",
       "3841   0.0  23.9  41.2  341.0   2.5   993.2  29513.0                   4.0   \n",
       "\n",
       "      temp 1 day/s earlier  press 1 day/s earlier  ...  w_dir 6 day/s earlier  \\\n",
       "7                      1.5                  991.4  ...                  348.0   \n",
       "8                      3.9                  990.6  ...                  329.0   \n",
       "9                      3.5                  997.2  ...                  337.0   \n",
       "10                     4.1                 1001.2  ...                  343.0   \n",
       "11                     2.1                 1005.3  ...                  333.0   \n",
       "...                    ...                    ...  ...                    ...   \n",
       "3837                  27.8                  990.2  ...                  320.0   \n",
       "3838                  23.2                  991.4  ...                  306.0   \n",
       "3839                  24.9                  989.0  ...                  279.0   \n",
       "3840                  25.2                  990.8  ...                  272.0   \n",
       "3841                  23.5                  989.6  ...                  315.0   \n",
       "\n",
       "      w_sp 6 day/s earlier  sol 6 day/s earlier  rain 7 day/s earlier  \\\n",
       "7                      1.0               1154.3                   0.0   \n",
       "8                      1.8               7082.0                  15.0   \n",
       "9                      1.0               3149.2                   0.6   \n",
       "10                     1.5               5839.9                   0.0   \n",
       "11                     3.0               7149.7                   0.0   \n",
       "...                    ...                  ...                   ...   \n",
       "3837                   2.2              11866.2                   0.0   \n",
       "3838                   2.2              16878.8                   1.8   \n",
       "3839                   2.3              26393.4                   3.6   \n",
       "3840                   2.3              21259.8                   0.0   \n",
       "3841                   2.6              28406.4                   0.0   \n",
       "\n",
       "      temp 7 day/s earlier  press 7 day/s earlier  hum 7 day/s earlier  \\\n",
       "7                      0.0                  995.5                 78.6   \n",
       "8                     -0.4                  994.7                 95.0   \n",
       "9                      3.6                  997.5                 86.8   \n",
       "10                     0.1                  993.7                 90.0   \n",
       "11                     1.0                  980.3                 79.8   \n",
       "...                    ...                    ...                  ...   \n",
       "3837                  27.5                  988.2                 52.8   \n",
       "3838                  23.6                  988.5                 68.1   \n",
       "3839                  23.0                  985.2                 74.3   \n",
       "3840                  25.5                  985.1                 63.0   \n",
       "3841                  25.4                  986.5                 58.6   \n",
       "\n",
       "      w_dir 7 day/s earlier  w_sp 7 day/s earlier  sol 7 day/s earlier  \n",
       "7                     342.0                   0.7               6433.5  \n",
       "8                     348.0                   1.0               1154.3  \n",
       "9                     329.0                   1.8               7082.0  \n",
       "10                    337.0                   1.0               3149.2  \n",
       "11                    343.0                   1.5               5839.9  \n",
       "...                     ...                   ...                  ...  \n",
       "3837                  273.0                   2.3              25786.5  \n",
       "3838                  320.0                   2.2              11866.2  \n",
       "3839                  306.0                   2.2              16878.8  \n",
       "3840                  279.0                   2.3              26393.4  \n",
       "3841                  272.0                   2.3              21259.8  \n",
       "\n",
       "[3076 rows x 56 columns]"
      ]
     },
     "execution_count": 1080,
     "metadata": {},
     "output_type": "execute_result"
    }
   ],
   "source": [
    "X_train"
   ]
  },
  {
   "cell_type": "code",
   "execution_count": 1081,
   "metadata": {},
   "outputs": [
    {
     "data": {
      "text/plain": [
       "<AxesSubplot:xlabel='Data'>"
      ]
     },
     "execution_count": 1081,
     "metadata": {},
     "output_type": "execute_result"
    },
    {
     "data": {
      "image/png": "[encoded data removed]",
      "text/plain": [
       "<Figure size 1080x360 with 1 Axes>"
      ]
     },
     "metadata": {
      "needs_background": "light"
     },
     "output_type": "display_data"
    }
   ],
   "source": [
    "fig, ax = plt.subplots(figsize=(15, 5))\n",
    "test_chart_data.plot(\"Data\", \"Valore\", ax=ax)\n",
    "test_chart_data.plot(\"Data\", \"pred\", ax=ax)"
   ]
  },
  {
   "cell_type": "code",
   "execution_count": 1082,
   "metadata": {},
   "outputs": [
    {
     "data": {
      "text/plain": [
       "(-5.0, 105.0)"
      ]
     },
     "execution_count": 1082,
     "metadata": {},
     "output_type": "execute_result"
    },
    {
     "data": {
      "image/png": "[encoded data removed]",
      "text/plain": [
       "<Figure size 360x360 with 1 Axes>"
      ]
     },
     "metadata": {
      "needs_background": "light"
     },
     "output_type": "display_data"
    }
   ],
   "source": [
    "fig, ax = plt.subplots(figsize=(5, 5))\n",
    "test_chart_data.plot.scatter(\"Valore\", \"pred\", alpha=0.3, ax=ax)\n",
    "ax.set_xlim(-5, 105)\n",
    "ax.set_ylim(-5, 105)"
   ]
  },
  {
   "cell_type": "code",
   "execution_count": 1083,
   "metadata": {},
   "outputs": [
    {
     "name": "stdout",
     "output_type": "stream",
     "text": [
      "Mean absolute error: 8.11\n",
      "Mean squared error: 107.04\n",
      "Root mean squared error: 10.35\n"
     ]
    }
   ],
   "source": [
    "mae = mean_absolute_error(y_test, y_pred)\n",
    "mse = mean_squared_error(y_test, y_pred)\n",
    "rmse = np.sqrt(mse)\n",
    "\n",
    "print(f'Mean absolute error: {mae:.2f}')\n",
    "print(f'Mean squared error: {mse:.2f}')\n",
    "print(f'Root mean squared error: {rmse:.2f}')"
   ]
  },
  {
   "cell_type": "code",
   "execution_count": 1084,
   "metadata": {},
   "outputs": [
    {
     "data": {
      "text/plain": [
       "0.7561016866093277"
      ]
     },
     "execution_count": 1084,
     "metadata": {},
     "output_type": "execute_result"
    }
   ],
   "source": [
    "regressor.score(X_test, y_test)"
   ]
  },
  {
   "cell_type": "code",
   "execution_count": 1085,
   "metadata": {},
   "outputs": [
    {
     "name": "stdout",
     "output_type": "stream",
     "text": [
      "R²: 0.7561016866093281\n"
     ]
    }
   ],
   "source": [
    "actual_minus_predicted = sum((y_test - y_pred)**2)\n",
    "actual_minus_actual_mean = sum((y_test - y_test.mean())**2)\n",
    "r2 = 1 - actual_minus_predicted/actual_minus_actual_mean\n",
    "print('R²:', r2)"
   ]
  },
  {
   "cell_type": "code",
   "execution_count": 1086,
   "metadata": {},
   "outputs": [
    {
     "data": {
      "image/png": "[encoded data removed]",
      "text/plain": [
       "<Figure size 720x720 with 1 Axes>"
      ]
     },
     "metadata": {
      "needs_background": "light"
     },
     "output_type": "display_data"
    }
   ],
   "source": [
    "fig = plt.figure(figsize=(10, 10))\n",
    "ax = fig.add_subplot()\n",
    "ax.barh(X_test.columns, regressor.feature_importances_)\n",
    "plt.show()"
   ]
  },
  {
   "cell_type": "code",
   "execution_count": 1087,
   "metadata": {},
   "outputs": [
    {
     "data": {
      "text/plain": [
       "'temp 3 day/s earlier'"
      ]
     },
     "execution_count": 1087,
     "metadata": {},
     "output_type": "execute_result"
    }
   ],
   "source": [
    "input_columns[22]"
   ]
  },
  {
   "cell_type": "code",
   "execution_count": 1095,
   "metadata": {},
   "outputs": [
    {
     "data": {
      "text/plain": [
       "['rain',\n",
       " 'temp',\n",
       " 'hum',\n",
       " 'w_dir',\n",
       " 'w_sp',\n",
       " 'press',\n",
       " 'sol',\n",
       " 'rain 1 day/s earlier',\n",
       " 'temp 1 day/s earlier',\n",
       " 'press 1 day/s earlier',\n",
       " 'hum 1 day/s earlier',\n",
       " 'w_dir 1 day/s earlier',\n",
       " 'w_sp 1 day/s earlier',\n",
       " 'sol 1 day/s earlier',\n",
       " 'rain 2 day/s earlier',\n",
       " 'temp 2 day/s earlier',\n",
       " 'press 2 day/s earlier',\n",
       " 'hum 2 day/s earlier',\n",
       " 'w_dir 2 day/s earlier',\n",
       " 'w_sp 2 day/s earlier',\n",
       " 'sol 2 day/s earlier',\n",
       " 'rain 3 day/s earlier',\n",
       " 'temp 3 day/s earlier',\n",
       " 'press 3 day/s earlier',\n",
       " 'hum 3 day/s earlier',\n",
       " 'w_dir 3 day/s earlier',\n",
       " 'w_sp 3 day/s earlier',\n",
       " 'sol 3 day/s earlier',\n",
       " 'rain 4 day/s earlier',\n",
       " 'temp 4 day/s earlier',\n",
       " 'press 4 day/s earlier',\n",
       " 'hum 4 day/s earlier',\n",
       " 'w_dir 4 day/s earlier',\n",
       " 'w_sp 4 day/s earlier',\n",
       " 'sol 4 day/s earlier',\n",
       " 'rain 5 day/s earlier',\n",
       " 'temp 5 day/s earlier',\n",
       " 'press 5 day/s earlier',\n",
       " 'hum 5 day/s earlier',\n",
       " 'w_dir 5 day/s earlier',\n",
       " 'w_sp 5 day/s earlier',\n",
       " 'sol 5 day/s earlier',\n",
       " 'rain 6 day/s earlier',\n",
       " 'temp 6 day/s earlier',\n",
       " 'press 6 day/s earlier',\n",
       " 'hum 6 day/s earlier',\n",
       " 'w_dir 6 day/s earlier',\n",
       " 'w_sp 6 day/s earlier',\n",
       " 'sol 6 day/s earlier',\n",
       " 'rain 7 day/s earlier',\n",
       " 'temp 7 day/s earlier',\n",
       " 'press 7 day/s earlier',\n",
       " 'hum 7 day/s earlier',\n",
       " 'w_dir 7 day/s earlier',\n",
       " 'w_sp 7 day/s earlier',\n",
       " 'sol 7 day/s earlier']"
      ]
     },
     "execution_count": 1095,
     "metadata": {},
     "output_type": "execute_result"
    }
   ],
   "source": [
    "input_columns"
   ]
  },
  {
   "cell_type": "code",
   "execution_count": null,
   "metadata": {},
   "outputs": [],
   "source": [
    "prev_val = test_chart_data.iloc[-365].Valore\n",
    "\n",
    "predictions1 = []\n",
    "predictions2 = []\n",
    "predictions3 = []\n",
    "\n",
    "for i, row in test_chart_data.iloc[-365:].iterrows():\n",
    "    row_array = row[input_columns].to_numpy()\n",
    "    \n",
    "    data_index = 4\n",
    "    change_value = 1\n",
    "\n",
    "    result1 = regressor.predict([row_array])[0]  # takes the predicted value\n",
    "    \n",
    "    for i in range(8):\n",
    "        row_array[data_index + 7*i] += change_value\n",
    "    result2 = regressor.predict([row_array])[0]  # takes the predicted value + 1 value\n",
    "\n",
    "    for i in range(8):\n",
    "        row_array[data_index + 7*i] -= change_value*2  # multiply by 2 because before it we added the same value\n",
    "    result3 = regressor.predict([row_array])[0]  # takes the predicted value - 1\n",
    "\n",
    "    predictions1.append(result1)\n",
    "    predictions2.append(result2)\n",
    "    predictions3.append(result3)"
   ]
  },
  {
   "cell_type": "code",
   "execution_count": 1135,
   "metadata": {},
   "outputs": [
    {
     "data": {
      "text/html": [
       "<div>\n",
       "<style scoped>\n",
       "    .dataframe tbody tr th:only-of-type {\n",
       "        vertical-align: middle;\n",
       "    }\n",
       "\n",
       "    .dataframe tbody tr th {\n",
       "        vertical-align: top;\n",
       "    }\n",
       "\n",
       "    .dataframe thead th {\n",
       "        text-align: right;\n",
       "    }\n",
       "</style>\n",
       "<table border=\"1\" class=\"dataframe\">\n",
       "  <thead>\n",
       "    <tr style=\"text-align: right;\">\n",
       "      <th></th>\n",
       "      <th>val3</th>\n",
       "      <th>val1</th>\n",
       "      <th>val2</th>\n",
       "    </tr>\n",
       "  </thead>\n",
       "  <tbody>\n",
       "    <tr>\n",
       "      <th>0</th>\n",
       "      <td>94.351019</td>\n",
       "      <td>88.397150</td>\n",
       "      <td>68.086575</td>\n",
       "    </tr>\n",
       "    <tr>\n",
       "      <th>1</th>\n",
       "      <td>83.124186</td>\n",
       "      <td>82.048769</td>\n",
       "      <td>64.738473</td>\n",
       "    </tr>\n",
       "    <tr>\n",
       "      <th>2</th>\n",
       "      <td>83.868756</td>\n",
       "      <td>80.835832</td>\n",
       "      <td>65.785569</td>\n",
       "    </tr>\n",
       "    <tr>\n",
       "      <th>3</th>\n",
       "      <td>75.651369</td>\n",
       "      <td>64.092126</td>\n",
       "      <td>42.562596</td>\n",
       "    </tr>\n",
       "    <tr>\n",
       "      <th>4</th>\n",
       "      <td>77.188959</td>\n",
       "      <td>70.362088</td>\n",
       "      <td>48.250598</td>\n",
       "    </tr>\n",
       "    <tr>\n",
       "      <th>...</th>\n",
       "      <td>...</td>\n",
       "      <td>...</td>\n",
       "      <td>...</td>\n",
       "    </tr>\n",
       "    <tr>\n",
       "      <th>360</th>\n",
       "      <td>77.514806</td>\n",
       "      <td>72.392202</td>\n",
       "      <td>63.411892</td>\n",
       "    </tr>\n",
       "    <tr>\n",
       "      <th>361</th>\n",
       "      <td>58.544306</td>\n",
       "      <td>43.230412</td>\n",
       "      <td>41.244514</td>\n",
       "    </tr>\n",
       "    <tr>\n",
       "      <th>362</th>\n",
       "      <td>58.297373</td>\n",
       "      <td>48.139622</td>\n",
       "      <td>40.420057</td>\n",
       "    </tr>\n",
       "    <tr>\n",
       "      <th>363</th>\n",
       "      <td>65.715430</td>\n",
       "      <td>58.692052</td>\n",
       "      <td>42.908471</td>\n",
       "    </tr>\n",
       "    <tr>\n",
       "      <th>364</th>\n",
       "      <td>75.258178</td>\n",
       "      <td>75.161982</td>\n",
       "      <td>62.176103</td>\n",
       "    </tr>\n",
       "  </tbody>\n",
       "</table>\n",
       "<p>365 rows × 3 columns</p>\n",
       "</div>"
      ],
      "text/plain": [
       "          val3       val1       val2\n",
       "0    94.351019  88.397150  68.086575\n",
       "1    83.124186  82.048769  64.738473\n",
       "2    83.868756  80.835832  65.785569\n",
       "3    75.651369  64.092126  42.562596\n",
       "4    77.188959  70.362088  48.250598\n",
       "..         ...        ...        ...\n",
       "360  77.514806  72.392202  63.411892\n",
       "361  58.544306  43.230412  41.244514\n",
       "362  58.297373  48.139622  40.420057\n",
       "363  65.715430  58.692052  42.908471\n",
       "364  75.258178  75.161982  62.176103\n",
       "\n",
       "[365 rows x 3 columns]"
      ]
     },
     "execution_count": 1135,
     "metadata": {},
     "output_type": "execute_result"
    }
   ],
   "source": [
    "data = {}\n",
    "\n",
    "diff_df = pd.DataFrame(data)\n",
    "diff_df[\"val3\"] = predictions3\n",
    "diff_df[\"val1\"] = predictions1\n",
    "diff_df[\"val2\"] = predictions2\n",
    "\n",
    "#diff_df[\"diff\"] = diff_df[\"val1\"] - diff_df[\"val2\"]\n",
    "\n",
    "diff_df"
   ]
  },
  {
   "cell_type": "code",
   "execution_count": 1136,
   "metadata": {},
   "outputs": [
    {
     "data": {
      "image/png": "[encoded data removed]",
      "text/plain": [
       "<Figure size 432x288 with 1 Axes>"
      ]
     },
     "metadata": {
      "needs_background": "light"
     },
     "output_type": "display_data"
    }
   ],
   "source": [
    "# NOT modified values\n",
    "\n",
    "plt.plot(predictions1, label = f\"+{change_value}\", alpha=0.7)\n",
    "plt.plot(test_chart_data.iloc[-365:].Valore.to_numpy(), label=\"true\", alpha=0.7)\n",
    "#plt.plot(predictions3, label =f\"-{change_value}\", color=\"red\", alpha=0.7)\n",
    "plt.legend()\n",
    "plt.show()"
   ]
  },
  {
   "cell_type": "code",
   "execution_count": 1137,
   "metadata": {},
   "outputs": [
    {
     "data": {
      "image/png": "[encoded data removed]",
      "text/plain": [
       "<Figure size 432x288 with 1 Axes>"
      ]
     },
     "metadata": {
      "needs_background": "light"
     },
     "output_type": "display_data"
    }
   ],
   "source": [
    "# Changed values\n",
    "plt.plot(predictions1, label = f\"+{change_value}\", alpha=0.7)\n",
    "plt.plot(test_chart_data.iloc[-365:].Valore.to_numpy(), label=\"true\")\n",
    "plt.plot(predictions3, label =f\"-{change_value}\", color=\"red\", alpha=0.7)\n",
    "plt.legend()\n",
    "plt.show()"
   ]
  },
  {
   "cell_type": "code",
   "execution_count": 1138,
   "metadata": {},
   "outputs": [
    {
     "data": {
      "image/png": "[encoded data removed]",
      "text/plain": [
       "<Figure size 432x288 with 1 Axes>"
      ]
     },
     "metadata": {
      "needs_background": "light"
     },
     "output_type": "display_data"
    }
   ],
   "source": [
    "# Difference between real values and modified vales\n",
    "\n",
    "plt.plot(predictions1, label=\"normal\")\n",
    "plt.plot(predictions2, label = f\"+{change_value}\")\n",
    "plt.plot(predictions3, label = f\"-{change_value}\", color=\"red\")\n",
    "plt.legend()\n",
    "plt.show()"
   ]
  },
  {
   "cell_type": "code",
   "execution_count": 1139,
   "metadata": {},
   "outputs": [],
   "source": [
    "# # Plot of a certain value\n",
    "\n",
    "# plt.plot(test_chart_data.iloc[-365:][\"temp\"].to_numpy())\n",
    "# plt.show()\n"
   ]
  },
  {
   "cell_type": "code",
   "execution_count": 1140,
   "metadata": {},
   "outputs": [],
   "source": [
    "#plt.scatter(test_chart_data[\"temp\"], test_chart_data[\"Valore\"], alpha=0.3)"
   ]
  },
  {
   "cell_type": "code",
   "execution_count": 1142,
   "metadata": {},
   "outputs": [
    {
     "data": {
      "image/png": "[encoded data removed]",
      "text/plain": [
       "<Figure size 432x288 with 1 Axes>"
      ]
     },
     "metadata": {
      "needs_background": "light"
     },
     "output_type": "display_data"
    }
   ],
   "source": [
    "colors = [\"red\", \"red\", \"red\"]\n",
    "bp = plt.boxplot(diff_df, patch_artist=True)\n",
    "plt.xticks([1, 2, 3], ['-1 m/s', 'Normal', '+1 m/s'])\n",
    "\n",
    "for patch, color in zip(bp[\"boxes\"], colors):\n",
    "    patch.set_facecolor(color)\n",
    "\n",
    "plt.grid()"
   ]
  },
  {
   "cell_type": "code",
   "execution_count": null,
   "metadata": {},
   "outputs": [],
   "source": []
  },
  {
   "cell_type": "code",
   "execution_count": null,
   "metadata": {},
   "outputs": [],
   "source": []
  },
  {
   "cell_type": "code",
   "execution_count": null,
   "metadata": {},
   "outputs": [],
   "source": []
  },
  {
   "cell_type": "code",
   "execution_count": null,
   "metadata": {},
   "outputs": [],
   "source": []
  },
  {
   "cell_type": "code",
   "execution_count": null,
   "metadata": {},
   "outputs": [],
   "source": []
  }
 ],
 "metadata": {
  "kernelspec": {
   "display_name": "Python 3.10.1 64-bit",
   "language": "python",
   "name": "python3"
  },
  "language_info": {
   "codemirror_mode": {
    "name": "ipython",
    "version": 3
   },
   "file_extension": ".py",
   "mimetype": "text/x-python",
   "name": "python",
   "nbconvert_exporter": "python",
   "pygments_lexer": "ipython3",
   "version": "3.10.1"
  },
  "orig_nbformat": 4,
  "vscode": {
   "interpreter": {
    "hash": "369f2c481f4da34e4445cda3fffd2e751bd1c4d706f27375911949ba6bb62e1c"
   }
  }
 },
 "nbformat": 4,
 "nbformat_minor": 2
}
